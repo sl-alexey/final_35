{
 "cells": [
  {
   "cell_type": "markdown",
   "id": "da6400d3-0d35-49d0-bfe6-ebb97547cc24",
   "metadata": {},
   "source": [
    "О сервисе «СберАвтоподписка»  \n",
    "«СберАвтоподписка» предлагает новый для российского рынка способ\n",
    "владения автомобилем и выступает в качестве альтернативы автокредиту.\n",
    "Машина — это актив, который быстро теряет в цене, поэтому мы\n",
    "рекомендуем вкладывать собственные средства в финансовые инструменты,\n",
    "а автомобиль брать во временное пользование за комфортную сумму\n",
    "в месяц."
   ]
  },
  {
   "cell_type": "markdown",
   "id": "28e5ef7e-8240-4a2f-8bf6-417513ae6385",
   "metadata": {},
   "source": [
    "#### Задача "
   ]
  },
  {
   "cell_type": "markdown",
   "id": "c2a59f2c-4f9b-4d75-9705-e81ebcc1d906",
   "metadata": {},
   "source": [
    "  - изучить предоставленный датасет,\n",
    "  - ответить на вопросы из общей части (подразумевающей базовую обработку данных и их разведочный анализ)  \n",
    "  - выполнить задание по специализации ML-инженер."
   ]
  },
  {
   "cell_type": "markdown",
   "id": "95412116-353b-4b14-9063-06f829b4a4ae",
   "metadata": {},
   "source": [
    "#### План работы "
   ]
  },
  {
   "cell_type": "markdown",
   "id": "bcf70a53-180d-4cbf-9b17-d80a11a0cf53",
   "metadata": {},
   "source": [
    "1. Подготовительная часть\n",
    "   - ознакомление с предоставленным датасетом и описание атрбиутов\n",
    "   - оценка и описательные статистики данных\n",
    "   - приведение данных к нормальному виду для дальнейшей работы\n",
    "2. Разведочный анализ данных\n",
    "   - базова чистка- проверка на дубликаты, пустые значения, типизация данных,\n",
    "     ненужные атрибуты\n",
    "   - распределения ключевых атрибутов и их отношение\n",
    "3. Задание\n",
    "   - предсказать cовершение целевого действия(ROC_AUC~0.65) - факт совершения\n",
    "     пользователем целевого действия\n",
    "   - упаковать модель в сервис, который будет брать на вход все атрибуты, типа utm_\\*, devace_\\*, geo_\\*,\n",
    "     и отдавать на выход 0/1(1-совершит любое целевое деиствие)\n",
    "\n",
    "\n",
    "\n",
    "\n",
    "\n",
    "   "
   ]
  },
  {
   "cell_type": "markdown",
   "id": "9ed21c9f-8bf5-4114-a1f0-5574172b3fbf",
   "metadata": {},
   "source": [
    "#### Описание представленных данных"
   ]
  },
  {
   "cell_type": "markdown",
   "id": "e6b8ba71-7ee9-495f-8fc9-3b32ab48f886",
   "metadata": {},
   "source": [
    "GA Sessions (ga_sessions.pkI)  \n",
    "*Одна строка  = Один визит на сайт*\n",
    "\n",
    "Описание атрибутов:\n",
    "\n",
    "•\tsession_id — ID визита  \n",
    "•\tclient_id — ID посетителя  \n",
    "•\tvisit_date — дата визита  \n",
    "•\tvisit_time — время визита  \n",
    "•\tvisit_number — порядковы номер визита клиента  \n",
    "•\tutm_source — канал привлечения  \n",
    "•\tutm_medium — тип привлечения  \n",
    "•\tutm_campaign — рекламная компания  \n",
    "•\tutm_keyword — ключевое слово  \n",
    "•\tdevice_category — тип устройства  \n",
    "•\tdevice_os — ОС устройства  \n",
    "•\tdevice_brand — марка устройства  \n",
    "•\tdevice_modeI — модель устройства  \n",
    "•\tdevice_screen_resolution — разрешение устройства  \n",
    "•\tdevice_browser — браузер  \n",
    "•\tgeo_country — страна  \n",
    "•\tgeo_city — город  \n"
   ]
  },
  {
   "cell_type": "markdown",
   "id": "f1407542-cb17-4472-b240-8d23b53eaa46",
   "metadata": {},
   "source": [
    "### Импорт пакетов"
   ]
  },
  {
   "cell_type": "code",
   "execution_count": 1,
   "id": "5fb1cb40-8152-4e5c-a37b-c4783909d5c8",
   "metadata": {},
   "outputs": [],
   "source": [
    "import pandas as pd\n",
    "import random\n",
    "\n",
    "import matplotlib.pyplot as plt\n",
    "import seaborn as sns\n",
    "\n",
    "from  datetime import datetime"
   ]
  },
  {
   "cell_type": "markdown",
   "id": "b001254d-a635-429d-84b2-16e47ecd5093",
   "metadata": {},
   "source": [
    "### Загрузка данных из файла"
   ]
  },
  {
   "cell_type": "code",
   "execution_count": 2,
   "id": "d6402654-521a-4bf7-bc8b-b17b1efb421f",
   "metadata": {},
   "outputs": [],
   "source": [
    "#df_sessions = pd.read_pickle('ga_sessions.pkl')\n",
    "df_sessions = pd.read_csv('data/ga_sessions.csv', low_memory=False)"
   ]
  },
  {
   "cell_type": "code",
   "execution_count": 3,
   "id": "cb4ffb91-19e1-4032-a921-ae40b8aa8237",
   "metadata": {},
   "outputs": [
    {
     "data": {
      "text/html": [
       "<div>\n",
       "<style scoped>\n",
       "    .dataframe tbody tr th:only-of-type {\n",
       "        vertical-align: middle;\n",
       "    }\n",
       "\n",
       "    .dataframe tbody tr th {\n",
       "        vertical-align: top;\n",
       "    }\n",
       "\n",
       "    .dataframe thead th {\n",
       "        text-align: right;\n",
       "    }\n",
       "</style>\n",
       "<table border=\"1\" class=\"dataframe\">\n",
       "  <thead>\n",
       "    <tr style=\"text-align: right;\">\n",
       "      <th></th>\n",
       "      <th>session_id</th>\n",
       "      <th>client_id</th>\n",
       "      <th>visit_date</th>\n",
       "      <th>visit_time</th>\n",
       "      <th>visit_number</th>\n",
       "      <th>utm_source</th>\n",
       "      <th>utm_medium</th>\n",
       "      <th>utm_campaign</th>\n",
       "      <th>utm_adcontent</th>\n",
       "      <th>utm_keyword</th>\n",
       "      <th>device_category</th>\n",
       "      <th>device_os</th>\n",
       "      <th>device_brand</th>\n",
       "      <th>device_model</th>\n",
       "      <th>device_screen_resolution</th>\n",
       "      <th>device_browser</th>\n",
       "      <th>geo_country</th>\n",
       "      <th>geo_city</th>\n",
       "    </tr>\n",
       "  </thead>\n",
       "  <tbody>\n",
       "    <tr>\n",
       "      <th>0</th>\n",
       "      <td>9055434745589932991.1637753792.1637753792</td>\n",
       "      <td>2108382700.1637753791</td>\n",
       "      <td>2021-11-24</td>\n",
       "      <td>14:36:32</td>\n",
       "      <td>1</td>\n",
       "      <td>ZpYIoDJMcFzVoPFsHGJL</td>\n",
       "      <td>banner</td>\n",
       "      <td>LEoPHuyFvzoNfnzGgfcd</td>\n",
       "      <td>vCIpmpaGBnIQhyYNkXqp</td>\n",
       "      <td>puhZPIYqKXeFPaUviSjo</td>\n",
       "      <td>mobile</td>\n",
       "      <td>Android</td>\n",
       "      <td>Huawei</td>\n",
       "      <td>NaN</td>\n",
       "      <td>360x720</td>\n",
       "      <td>Chrome</td>\n",
       "      <td>Russia</td>\n",
       "      <td>Zlatoust</td>\n",
       "    </tr>\n",
       "    <tr>\n",
       "      <th>1</th>\n",
       "      <td>905544597018549464.1636867290.1636867290</td>\n",
       "      <td>210838531.1636867288</td>\n",
       "      <td>2021-11-14</td>\n",
       "      <td>08:21:30</td>\n",
       "      <td>1</td>\n",
       "      <td>MvfHsxITijuriZxsqZqt</td>\n",
       "      <td>cpm</td>\n",
       "      <td>FTjNLDyTrXaWYgZymFkV</td>\n",
       "      <td>xhoenQgDQsgfEPYNPwKO</td>\n",
       "      <td>IGUCNvHlhfHpROGclCit</td>\n",
       "      <td>mobile</td>\n",
       "      <td>Android</td>\n",
       "      <td>Samsung</td>\n",
       "      <td>NaN</td>\n",
       "      <td>385x854</td>\n",
       "      <td>Samsung Internet</td>\n",
       "      <td>Russia</td>\n",
       "      <td>Moscow</td>\n",
       "    </tr>\n",
       "    <tr>\n",
       "      <th>2</th>\n",
       "      <td>9055446045651783499.1640648526.1640648526</td>\n",
       "      <td>2108385331.1640648523</td>\n",
       "      <td>2021-12-28</td>\n",
       "      <td>02:42:06</td>\n",
       "      <td>1</td>\n",
       "      <td>ZpYIoDJMcFzVoPFsHGJL</td>\n",
       "      <td>banner</td>\n",
       "      <td>LEoPHuyFvzoNfnzGgfcd</td>\n",
       "      <td>vCIpmpaGBnIQhyYNkXqp</td>\n",
       "      <td>puhZPIYqKXeFPaUviSjo</td>\n",
       "      <td>mobile</td>\n",
       "      <td>Android</td>\n",
       "      <td>Huawei</td>\n",
       "      <td>NaN</td>\n",
       "      <td>360x720</td>\n",
       "      <td>Chrome</td>\n",
       "      <td>Russia</td>\n",
       "      <td>Krasnoyarsk</td>\n",
       "    </tr>\n",
       "    <tr>\n",
       "      <th>3</th>\n",
       "      <td>9055447046360770272.1622255328.1622255328</td>\n",
       "      <td>2108385564.1622255328</td>\n",
       "      <td>2021-05-29</td>\n",
       "      <td>05:00:00</td>\n",
       "      <td>1</td>\n",
       "      <td>kjsLglQLzykiRbcDiGcD</td>\n",
       "      <td>cpc</td>\n",
       "      <td>NaN</td>\n",
       "      <td>NOBKLgtuvqYWkXQHeYWM</td>\n",
       "      <td>NaN</td>\n",
       "      <td>mobile</td>\n",
       "      <td>NaN</td>\n",
       "      <td>Xiaomi</td>\n",
       "      <td>NaN</td>\n",
       "      <td>393x786</td>\n",
       "      <td>Chrome</td>\n",
       "      <td>Russia</td>\n",
       "      <td>Moscow</td>\n",
       "    </tr>\n",
       "    <tr>\n",
       "      <th>4</th>\n",
       "      <td>9055447046360770272.1622255345.1622255345</td>\n",
       "      <td>2108385564.1622255328</td>\n",
       "      <td>2021-05-29</td>\n",
       "      <td>05:00:00</td>\n",
       "      <td>2</td>\n",
       "      <td>kjsLglQLzykiRbcDiGcD</td>\n",
       "      <td>cpc</td>\n",
       "      <td>NaN</td>\n",
       "      <td>NaN</td>\n",
       "      <td>NaN</td>\n",
       "      <td>mobile</td>\n",
       "      <td>NaN</td>\n",
       "      <td>Xiaomi</td>\n",
       "      <td>NaN</td>\n",
       "      <td>393x786</td>\n",
       "      <td>Chrome</td>\n",
       "      <td>Russia</td>\n",
       "      <td>Moscow</td>\n",
       "    </tr>\n",
       "  </tbody>\n",
       "</table>\n",
       "</div>"
      ],
      "text/plain": [
       "                                  session_id              client_id  \\\n",
       "0  9055434745589932991.1637753792.1637753792  2108382700.1637753791   \n",
       "1   905544597018549464.1636867290.1636867290   210838531.1636867288   \n",
       "2  9055446045651783499.1640648526.1640648526  2108385331.1640648523   \n",
       "3  9055447046360770272.1622255328.1622255328  2108385564.1622255328   \n",
       "4  9055447046360770272.1622255345.1622255345  2108385564.1622255328   \n",
       "\n",
       "   visit_date visit_time  visit_number            utm_source utm_medium  \\\n",
       "0  2021-11-24   14:36:32             1  ZpYIoDJMcFzVoPFsHGJL     banner   \n",
       "1  2021-11-14   08:21:30             1  MvfHsxITijuriZxsqZqt        cpm   \n",
       "2  2021-12-28   02:42:06             1  ZpYIoDJMcFzVoPFsHGJL     banner   \n",
       "3  2021-05-29   05:00:00             1  kjsLglQLzykiRbcDiGcD        cpc   \n",
       "4  2021-05-29   05:00:00             2  kjsLglQLzykiRbcDiGcD        cpc   \n",
       "\n",
       "           utm_campaign         utm_adcontent           utm_keyword  \\\n",
       "0  LEoPHuyFvzoNfnzGgfcd  vCIpmpaGBnIQhyYNkXqp  puhZPIYqKXeFPaUviSjo   \n",
       "1  FTjNLDyTrXaWYgZymFkV  xhoenQgDQsgfEPYNPwKO  IGUCNvHlhfHpROGclCit   \n",
       "2  LEoPHuyFvzoNfnzGgfcd  vCIpmpaGBnIQhyYNkXqp  puhZPIYqKXeFPaUviSjo   \n",
       "3                   NaN  NOBKLgtuvqYWkXQHeYWM                   NaN   \n",
       "4                   NaN                   NaN                   NaN   \n",
       "\n",
       "  device_category device_os device_brand device_model  \\\n",
       "0          mobile   Android       Huawei          NaN   \n",
       "1          mobile   Android      Samsung          NaN   \n",
       "2          mobile   Android       Huawei          NaN   \n",
       "3          mobile       NaN       Xiaomi          NaN   \n",
       "4          mobile       NaN       Xiaomi          NaN   \n",
       "\n",
       "  device_screen_resolution    device_browser geo_country     geo_city  \n",
       "0                  360x720            Chrome      Russia     Zlatoust  \n",
       "1                  385x854  Samsung Internet      Russia       Moscow  \n",
       "2                  360x720            Chrome      Russia  Krasnoyarsk  \n",
       "3                  393x786            Chrome      Russia       Moscow  \n",
       "4                  393x786            Chrome      Russia       Moscow  "
      ]
     },
     "execution_count": 3,
     "metadata": {},
     "output_type": "execute_result"
    }
   ],
   "source": [
    "# вывод 5 первых строк\n",
    "df_sessions.head()"
   ]
  },
  {
   "cell_type": "code",
   "execution_count": 4,
   "id": "8b160747-5615-4157-a6de-508478f1c7aa",
   "metadata": {},
   "outputs": [
    {
     "data": {
      "text/plain": [
       "(1860042, 18)"
      ]
     },
     "execution_count": 4,
     "metadata": {},
     "output_type": "execute_result"
    }
   ],
   "source": [
    "# размер датасета\n",
    "df_sessions.shape"
   ]
  },
  {
   "cell_type": "markdown",
   "id": "2ad14106-7800-4c1e-9847-2cb862492256",
   "metadata": {},
   "source": [
    "### Data Preparation"
   ]
  },
  {
   "cell_type": "markdown",
   "id": "f0ce35d8-55c0-486b-b71d-002df38cab44",
   "metadata": {},
   "source": [
    "### Предварительная проверка и обработка данных данных"
   ]
  },
  {
   "cell_type": "code",
   "execution_count": 5,
   "id": "5af0bd9b-33f1-4da9-9dd2-f519777addd8",
   "metadata": {},
   "outputs": [
    {
     "name": "stdout",
     "output_type": "stream",
     "text": [
      "<class 'pandas.core.frame.DataFrame'>\n",
      "RangeIndex: 1860042 entries, 0 to 1860041\n",
      "Data columns (total 18 columns):\n",
      " #   Column                    Dtype \n",
      "---  ------                    ----- \n",
      " 0   session_id                object\n",
      " 1   client_id                 object\n",
      " 2   visit_date                object\n",
      " 3   visit_time                object\n",
      " 4   visit_number              int64 \n",
      " 5   utm_source                object\n",
      " 6   utm_medium                object\n",
      " 7   utm_campaign              object\n",
      " 8   utm_adcontent             object\n",
      " 9   utm_keyword               object\n",
      " 10  device_category           object\n",
      " 11  device_os                 object\n",
      " 12  device_brand              object\n",
      " 13  device_model              object\n",
      " 14  device_screen_resolution  object\n",
      " 15  device_browser            object\n",
      " 16  geo_country               object\n",
      " 17  geo_city                  object\n",
      "dtypes: int64(1), object(17)\n",
      "memory usage: 255.4+ MB\n"
     ]
    }
   ],
   "source": [
    "# просмотр типов данных столбцов\n",
    "df_sessions.info()"
   ]
  },
  {
   "cell_type": "code",
   "execution_count": 6,
   "id": "0654bd0a-5144-47a3-a41a-2799839f4a70",
   "metadata": {},
   "outputs": [],
   "source": [
    "# просмотр описательных характеристик столбцов\n",
    "#df_sessions.describe()"
   ]
  },
  {
   "cell_type": "code",
   "execution_count": 7,
   "id": "31dbc30f-7760-46de-ab6b-c2b044080d18",
   "metadata": {},
   "outputs": [
    {
     "data": {
      "text/plain": [
       "0"
      ]
     },
     "execution_count": 7,
     "metadata": {},
     "output_type": "execute_result"
    }
   ],
   "source": [
    "# проверка на дубликаты \n",
    "df_sessions.duplicated().sum()"
   ]
  },
  {
   "cell_type": "code",
   "execution_count": 8,
   "id": "ea35f3c8-658a-4a7a-8d35-0f493c841cec",
   "metadata": {},
   "outputs": [
    {
     "data": {
      "text/plain": [
       "(0, 18)"
      ]
     },
     "execution_count": 8,
     "metadata": {},
     "output_type": "execute_result"
    }
   ],
   "source": [
    "df_sessions[df_sessions.duplicated()].shape"
   ]
  },
  {
   "cell_type": "code",
   "execution_count": 9,
   "id": "6477cea3-a0f9-4e0a-805b-afa05163e792",
   "metadata": {},
   "outputs": [
    {
     "data": {
      "text/plain": [
       "session_id                        0\n",
       "client_id                         0\n",
       "visit_date                        0\n",
       "visit_time                        0\n",
       "visit_number                      0\n",
       "utm_source                       97\n",
       "utm_medium                        0\n",
       "utm_campaign                 219603\n",
       "utm_adcontent                335615\n",
       "utm_keyword                 1082061\n",
       "device_category                   0\n",
       "device_os                   1070138\n",
       "device_brand                 367178\n",
       "device_model                1843704\n",
       "device_screen_resolution          0\n",
       "device_browser                    0\n",
       "geo_country                       0\n",
       "geo_city                          0\n",
       "dtype: int64"
      ]
     },
     "execution_count": 9,
     "metadata": {},
     "output_type": "execute_result"
    }
   ],
   "source": [
    "# проверка на нулевые значения\n",
    "df_sessions.isnull().sum()"
   ]
  },
  {
   "cell_type": "code",
   "execution_count": 10,
   "id": "e0a1ca40-6364-45db-a9a2-9b76fbe384bb",
   "metadata": {
    "scrolled": true
   },
   "outputs": [
    {
     "name": "stdout",
     "output_type": "stream",
     "text": [
      "0.00% --- session_id\n",
      "0.00% --- client_id\n",
      "0.00% --- visit_date\n",
      "0.00% --- visit_time\n",
      "0.00% --- visit_number\n",
      "0.01% --- utm_source\n",
      "0.00% --- utm_medium\n",
      "11.81% --- utm_campaign\n",
      "18.04% --- utm_adcontent\n",
      "58.17% --- utm_keyword\n",
      "0.00% --- device_category\n",
      "57.53% --- device_os\n",
      "19.74% --- device_brand\n",
      "99.12% --- device_model\n",
      "0.00% --- device_screen_resolution\n",
      "0.00% --- device_browser\n",
      "0.00% --- geo_country\n",
      "0.00% --- geo_city\n"
     ]
    }
   ],
   "source": [
    "# вывод процента нулевых значений в столбцах\n",
    "for col, is_null in zip(list(df_sessions.columns), df_sessions.isnull().sum()):    \n",
    "    print(f'{is_null/df_sessions.shape[0] * 100:.2f}% --- {col}')"
   ]
  },
  {
   "cell_type": "code",
   "execution_count": 11,
   "id": "7ff185e5-3ca9-4d0e-a603-85f73576bf0e",
   "metadata": {},
   "outputs": [
    {
     "data": {
      "text/plain": [
       "session_id                  1860042\n",
       "client_id                   1391719\n",
       "visit_date                      226\n",
       "visit_time                    85318\n",
       "visit_number                    537\n",
       "utm_source                      293\n",
       "utm_medium                       56\n",
       "utm_campaign                    412\n",
       "utm_adcontent                   286\n",
       "utm_keyword                    1219\n",
       "device_category                   3\n",
       "device_os                        13\n",
       "device_brand                    205\n",
       "device_model                    104\n",
       "device_screen_resolution       5039\n",
       "device_browser                   57\n",
       "geo_country                     166\n",
       "geo_city                       2548\n",
       "dtype: int64"
      ]
     },
     "execution_count": 11,
     "metadata": {},
     "output_type": "execute_result"
    }
   ],
   "source": [
    "# просмотр уникальных значений по столбцам\n",
    "df_sessions.nunique()"
   ]
  },
  {
   "cell_type": "code",
   "execution_count": 12,
   "id": "e8a9223c-92a1-4ef1-ad3b-7f80d149bf7c",
   "metadata": {},
   "outputs": [
    {
     "name": "stdout",
     "output_type": "stream",
     "text": [
      "столбцы с большим количеством пропусков ['utm_campaign', 'utm_adcontent', 'utm_keyword', 'device_os', 'device_brand', 'device_model']\n"
     ]
    }
   ],
   "source": [
    "# столбцы где пустых значений более 10%\n",
    "on_drop = []\n",
    "for col, is_null in zip(list(df_sessions.columns), df_sessions.isnull().sum()):\n",
    "    null_10 = is_null/df_sessions.shape[0] * 100\n",
    "    if null_10 > 10:\n",
    "        on_drop.append(col)\n",
    "\n",
    "print(f'столбцы с большим количеством пропусков {on_drop}')"
   ]
  },
  {
   "cell_type": "code",
   "execution_count": null,
   "id": "b159c4a1-ae1c-4f3a-baa2-11598b72ed12",
   "metadata": {},
   "outputs": [],
   "source": []
  },
  {
   "cell_type": "markdown",
   "id": "e003165e-6bd4-490a-a1ff-cde84dd11b70",
   "metadata": {},
   "source": [
    "####  Обработка пропусков в столбце utm_source"
   ]
  },
  {
   "cell_type": "code",
   "execution_count": 13,
   "id": "03e7a5b0-0a87-42c7-b264-0770d1fcc543",
   "metadata": {},
   "outputs": [
    {
     "data": {
      "text/plain": [
       "97"
      ]
     },
     "execution_count": 13,
     "metadata": {},
     "output_type": "execute_result"
    }
   ],
   "source": [
    "# количество пропусков\n",
    "df_sessions.utm_source.isna().sum()"
   ]
  },
  {
   "cell_type": "code",
   "execution_count": 14,
   "id": "359a2fac-f53f-43e9-b35b-f3825728509b",
   "metadata": {},
   "outputs": [
    {
     "data": {
      "text/plain": [
       "utm_source\n",
       "ZpYIoDJMcFzVoPFsHGJL    578290\n",
       "fDLlAcSmythWSCVMvqvL    300575\n",
       "kjsLglQLzykiRbcDiGcD    266354\n",
       "MvfHsxITijuriZxsqZqt    186199\n",
       "BHcvLfOaCWvWTykYqHVe    116320\n",
       "                         ...  \n",
       "GYkgJdhSxirUFPHFiYSe         1\n",
       "WRHPhoRKhKxaenRCLBfo         1\n",
       "tjKUGseGMhkLEzdCqBRx         1\n",
       "wpmatvDuiMutnvmNVPJo         1\n",
       "BellrslNBZQZaIxVFGXJ         1\n",
       "Name: count, Length: 293, dtype: int64"
      ]
     },
     "execution_count": 14,
     "metadata": {},
     "output_type": "execute_result"
    }
   ],
   "source": [
    "df_sessions.utm_source.value_counts()"
   ]
  },
  {
   "cell_type": "code",
   "execution_count": 15,
   "id": "dfdb9996-87c2-4632-8547-0e786c8826b3",
   "metadata": {},
   "outputs": [],
   "source": [
    "# заполним пропуски самым популярным значением из канала привлечения\n",
    "df_sessions.utm_source = df_sessions.utm_source.fillna('ZpYIoDJMcFzVoPFsHGJL')"
   ]
  },
  {
   "cell_type": "code",
   "execution_count": 16,
   "id": "84b6b4d9-83da-46a2-ac5b-190427223adf",
   "metadata": {},
   "outputs": [
    {
     "data": {
      "text/plain": [
       "0"
      ]
     },
     "execution_count": 16,
     "metadata": {},
     "output_type": "execute_result"
    }
   ],
   "source": [
    "# проверка на пропуски после заполнения\n",
    "df_sessions.utm_source.isna().sum()"
   ]
  },
  {
   "cell_type": "code",
   "execution_count": 117,
   "id": "63871681-049b-466f-a00e-1410edff2c02",
   "metadata": {},
   "outputs": [
    {
     "data": {
      "image/png": "[encoded data removed]",
      "text/plain": [
       "<Figure size 1600x400 with 1 Axes>"
      ]
     },
     "metadata": {},
     "output_type": "display_data"
    }
   ],
   "source": [
    "# график распределения параметров по каналу привлечения\n",
    "plt.figure(figsize=(16,4))\n",
    "plt.xticks([])\n",
    "plt.xlabel('utm_source')\n",
    "sns.histplot(data=df_sessions, x='utm_source', color='skyblue')\n",
    "plt.title('Гистограмма распределения utm_source')\n",
    "plt.show()"
   ]
  },
  {
   "cell_type": "markdown",
   "id": "d472a438-3591-4daa-a79b-710c554abe7c",
   "metadata": {},
   "source": [
    "#### Обработка значений в столбце utm_medium"
   ]
  },
  {
   "cell_type": "code",
   "execution_count": 18,
   "id": "3837e97e-a75d-4064-b35e-ca0c0ce0a00a",
   "metadata": {
    "scrolled": true
   },
   "outputs": [
    {
     "data": {
      "text/plain": [
       "utm_medium\n",
       "banner               552272\n",
       "cpc                  434794\n",
       "(none)               300575\n",
       "cpm                  242083\n",
       "referral             152050\n",
       "organic               63034\n",
       "email                 29240\n",
       "push                  28035\n",
       "stories               10582\n",
       "cpv                    8022\n",
       "blogger_channel        8015\n",
       "smartbanner            6794\n",
       "blogger_stories        4312\n",
       "cpa                    4279\n",
       "tg                     4011\n",
       "app                    2836\n",
       "post                   2326\n",
       "smm                    1985\n",
       "outlook                1332\n",
       "clicks                  934\n",
       "blogger_header          771\n",
       "(not set)               480\n",
       "info_text               343\n",
       "sms                     239\n",
       "landing                 134\n",
       "partner                  97\n",
       "fb_smm                   66\n",
       "vk_smm                   65\n",
       "link                     57\n",
       "cbaafe                   47\n",
       "CPM                      40\n",
       "yandex_cpc               36\n",
       "ok_smm                   28\n",
       "static                   22\n",
       "google_cpc               20\n",
       "article                  17\n",
       "nkp                      14\n",
       "web_polka                11\n",
       "social                    9\n",
       "medium                    8\n",
       "main_polka                4\n",
       "catalogue                 4\n",
       "users_msk                 3\n",
       "reach                     2\n",
       "promo_sber                2\n",
       "linktest                  2\n",
       "promo_sbol                1\n",
       "Sbol_catalog              1\n",
       "desktop                   1\n",
       "dom_click                 1\n",
       "tablet                    1\n",
       "sber_app                  1\n",
       "last                      1\n",
       "qr                        1\n",
       "qrcodevideo               1\n",
       "landing_interests         1\n",
       "Name: count, dtype: int64"
      ]
     },
     "execution_count": 18,
     "metadata": {},
     "output_type": "execute_result"
    }
   ],
   "source": [
    "# просмотр пипов значений\n",
    "df_sessions.utm_medium.value_counts()"
   ]
  },
  {
   "cell_type": "code",
   "execution_count": 19,
   "id": "2955c3e3-bf9c-4569-89bd-9376e3c002ef",
   "metadata": {},
   "outputs": [
    {
     "data": {
      "text/plain": [
       "array(['banner', 'cpm', 'cpc', 'organic', '(none)', 'referral', 'smm',\n",
       "       'stories', 'blogger_channel', 'blogger_stories', 'email', 'app',\n",
       "       'vk_smm', 'cpv', 'push', 'partner', 'tg', 'cpa', 'post',\n",
       "       'smartbanner', 'info_text', 'outlook', 'clicks', 'landing',\n",
       "       'blogger_header', 'qr', '(not set)', 'fb_smm', 'nkp', 'google_cpc',\n",
       "       'sms', 'article', 'users_msk', 'static', 'ok_smm', 'cbaafe',\n",
       "       'Sbol_catalog', 'landing_interests', 'yandex_cpc', 'web_polka',\n",
       "       'linktest', 'sber_app', 'CPM', 'medium', 'tablet', 'promo_sbol',\n",
       "       'reach', 'desktop', 'dom_click', 'social', 'catalogue',\n",
       "       'main_polka', 'last', 'link', 'qrcodevideo', 'promo_sber'],\n",
       "      dtype=object)"
      ]
     },
     "execution_count": 19,
     "metadata": {},
     "output_type": "execute_result"
    }
   ],
   "source": [
    "# просмотр уникальных значений \n",
    "df_sessions.utm_medium.unique()"
   ]
  },
  {
   "cell_type": "code",
   "execution_count": 20,
   "id": "a99bd693-2f18-497c-b8a1-1fec87e9b2b0",
   "metadata": {},
   "outputs": [],
   "source": [
    "# заполню значения (not set) модой\n",
    "df_sessions['utm_medium'] = df_sessions.apply(lambda x: df_sessions.utm_medium.mode()[0] if x['utm_medium'] == '(not set)'\n",
    "                                             else x['utm_medium'], axis=1)"
   ]
  },
  {
   "cell_type": "code",
   "execution_count": 21,
   "id": "1c5b1465-81aa-471f-b216-2b5be26350b6",
   "metadata": {},
   "outputs": [],
   "source": [
    "# замена значений '(none)' на 'organic'\n",
    "df_sessions['utm_medium'] = df_sessions.apply(lambda x: 'organic' if x['utm_medium'] == '(none)'\n",
    "                                             else x['utm_medium'], axis=1)"
   ]
  },
  {
   "cell_type": "code",
   "execution_count": 110,
   "id": "b5ea8d74-de12-463f-ab7f-0ac5be101a08",
   "metadata": {},
   "outputs": [
    {
     "data": {
      "image/png": "[encoded data removed]",
      "text/plain": [
       "<Figure size 800x400 with 1 Axes>"
      ]
     },
     "metadata": {},
     "output_type": "display_data"
    }
   ],
   "source": [
    "# график распределения параметров по типу привлечения\n",
    "plt.figure(figsize=(8,4))\n",
    "plt.xticks([])\n",
    "plt.xlabel('utm_medium')\n",
    "sns.histplot(data=df_sessions, x='utm_medium', color='skyblue')\n",
    "plt.title('Гистограмма распределения utm_medium')\n",
    "plt.show()"
   ]
  },
  {
   "cell_type": "markdown",
   "id": "ffc67831-cc6a-4dd2-bb37-c90f75b2635e",
   "metadata": {},
   "source": [
    "#### Обработка пропусков в столбце device_os"
   ]
  },
  {
   "cell_type": "code",
   "execution_count": 23,
   "id": "a49344bc-9a2c-4e10-82bc-9894d76c6781",
   "metadata": {},
   "outputs": [
    {
     "data": {
      "text/plain": [
       "1070138"
      ]
     },
     "execution_count": 23,
     "metadata": {},
     "output_type": "execute_result"
    }
   ],
   "source": [
    "# количество пропусков\n",
    "df_sessions.device_os.isna().sum()"
   ]
  },
  {
   "cell_type": "code",
   "execution_count": 24,
   "id": "960c6a4f-44b3-429b-b572-1bd8859a9394",
   "metadata": {},
   "outputs": [
    {
     "data": {
      "text/plain": [
       "device_os\n",
       "NaN              1070138\n",
       "Android           464054\n",
       "iOS               207104\n",
       "Windows            88307\n",
       "Macintosh          24824\n",
       "Linux               5120\n",
       "(not set)            364\n",
       "Chrome OS             83\n",
       "BlackBerry            27\n",
       "Tizen                  7\n",
       "Samsung                4\n",
       "Windows Phone          4\n",
       "Firefox OS             3\n",
       "Nokia                  3\n",
       "Name: count, dtype: int64"
      ]
     },
     "execution_count": 24,
     "metadata": {},
     "output_type": "execute_result"
    }
   ],
   "source": [
    "# просмтор типов OS на устройствах\n",
    "df_sessions.device_os.value_counts(dropna=False)"
   ]
  },
  {
   "cell_type": "code",
   "execution_count": 25,
   "id": "bd584c66-05b3-4f74-85c1-481dd92899ad",
   "metadata": {},
   "outputs": [
    {
     "data": {
      "text/html": [
       "<div>\n",
       "<style scoped>\n",
       "    .dataframe tbody tr th:only-of-type {\n",
       "        vertical-align: middle;\n",
       "    }\n",
       "\n",
       "    .dataframe tbody tr th {\n",
       "        vertical-align: top;\n",
       "    }\n",
       "\n",
       "    .dataframe thead th {\n",
       "        text-align: right;\n",
       "    }\n",
       "</style>\n",
       "<table border=\"1\" class=\"dataframe\">\n",
       "  <thead>\n",
       "    <tr style=\"text-align: right;\">\n",
       "      <th></th>\n",
       "      <th>session_id</th>\n",
       "      <th>client_id</th>\n",
       "      <th>visit_date</th>\n",
       "      <th>visit_time</th>\n",
       "      <th>visit_number</th>\n",
       "      <th>utm_source</th>\n",
       "      <th>utm_medium</th>\n",
       "      <th>utm_campaign</th>\n",
       "      <th>utm_adcontent</th>\n",
       "      <th>utm_keyword</th>\n",
       "      <th>device_category</th>\n",
       "      <th>device_os</th>\n",
       "      <th>device_brand</th>\n",
       "      <th>device_model</th>\n",
       "      <th>device_screen_resolution</th>\n",
       "      <th>device_browser</th>\n",
       "      <th>geo_country</th>\n",
       "      <th>geo_city</th>\n",
       "    </tr>\n",
       "  </thead>\n",
       "  <tbody>\n",
       "    <tr>\n",
       "      <th>3</th>\n",
       "      <td>9055447046360770272.1622255328.1622255328</td>\n",
       "      <td>2108385564.1622255328</td>\n",
       "      <td>2021-05-29</td>\n",
       "      <td>05:00:00</td>\n",
       "      <td>1</td>\n",
       "      <td>kjsLglQLzykiRbcDiGcD</td>\n",
       "      <td>cpc</td>\n",
       "      <td>NaN</td>\n",
       "      <td>NOBKLgtuvqYWkXQHeYWM</td>\n",
       "      <td>NaN</td>\n",
       "      <td>mobile</td>\n",
       "      <td>NaN</td>\n",
       "      <td>Xiaomi</td>\n",
       "      <td>NaN</td>\n",
       "      <td>393x786</td>\n",
       "      <td>Chrome</td>\n",
       "      <td>Russia</td>\n",
       "      <td>Moscow</td>\n",
       "    </tr>\n",
       "    <tr>\n",
       "      <th>4</th>\n",
       "      <td>9055447046360770272.1622255345.1622255345</td>\n",
       "      <td>2108385564.1622255328</td>\n",
       "      <td>2021-05-29</td>\n",
       "      <td>05:00:00</td>\n",
       "      <td>2</td>\n",
       "      <td>kjsLglQLzykiRbcDiGcD</td>\n",
       "      <td>cpc</td>\n",
       "      <td>NaN</td>\n",
       "      <td>NaN</td>\n",
       "      <td>NaN</td>\n",
       "      <td>mobile</td>\n",
       "      <td>NaN</td>\n",
       "      <td>Xiaomi</td>\n",
       "      <td>NaN</td>\n",
       "      <td>393x786</td>\n",
       "      <td>Chrome</td>\n",
       "      <td>Russia</td>\n",
       "      <td>Moscow</td>\n",
       "    </tr>\n",
       "    <tr>\n",
       "      <th>5</th>\n",
       "      <td>9055447192389856083.1622453074.1622453074</td>\n",
       "      <td>2108385598.1622453075</td>\n",
       "      <td>2021-05-31</td>\n",
       "      <td>12:00:00</td>\n",
       "      <td>1</td>\n",
       "      <td>kjsLglQLzykiRbcDiGcD</td>\n",
       "      <td>organic</td>\n",
       "      <td>LTuZkdKfxRGVceoWkVyg</td>\n",
       "      <td>JNHcPlZPxEMWDnRiyoBf</td>\n",
       "      <td>NaN</td>\n",
       "      <td>mobile</td>\n",
       "      <td>NaN</td>\n",
       "      <td>Apple</td>\n",
       "      <td>NaN</td>\n",
       "      <td>375x812</td>\n",
       "      <td>Safari</td>\n",
       "      <td>Russia</td>\n",
       "      <td>Saint Petersburg</td>\n",
       "    </tr>\n",
       "    <tr>\n",
       "      <th>7</th>\n",
       "      <td>9055461992850812764.1626107740.1626107740</td>\n",
       "      <td>2108389044.1626107740</td>\n",
       "      <td>2021-07-12</td>\n",
       "      <td>19:00:00</td>\n",
       "      <td>1</td>\n",
       "      <td>ZpYIoDJMcFzVoPFsHGJL</td>\n",
       "      <td>banner</td>\n",
       "      <td>LEoPHuyFvzoNfnzGgfcd</td>\n",
       "      <td>JNHcPlZPxEMWDnRiyoBf</td>\n",
       "      <td>NaN</td>\n",
       "      <td>mobile</td>\n",
       "      <td>NaN</td>\n",
       "      <td>Samsung</td>\n",
       "      <td>NaN</td>\n",
       "      <td>360x640</td>\n",
       "      <td>Chrome</td>\n",
       "      <td>Russia</td>\n",
       "      <td>Saint Petersburg</td>\n",
       "    </tr>\n",
       "    <tr>\n",
       "      <th>9</th>\n",
       "      <td>9055466554104774132.1624800757.1624800757</td>\n",
       "      <td>2108390106.1624800756</td>\n",
       "      <td>2021-06-27</td>\n",
       "      <td>16:00:00</td>\n",
       "      <td>1</td>\n",
       "      <td>ZpYIoDJMcFzVoPFsHGJL</td>\n",
       "      <td>banner</td>\n",
       "      <td>LEoPHuyFvzoNfnzGgfcd</td>\n",
       "      <td>JNHcPlZPxEMWDnRiyoBf</td>\n",
       "      <td>NaN</td>\n",
       "      <td>mobile</td>\n",
       "      <td>NaN</td>\n",
       "      <td>Samsung</td>\n",
       "      <td>NaN</td>\n",
       "      <td>412x915</td>\n",
       "      <td>Chrome</td>\n",
       "      <td>Russia</td>\n",
       "      <td>Moscow</td>\n",
       "    </tr>\n",
       "    <tr>\n",
       "      <th>10</th>\n",
       "      <td>9055466554104774132.1629442326.1629442326</td>\n",
       "      <td>2108390106.1624800756</td>\n",
       "      <td>2021-08-20</td>\n",
       "      <td>09:00:00</td>\n",
       "      <td>2</td>\n",
       "      <td>ZpYIoDJMcFzVoPFsHGJL</td>\n",
       "      <td>banner</td>\n",
       "      <td>LEoPHuyFvzoNfnzGgfcd</td>\n",
       "      <td>JNHcPlZPxEMWDnRiyoBf</td>\n",
       "      <td>NaN</td>\n",
       "      <td>mobile</td>\n",
       "      <td>NaN</td>\n",
       "      <td>Samsung</td>\n",
       "      <td>NaN</td>\n",
       "      <td>412x915</td>\n",
       "      <td>Chrome</td>\n",
       "      <td>Russia</td>\n",
       "      <td>Moscow</td>\n",
       "    </tr>\n",
       "    <tr>\n",
       "      <th>11</th>\n",
       "      <td>9055469620715506713.1628883994.1628883994</td>\n",
       "      <td>2108390820.1628883993</td>\n",
       "      <td>2021-08-13</td>\n",
       "      <td>22:00:00</td>\n",
       "      <td>1</td>\n",
       "      <td>fDLlAcSmythWSCVMvqvL</td>\n",
       "      <td>organic</td>\n",
       "      <td>LTuZkdKfxRGVceoWkVyg</td>\n",
       "      <td>JNHcPlZPxEMWDnRiyoBf</td>\n",
       "      <td>NaN</td>\n",
       "      <td>mobile</td>\n",
       "      <td>NaN</td>\n",
       "      <td>Samsung</td>\n",
       "      <td>NaN</td>\n",
       "      <td>412x869</td>\n",
       "      <td>Android Webview</td>\n",
       "      <td>Russia</td>\n",
       "      <td>Saint Petersburg</td>\n",
       "    </tr>\n",
       "    <tr>\n",
       "      <th>12</th>\n",
       "      <td>9055469620715506713.1633110583.1633110583</td>\n",
       "      <td>2108390820.1628883993</td>\n",
       "      <td>2021-10-01</td>\n",
       "      <td>20:00:00</td>\n",
       "      <td>2</td>\n",
       "      <td>fDLlAcSmythWSCVMvqvL</td>\n",
       "      <td>organic</td>\n",
       "      <td>LTuZkdKfxRGVceoWkVyg</td>\n",
       "      <td>JNHcPlZPxEMWDnRiyoBf</td>\n",
       "      <td>NaN</td>\n",
       "      <td>mobile</td>\n",
       "      <td>NaN</td>\n",
       "      <td>Samsung</td>\n",
       "      <td>NaN</td>\n",
       "      <td>412x869</td>\n",
       "      <td>Android Webview</td>\n",
       "      <td>Russia</td>\n",
       "      <td>Saint Petersburg</td>\n",
       "    </tr>\n",
       "    <tr>\n",
       "      <th>15</th>\n",
       "      <td>9055476398179250925.1634235280.1634235280</td>\n",
       "      <td>2108392398.1634235117</td>\n",
       "      <td>2021-10-14</td>\n",
       "      <td>21:00:00</td>\n",
       "      <td>1</td>\n",
       "      <td>ZpYIoDJMcFzVoPFsHGJL</td>\n",
       "      <td>banner</td>\n",
       "      <td>gecBYcKZCPMcVYdSSzKP</td>\n",
       "      <td>JNHcPlZPxEMWDnRiyoBf</td>\n",
       "      <td>NaN</td>\n",
       "      <td>mobile</td>\n",
       "      <td>NaN</td>\n",
       "      <td>Samsung</td>\n",
       "      <td>NaN</td>\n",
       "      <td>412x915</td>\n",
       "      <td>Chrome</td>\n",
       "      <td>Russia</td>\n",
       "      <td>Yaroslavl</td>\n",
       "    </tr>\n",
       "    <tr>\n",
       "      <th>17</th>\n",
       "      <td>9055487955932503299.1630493885.1630493885</td>\n",
       "      <td>2108395089.1630493955</td>\n",
       "      <td>2021-09-01</td>\n",
       "      <td>13:00:00</td>\n",
       "      <td>1</td>\n",
       "      <td>ZpYIoDJMcFzVoPFsHGJL</td>\n",
       "      <td>banner</td>\n",
       "      <td>gecBYcKZCPMcVYdSSzKP</td>\n",
       "      <td>JNHcPlZPxEMWDnRiyoBf</td>\n",
       "      <td>NaN</td>\n",
       "      <td>mobile</td>\n",
       "      <td>NaN</td>\n",
       "      <td>Xiaomi</td>\n",
       "      <td>NaN</td>\n",
       "      <td>393x786</td>\n",
       "      <td>Chrome</td>\n",
       "      <td>Russia</td>\n",
       "      <td>Mytishchi</td>\n",
       "    </tr>\n",
       "  </tbody>\n",
       "</table>\n",
       "</div>"
      ],
      "text/plain": [
       "                                   session_id              client_id  \\\n",
       "3   9055447046360770272.1622255328.1622255328  2108385564.1622255328   \n",
       "4   9055447046360770272.1622255345.1622255345  2108385564.1622255328   \n",
       "5   9055447192389856083.1622453074.1622453074  2108385598.1622453075   \n",
       "7   9055461992850812764.1626107740.1626107740  2108389044.1626107740   \n",
       "9   9055466554104774132.1624800757.1624800757  2108390106.1624800756   \n",
       "10  9055466554104774132.1629442326.1629442326  2108390106.1624800756   \n",
       "11  9055469620715506713.1628883994.1628883994  2108390820.1628883993   \n",
       "12  9055469620715506713.1633110583.1633110583  2108390820.1628883993   \n",
       "15  9055476398179250925.1634235280.1634235280  2108392398.1634235117   \n",
       "17  9055487955932503299.1630493885.1630493885  2108395089.1630493955   \n",
       "\n",
       "    visit_date visit_time  visit_number            utm_source utm_medium  \\\n",
       "3   2021-05-29   05:00:00             1  kjsLglQLzykiRbcDiGcD        cpc   \n",
       "4   2021-05-29   05:00:00             2  kjsLglQLzykiRbcDiGcD        cpc   \n",
       "5   2021-05-31   12:00:00             1  kjsLglQLzykiRbcDiGcD    organic   \n",
       "7   2021-07-12   19:00:00             1  ZpYIoDJMcFzVoPFsHGJL     banner   \n",
       "9   2021-06-27   16:00:00             1  ZpYIoDJMcFzVoPFsHGJL     banner   \n",
       "10  2021-08-20   09:00:00             2  ZpYIoDJMcFzVoPFsHGJL     banner   \n",
       "11  2021-08-13   22:00:00             1  fDLlAcSmythWSCVMvqvL    organic   \n",
       "12  2021-10-01   20:00:00             2  fDLlAcSmythWSCVMvqvL    organic   \n",
       "15  2021-10-14   21:00:00             1  ZpYIoDJMcFzVoPFsHGJL     banner   \n",
       "17  2021-09-01   13:00:00             1  ZpYIoDJMcFzVoPFsHGJL     banner   \n",
       "\n",
       "            utm_campaign         utm_adcontent utm_keyword device_category  \\\n",
       "3                    NaN  NOBKLgtuvqYWkXQHeYWM         NaN          mobile   \n",
       "4                    NaN                   NaN         NaN          mobile   \n",
       "5   LTuZkdKfxRGVceoWkVyg  JNHcPlZPxEMWDnRiyoBf         NaN          mobile   \n",
       "7   LEoPHuyFvzoNfnzGgfcd  JNHcPlZPxEMWDnRiyoBf         NaN          mobile   \n",
       "9   LEoPHuyFvzoNfnzGgfcd  JNHcPlZPxEMWDnRiyoBf         NaN          mobile   \n",
       "10  LEoPHuyFvzoNfnzGgfcd  JNHcPlZPxEMWDnRiyoBf         NaN          mobile   \n",
       "11  LTuZkdKfxRGVceoWkVyg  JNHcPlZPxEMWDnRiyoBf         NaN          mobile   \n",
       "12  LTuZkdKfxRGVceoWkVyg  JNHcPlZPxEMWDnRiyoBf         NaN          mobile   \n",
       "15  gecBYcKZCPMcVYdSSzKP  JNHcPlZPxEMWDnRiyoBf         NaN          mobile   \n",
       "17  gecBYcKZCPMcVYdSSzKP  JNHcPlZPxEMWDnRiyoBf         NaN          mobile   \n",
       "\n",
       "   device_os device_brand device_model device_screen_resolution  \\\n",
       "3        NaN       Xiaomi          NaN                  393x786   \n",
       "4        NaN       Xiaomi          NaN                  393x786   \n",
       "5        NaN        Apple          NaN                  375x812   \n",
       "7        NaN      Samsung          NaN                  360x640   \n",
       "9        NaN      Samsung          NaN                  412x915   \n",
       "10       NaN      Samsung          NaN                  412x915   \n",
       "11       NaN      Samsung          NaN                  412x869   \n",
       "12       NaN      Samsung          NaN                  412x869   \n",
       "15       NaN      Samsung          NaN                  412x915   \n",
       "17       NaN       Xiaomi          NaN                  393x786   \n",
       "\n",
       "     device_browser geo_country          geo_city  \n",
       "3            Chrome      Russia            Moscow  \n",
       "4            Chrome      Russia            Moscow  \n",
       "5            Safari      Russia  Saint Petersburg  \n",
       "7            Chrome      Russia  Saint Petersburg  \n",
       "9            Chrome      Russia            Moscow  \n",
       "10           Chrome      Russia            Moscow  \n",
       "11  Android Webview      Russia  Saint Petersburg  \n",
       "12  Android Webview      Russia  Saint Petersburg  \n",
       "15           Chrome      Russia         Yaroslavl  \n",
       "17           Chrome      Russia         Mytishchi  "
      ]
     },
     "execution_count": 25,
     "metadata": {},
     "output_type": "execute_result"
    }
   ],
   "source": [
    "# посмотрим на строки содержащие пропуски\n",
    "df_sessions[df_sessions.device_os.isna()].head(10)"
   ]
  },
  {
   "cell_type": "code",
   "execution_count": 26,
   "id": "16fb84ae-0bdc-4214-b1e9-f85078337845",
   "metadata": {},
   "outputs": [
    {
     "data": {
      "text/plain": [
       "device_brand\n",
       "Apple       551088\n",
       "Samsung     332194\n",
       "Xiaomi      288367\n",
       "Huawei      185853\n",
       "Realme       19058\n",
       "             ...  \n",
       "Vodafone         1\n",
       "Wexler           1\n",
       "KingSing         1\n",
       "Star             1\n",
       "Opera            1\n",
       "Name: count, Length: 205, dtype: int64"
      ]
     },
     "execution_count": 26,
     "metadata": {},
     "output_type": "execute_result"
    }
   ],
   "source": [
    "# типы устройств с OS\n",
    "df_sessions.device_brand.value_counts()"
   ]
  },
  {
   "cell_type": "code",
   "execution_count": 27,
   "id": "e43dd5ca-959f-4c5a-999d-e2165766bac3",
   "metadata": {},
   "outputs": [],
   "source": [
    "# заполним пропуски согласно моделям мобильных устройст с операционной системой Android\n",
    "\n",
    "android_mobile_device = list(set(df_sessions.device_brand.values))\n",
    "android_mobile_device.remove(\"Apple\")  # удаление устройств с IOS\n",
    "\n",
    "\n",
    "df_sessions['device_os'] = df_sessions.apply(lambda x: 'Android' if pd.isna(x['device_os']) and \n",
    "                                             x['device_category'] == 'mobile' and (x['device_brand'] \n",
    "                                             in android_mobile_device) else x['device_os'], axis=1)"
   ]
  },
  {
   "cell_type": "code",
   "execution_count": 28,
   "id": "70a0674c-ea71-4fbc-811d-b9b23591ffd9",
   "metadata": {},
   "outputs": [],
   "source": [
    "# заполним пропуски согласно моделям мобильных устройст с операционной системой IOS\n",
    "df_sessions['device_os'] = df_sessions.apply(lambda x: 'IOS' if pd.isna(x['device_os']) and \n",
    "                                             x['device_category'] == 'mobile' and (x['device_brand'] \n",
    "                                             == 'Apple') else x['device_os'], axis=1)\n",
    "\n",
    "# сделаю замену всех значений iOS для device_os на IOS\n",
    "df_sessions['device_os'] = df_sessions.apply(lambda x: 'IOS' if x['device_os'] == 'iOS' else x['device_os'], axis=1)\n"
   ]
  },
  {
   "cell_type": "code",
   "execution_count": 29,
   "id": "dd98530a-9f6b-4bac-8c61-fa0412d4b5d5",
   "metadata": {},
   "outputs": [
    {
     "data": {
      "text/plain": [
       "259857"
      ]
     },
     "execution_count": 29,
     "metadata": {},
     "output_type": "execute_result"
    }
   ],
   "source": [
    "# проверка на пропуск после зополнения по device_brand\n",
    "df_sessions.device_os.isna().sum() "
   ]
  },
  {
   "cell_type": "code",
   "execution_count": 30,
   "id": "b17f31a7-13d4-40ea-b9f4-d8e76ba8d2c5",
   "metadata": {
    "scrolled": true
   },
   "outputs": [
    {
     "data": {
      "text/plain": [
       "device_browser\n",
       "Chrome                              1013436\n",
       "Safari                               478562\n",
       "YaBrowser                            133311\n",
       "Safari (in-app)                       69912\n",
       "Android Webview                       55369\n",
       "Samsung Internet                      47309\n",
       "Opera                                 26817\n",
       "Firefox                               16588\n",
       "Edge                                  16065\n",
       "UC Browser                              871\n",
       "Android Runtime                         392\n",
       "Mozilla Compatible Agent                362\n",
       "[FBAN                                   269\n",
       "Instagram 208.0.0.32.135 Android        140\n",
       "Instagram 209.0.0.21.119 Android        111\n",
       "MRCHROME                                 77\n",
       "Android Browser                          49\n",
       "Opera Mini                               45\n",
       "Puffin                                   45\n",
       "Internet Explorer                        36\n",
       "Maxthon                                  31\n",
       "Android                                  22\n",
       "Instagram 216.1.0.21.137 Android         19\n",
       "Mozilla                                  17\n",
       "(not set)                                17\n",
       "Instagram 216.0.0.12.135                 17\n",
       "Instagram 202.0.0.23.119                 17\n",
       "Instagram 194.0.0.36.172 Android         15\n",
       "Instagram 207.0.0.28.118                 14\n",
       "Instagram 202.0.0.37.123 Android         12\n",
       "com.vk.vkclient                           8\n",
       "Instagram 192.0.0.37.119                  7\n",
       "Amazon Silk                               7\n",
       "helloworld                                6\n",
       "Coc Coc                                   6\n",
       "Instagram 213.0.0.19.117                  6\n",
       "Instagram 203.0.0.26.117                  6\n",
       "Instagram 212.0.0.38.119 Android          6\n",
       "Instagram 201.0.0.23.111                  5\n",
       "Instagram 213.0.0.29.120 Android          5\n",
       "Instagram 208.0.0.26.131                  5\n",
       "SeaMonkey                                 4\n",
       "Instagram 192.0.0.35.123 Android          3\n",
       "Instagram 158.0.0.30.123 Android          3\n",
       "MyApp                                     2\n",
       "Iron                                      2\n",
       "Instagram 199.0.0.27.120                  2\n",
       "NetFront                                  2\n",
       "Instagram 199.1.0.34.119 Android          2\n",
       "com.zhiliaoapp.musically                  1\n",
       "Konqueror                                 1\n",
       "NokiaX2-02                                1\n",
       "Phantom Browser                           1\n",
       "Instagram 206.1.0.34.121 Android          1\n",
       "Nokia501                                  1\n",
       "MT6735_TD                                 1\n",
       "Threads 202.0.0.23.119                    1\n",
       "Name: count, dtype: int64"
      ]
     },
     "execution_count": 30,
     "metadata": {},
     "output_type": "execute_result"
    }
   ],
   "source": [
    "# типы OS определяются устройством и видом браузера при входе, поэтому посмотрим device_browser\n",
    "df_sessions.device_browser.value_counts()"
   ]
  },
  {
   "cell_type": "code",
   "execution_count": 31,
   "id": "70a54b8b-03fc-4b0b-a31a-5c6b0a6d54af",
   "metadata": {},
   "outputs": [],
   "source": [
    "# заполним пропуски значением 'Apple', где device_browser == Safari или Safari (in-app)\n",
    "\n",
    "df_sessions['device_os'] = df_sessions.apply(lambda x: 'Apple' if pd.isna(x['device_os'])\n",
    "                                             and (x['device_browser'] == 'Safari' or x['device_browser'] == 'Safari (in-app)')\n",
    "                                             else x['device_os'], axis=1)"
   ]
  },
  {
   "cell_type": "code",
   "execution_count": 32,
   "id": "dddffc40-bfb3-4c2e-ab70-a4f0c30937fc",
   "metadata": {},
   "outputs": [
    {
     "data": {
      "text/plain": [
       "device_category\n",
       "mobile     1474871\n",
       "desktop     366863\n",
       "tablet       18308\n",
       "Name: count, dtype: int64"
      ]
     },
     "execution_count": 32,
     "metadata": {},
     "output_type": "execute_result"
    }
   ],
   "source": [
    "# типы устройств с которых осуществляется вход,  посмотрим device_category\n",
    "df_sessions.device_category.value_counts()"
   ]
  },
  {
   "cell_type": "code",
   "execution_count": 33,
   "id": "7a5a42c2-9912-4b56-ae0d-cfac68d83e83",
   "metadata": {},
   "outputs": [],
   "source": [
    "# заполним пропуски значением 'Windows', где device_category == desktop\t\n",
    "\n",
    "df_sessions['device_os'] = df_sessions.apply(lambda x: 'Windows' if pd.isna(x['device_os'])\n",
    "                                             and (x['device_category'] == 'desktop')\n",
    "                                             else x['device_os'], axis=1)"
   ]
  },
  {
   "cell_type": "code",
   "execution_count": 34,
   "id": "303cf664-4d70-4f67-8e45-1e66035378d3",
   "metadata": {},
   "outputs": [],
   "source": [
    "# заполним пропуски значением 'Android', где device_category == tablet\n",
    "\n",
    "df_sessions['device_os'] = df_sessions.apply(lambda x: 'Android' if pd.isna(x['device_os'])\n",
    "                                             and (x['device_category'] == 'tablet')\n",
    "                                             else x['device_os'], axis=1)\n"
   ]
  },
  {
   "cell_type": "code",
   "execution_count": 35,
   "id": "2807be22-f098-438b-b9a7-c08138149318",
   "metadata": {},
   "outputs": [
    {
     "data": {
      "text/plain": [
       "0"
      ]
     },
     "execution_count": 35,
     "metadata": {},
     "output_type": "execute_result"
    }
   ],
   "source": [
    "# проверка на пропуски после заполнеиня пр device_browser и device_category\n",
    "df_sessions.device_os.isna().sum() "
   ]
  },
  {
   "cell_type": "code",
   "execution_count": 36,
   "id": "3208687e-1b95-4547-8cf3-9c23782e68c8",
   "metadata": {},
   "outputs": [
    {
     "data": {
      "text/plain": [
       "device_category\n",
       "desktop    344\n",
       "mobile      20\n",
       "Name: count, dtype: int64"
      ]
     },
     "execution_count": 36,
     "metadata": {},
     "output_type": "execute_result"
    }
   ],
   "source": [
    "# оставшиеся  значения (not set)  используются в двух типах устройств\n",
    "df_sessions[df_sessions['device_os']=='(not set)'].device_category.value_counts()"
   ]
  },
  {
   "cell_type": "code",
   "execution_count": 37,
   "id": "da3dd479-85bd-40dc-a0eb-30453be09944",
   "metadata": {},
   "outputs": [
    {
     "data": {
      "text/plain": [
       "device_browser\n",
       "Mozilla Compatible Agent            260\n",
       "[FBAN                                24\n",
       "Opera Mini                           20\n",
       "Instagram 216.1.0.21.137 Android     19\n",
       "Chrome                               13\n",
       "helloworld                            6\n",
       "(not set)                             6\n",
       "Instagram 212.0.0.38.119 Android      6\n",
       "Instagram 213.0.0.29.120 Android      5\n",
       "Android                               4\n",
       "Instagram 206.1.0.34.121 Android      1\n",
       "Name: count, dtype: int64"
      ]
     },
     "execution_count": 37,
     "metadata": {},
     "output_type": "execute_result"
    }
   ],
   "source": [
    "# браузер используемый для входа c OS определенной как (not set)\n",
    "df_sessions[df_sessions['device_os']=='(not set)'].device_browser.value_counts()"
   ]
  },
  {
   "cell_type": "code",
   "execution_count": 38,
   "id": "62bc8d35-a0d6-4dd9-bfd6-c92291aa6b21",
   "metadata": {},
   "outputs": [],
   "source": [
    "# замена всех значений (not set), кроме популярных на other\n",
    "os = list(((df_sessions.device_os.value_counts(dropna=False) / df_sessions.shape[0]).index)[:6])\n",
    "\n",
    "df_sessions['device_os'] = df_sessions.apply(lambda x: 'other' if x['device_os'] == '(not set)' or \n",
    "                                             x['device_os'] not in os else x['device_os'], axis=1)\n"
   ]
  },
  {
   "cell_type": "code",
   "execution_count": 39,
   "id": "2fc1aa06-88f1-4843-9d80-9048051fcc0c",
   "metadata": {},
   "outputs": [
    {
     "data": {
      "text/plain": [
       "device_os\n",
       "Android      943573\n",
       "IOS          546647\n",
       "Windows      309172\n",
       "Apple         30211\n",
       "Macintosh     24824\n",
       "Linux          5120\n",
       "other           495\n",
       "Name: count, dtype: int64"
      ]
     },
     "execution_count": 39,
     "metadata": {},
     "output_type": "execute_result"
    }
   ],
   "source": [
    "df_sessions.device_os.value_counts()"
   ]
  },
  {
   "cell_type": "code",
   "execution_count": 109,
   "id": "521fb8da-c322-47dd-a556-f2dfae5d65ff",
   "metadata": {},
   "outputs": [
    {
     "data": {
      "image/png": "[encoded data removed]",
      "text/plain": [
       "<Figure size 800x400 with 1 Axes>"
      ]
     },
     "metadata": {},
     "output_type": "display_data"
    }
   ],
   "source": [
    "# график распределения параметров по ОС устройства\n",
    "plt.figure(figsize=(8,4))\n",
    "#plt.xticks([])\n",
    "plt.xlabel('device_os')\n",
    "sns.histplot(data=df_sessions, x='device_os', color='skyblue')\n",
    "plt.title('Гистограмма распределения device_os')\n",
    "plt.show()"
   ]
  },
  {
   "cell_type": "markdown",
   "id": "db4171cb-b40d-4a27-81c4-b7d8d00f87e7",
   "metadata": {},
   "source": [
    "#### Обработка значений в столбце utm_campaign"
   ]
  },
  {
   "cell_type": "code",
   "execution_count": 40,
   "id": "54aa74ed-e2ba-4958-bd38-3b5935bb6781",
   "metadata": {},
   "outputs": [
    {
     "data": {
      "text/plain": [
       "219603"
      ]
     },
     "execution_count": 40,
     "metadata": {},
     "output_type": "execute_result"
    }
   ],
   "source": [
    "# количество пропущенных значений в столбце utm_campaign\n",
    "df_sessions.utm_campaign.isna().sum()"
   ]
  },
  {
   "cell_type": "code",
   "execution_count": 41,
   "id": "298391d4-a0be-477d-94b6-6a41867a96d6",
   "metadata": {},
   "outputs": [
    {
     "data": {
      "text/plain": [
       "utm_campaign\n",
       "LTuZkdKfxRGVceoWkVyg    463481\n",
       "LEoPHuyFvzoNfnzGgfcd    324044\n",
       "FTjNLDyTrXaWYgZymFkV    247360\n",
       "NaN                     219603\n",
       "gecBYcKZCPMcVYdSSzKP    134042\n",
       "                         ...  \n",
       "RkpOyeEPgcMBSDuHLQcj         1\n",
       "pcvPxfVFaAmhwFmvIeYd         1\n",
       "qPDTdivQVeflLjTYIJnG         1\n",
       "MHdHrBKQwbDaRalwnlJq         1\n",
       "cXxuwXPoQCvAXPHpFcZl         1\n",
       "Name: count, Length: 413, dtype: int64"
      ]
     },
     "execution_count": 41,
     "metadata": {},
     "output_type": "execute_result"
    }
   ],
   "source": [
    "# типы значений по виду рекламной компании\n",
    "df_sessions.utm_campaign.value_counts(dropna=False)"
   ]
  },
  {
   "cell_type": "code",
   "execution_count": 42,
   "id": "0c9188a6-8838-40df-9298-ddd60ff0ba90",
   "metadata": {},
   "outputs": [
    {
     "data": {
      "text/html": [
       "<div>\n",
       "<style scoped>\n",
       "    .dataframe tbody tr th:only-of-type {\n",
       "        vertical-align: middle;\n",
       "    }\n",
       "\n",
       "    .dataframe tbody tr th {\n",
       "        vertical-align: top;\n",
       "    }\n",
       "\n",
       "    .dataframe thead th {\n",
       "        text-align: right;\n",
       "    }\n",
       "</style>\n",
       "<table border=\"1\" class=\"dataframe\">\n",
       "  <thead>\n",
       "    <tr style=\"text-align: right;\">\n",
       "      <th></th>\n",
       "      <th>session_id</th>\n",
       "      <th>client_id</th>\n",
       "      <th>visit_date</th>\n",
       "      <th>visit_time</th>\n",
       "      <th>visit_number</th>\n",
       "      <th>utm_source</th>\n",
       "      <th>utm_medium</th>\n",
       "      <th>utm_campaign</th>\n",
       "      <th>utm_adcontent</th>\n",
       "      <th>utm_keyword</th>\n",
       "      <th>device_category</th>\n",
       "      <th>device_os</th>\n",
       "      <th>device_brand</th>\n",
       "      <th>device_model</th>\n",
       "      <th>device_screen_resolution</th>\n",
       "      <th>device_browser</th>\n",
       "      <th>geo_country</th>\n",
       "      <th>geo_city</th>\n",
       "    </tr>\n",
       "  </thead>\n",
       "  <tbody>\n",
       "    <tr>\n",
       "      <th>3</th>\n",
       "      <td>9055447046360770272.1622255328.1622255328</td>\n",
       "      <td>2108385564.1622255328</td>\n",
       "      <td>2021-05-29</td>\n",
       "      <td>05:00:00</td>\n",
       "      <td>1</td>\n",
       "      <td>kjsLglQLzykiRbcDiGcD</td>\n",
       "      <td>cpc</td>\n",
       "      <td>NaN</td>\n",
       "      <td>NOBKLgtuvqYWkXQHeYWM</td>\n",
       "      <td>NaN</td>\n",
       "      <td>mobile</td>\n",
       "      <td>Android</td>\n",
       "      <td>Xiaomi</td>\n",
       "      <td>NaN</td>\n",
       "      <td>393x786</td>\n",
       "      <td>Chrome</td>\n",
       "      <td>Russia</td>\n",
       "      <td>Moscow</td>\n",
       "    </tr>\n",
       "    <tr>\n",
       "      <th>4</th>\n",
       "      <td>9055447046360770272.1622255345.1622255345</td>\n",
       "      <td>2108385564.1622255328</td>\n",
       "      <td>2021-05-29</td>\n",
       "      <td>05:00:00</td>\n",
       "      <td>2</td>\n",
       "      <td>kjsLglQLzykiRbcDiGcD</td>\n",
       "      <td>cpc</td>\n",
       "      <td>NaN</td>\n",
       "      <td>NaN</td>\n",
       "      <td>NaN</td>\n",
       "      <td>mobile</td>\n",
       "      <td>Android</td>\n",
       "      <td>Xiaomi</td>\n",
       "      <td>NaN</td>\n",
       "      <td>393x786</td>\n",
       "      <td>Chrome</td>\n",
       "      <td>Russia</td>\n",
       "      <td>Moscow</td>\n",
       "    </tr>\n",
       "    <tr>\n",
       "      <th>14</th>\n",
       "      <td>9055469620715506713.1636559415.1636559415</td>\n",
       "      <td>2108390820.1628883993</td>\n",
       "      <td>2021-11-10</td>\n",
       "      <td>18:50:15</td>\n",
       "      <td>4</td>\n",
       "      <td>SzZERoLMmrEUEhDaYcyN</td>\n",
       "      <td>cpc</td>\n",
       "      <td>NaN</td>\n",
       "      <td>NaN</td>\n",
       "      <td>NaN</td>\n",
       "      <td>mobile</td>\n",
       "      <td>Android</td>\n",
       "      <td>Samsung</td>\n",
       "      <td>NaN</td>\n",
       "      <td>412x869</td>\n",
       "      <td>Android Webview</td>\n",
       "      <td>Russia</td>\n",
       "      <td>Saint Petersburg</td>\n",
       "    </tr>\n",
       "    <tr>\n",
       "      <th>27</th>\n",
       "      <td>9055504865227535872.1639282176.1639282176</td>\n",
       "      <td>2108399026.1639282176</td>\n",
       "      <td>2021-12-12</td>\n",
       "      <td>07:09:36</td>\n",
       "      <td>1</td>\n",
       "      <td>BHcvLfOaCWvWTykYqHVe</td>\n",
       "      <td>cpc</td>\n",
       "      <td>NaN</td>\n",
       "      <td>NaN</td>\n",
       "      <td>okTXSMadDkjvntEHzIjp</td>\n",
       "      <td>mobile</td>\n",
       "      <td>Android</td>\n",
       "      <td>Samsung</td>\n",
       "      <td>NaN</td>\n",
       "      <td>385x854</td>\n",
       "      <td>Chrome</td>\n",
       "      <td>Russia</td>\n",
       "      <td>Moscow</td>\n",
       "    </tr>\n",
       "    <tr>\n",
       "      <th>38</th>\n",
       "      <td>905553874150070422.1639028922.1639028922</td>\n",
       "      <td>210840691.1639028886</td>\n",
       "      <td>2021-12-09</td>\n",
       "      <td>08:48:42</td>\n",
       "      <td>2</td>\n",
       "      <td>kjsLglQLzykiRbcDiGcD</td>\n",
       "      <td>cpc</td>\n",
       "      <td>NaN</td>\n",
       "      <td>NaN</td>\n",
       "      <td>cdPAGAvKeBGoqAkQBuGR</td>\n",
       "      <td>mobile</td>\n",
       "      <td>IOS</td>\n",
       "      <td>Apple</td>\n",
       "      <td>NaN</td>\n",
       "      <td>375x812</td>\n",
       "      <td>Safari</td>\n",
       "      <td>Russia</td>\n",
       "      <td>Moscow</td>\n",
       "    </tr>\n",
       "  </tbody>\n",
       "</table>\n",
       "</div>"
      ],
      "text/plain": [
       "                                   session_id              client_id  \\\n",
       "3   9055447046360770272.1622255328.1622255328  2108385564.1622255328   \n",
       "4   9055447046360770272.1622255345.1622255345  2108385564.1622255328   \n",
       "14  9055469620715506713.1636559415.1636559415  2108390820.1628883993   \n",
       "27  9055504865227535872.1639282176.1639282176  2108399026.1639282176   \n",
       "38   905553874150070422.1639028922.1639028922   210840691.1639028886   \n",
       "\n",
       "    visit_date visit_time  visit_number            utm_source utm_medium  \\\n",
       "3   2021-05-29   05:00:00             1  kjsLglQLzykiRbcDiGcD        cpc   \n",
       "4   2021-05-29   05:00:00             2  kjsLglQLzykiRbcDiGcD        cpc   \n",
       "14  2021-11-10   18:50:15             4  SzZERoLMmrEUEhDaYcyN        cpc   \n",
       "27  2021-12-12   07:09:36             1  BHcvLfOaCWvWTykYqHVe        cpc   \n",
       "38  2021-12-09   08:48:42             2  kjsLglQLzykiRbcDiGcD        cpc   \n",
       "\n",
       "   utm_campaign         utm_adcontent           utm_keyword device_category  \\\n",
       "3           NaN  NOBKLgtuvqYWkXQHeYWM                   NaN          mobile   \n",
       "4           NaN                   NaN                   NaN          mobile   \n",
       "14          NaN                   NaN                   NaN          mobile   \n",
       "27          NaN                   NaN  okTXSMadDkjvntEHzIjp          mobile   \n",
       "38          NaN                   NaN  cdPAGAvKeBGoqAkQBuGR          mobile   \n",
       "\n",
       "   device_os device_brand device_model device_screen_resolution  \\\n",
       "3    Android       Xiaomi          NaN                  393x786   \n",
       "4    Android       Xiaomi          NaN                  393x786   \n",
       "14   Android      Samsung          NaN                  412x869   \n",
       "27   Android      Samsung          NaN                  385x854   \n",
       "38       IOS        Apple          NaN                  375x812   \n",
       "\n",
       "     device_browser geo_country          geo_city  \n",
       "3            Chrome      Russia            Moscow  \n",
       "4            Chrome      Russia            Moscow  \n",
       "14  Android Webview      Russia  Saint Petersburg  \n",
       "27           Chrome      Russia            Moscow  \n",
       "38           Safari      Russia            Moscow  "
      ]
     },
     "execution_count": 42,
     "metadata": {},
     "output_type": "execute_result"
    }
   ],
   "source": [
    "# просмотр строк с пустыми значениями по столбцу\n",
    "df_sessions[df_sessions.utm_campaign.isna()].head()"
   ]
  },
  {
   "cell_type": "code",
   "execution_count": 43,
   "id": "24a52e11-b375-44a9-8bc2-61fa8fc2af20",
   "metadata": {},
   "outputs": [
    {
     "data": {
      "text/plain": [
       "utm_campaign\n",
       "LTuZkdKfxRGVceoWkVyg    24.917771\n",
       "LEoPHuyFvzoNfnzGgfcd    17.421327\n",
       "FTjNLDyTrXaWYgZymFkV    13.298624\n",
       "gecBYcKZCPMcVYdSSzKP     7.206396\n",
       "TmThBvoCcwkCZZUWACYq     1.429914\n",
       "                          ...    \n",
       "cqgnjDbqrtCipVvzhxqa     0.000054\n",
       "AdtHYglxfCpTpwZeTAuW     0.000054\n",
       "pcvPxfVFaAmhwFmvIeYd     0.000054\n",
       "qPDTdivQVeflLjTYIJnG     0.000054\n",
       "cXxuwXPoQCvAXPHpFcZl     0.000054\n",
       "Name: count, Length: 412, dtype: float64"
      ]
     },
     "execution_count": 43,
     "metadata": {},
     "output_type": "execute_result"
    }
   ],
   "source": [
    "# значения в процентах по виду рекламной компании от общего числа \n",
    "df_sessions.utm_campaign.value_counts() / df_sessions.shape[0] * 100"
   ]
  },
  {
   "cell_type": "code",
   "execution_count": 44,
   "id": "d7a095ea-af4a-4a6c-9806-9af2b02a14b0",
   "metadata": {},
   "outputs": [],
   "source": [
    "# для заполнения использую значения utm_campaign более 5 %\n",
    "campaign = ['LTuZkdKfxRGVceoWkVyg', 'LEoPHuyFvzoNfnzGgfcd', 'FTjNLDyTrXaWYgZymFkV', 'gecBYcKZCPMcVYdSSzKP']\n",
    "\n",
    "# заполню рандомно из выбранных значений\n",
    "df_sessions['utm_campaign'] = df_sessions.apply(lambda x: (random.choice(campaign)) if pd.isna(x['utm_campaign'])\n",
    "                                                else x['utm_campaign'], axis=1)"
   ]
  },
  {
   "cell_type": "code",
   "execution_count": 45,
   "id": "72cfc12c-4bd3-4699-823e-f6c6ab515d0d",
   "metadata": {},
   "outputs": [
    {
     "data": {
      "text/plain": [
       "utm_campaign\n",
       "LTuZkdKfxRGVceoWkVyg    518296\n",
       "LEoPHuyFvzoNfnzGgfcd    378758\n",
       "FTjNLDyTrXaWYgZymFkV    302385\n",
       "gecBYcKZCPMcVYdSSzKP    189091\n",
       "TmThBvoCcwkCZZUWACYq     26597\n",
       "                         ...  \n",
       "cqgnjDbqrtCipVvzhxqa         1\n",
       "AdtHYglxfCpTpwZeTAuW         1\n",
       "pcvPxfVFaAmhwFmvIeYd         1\n",
       "qPDTdivQVeflLjTYIJnG         1\n",
       "cXxuwXPoQCvAXPHpFcZl         1\n",
       "Name: count, Length: 412, dtype: int64"
      ]
     },
     "execution_count": 45,
     "metadata": {},
     "output_type": "execute_result"
    }
   ],
   "source": [
    "df_sessions.utm_campaign.value_counts(dropna=False)"
   ]
  },
  {
   "cell_type": "code",
   "execution_count": 46,
   "id": "35b15a1f-2e82-43a9-aeea-d3d9192a0da1",
   "metadata": {},
   "outputs": [
    {
     "data": {
      "text/plain": [
       "utm_campaign\n",
       "LTuZkdKfxRGVceoWkVyg    518296\n",
       "other_campaign          471512\n",
       "LEoPHuyFvzoNfnzGgfcd    378758\n",
       "FTjNLDyTrXaWYgZymFkV    302385\n",
       "gecBYcKZCPMcVYdSSzKP    189091\n",
       "Name: count, dtype: int64"
      ]
     },
     "execution_count": 46,
     "metadata": {},
     "output_type": "execute_result"
    }
   ],
   "source": [
    "# для значений рекламной компании менее 5% сделю замену на other_campaing\n",
    "df_sessions['utm_campaign'] = df_sessions.apply(lambda x: 'other_campaign' if x['utm_campaign'] \n",
    "                                                not in ['LTuZkdKfxRGVceoWkVyg', 'LEoPHuyFvzoNfnzGgfcd', 'FTjNLDyTrXaWYgZymFkV', 'gecBYcKZCPMcVYdSSzKP'] \n",
    "                                                else x['utm_campaign'], axis=1)\n",
    "\n",
    "df_sessions.utm_campaign.value_counts(dropna=False)"
   ]
  },
  {
   "cell_type": "code",
   "execution_count": 47,
   "id": "e64b5c53-8c81-4148-90ca-351b6468e70c",
   "metadata": {},
   "outputs": [
    {
     "data": {
      "text/plain": [
       "0"
      ]
     },
     "execution_count": 47,
     "metadata": {},
     "output_type": "execute_result"
    }
   ],
   "source": [
    "# проверка на пропуски после заполнения\n",
    "df_sessions.utm_campaign.isna().sum()"
   ]
  },
  {
   "cell_type": "code",
   "execution_count": 120,
   "id": "d07d9f95-4c25-470c-955b-a9fbcdcba990",
   "metadata": {},
   "outputs": [
    {
     "data": {
      "image/png": "[encoded data removed]",
      "text/plain": [
       "<Figure size 800x400 with 1 Axes>"
      ]
     },
     "metadata": {},
     "output_type": "display_data"
    }
   ],
   "source": [
    "# график распределения параметров по питу рекламной компании\n",
    "plt.figure(figsize=(8,4))\n",
    "plt.xticks(rotation=45)\n",
    "plt.xlabel('utm_campaign')\n",
    "sns.histplot(data=df_sessions, x='utm_campaign', color='skyblue')\n",
    "plt.title('Гистограмма распределения utm_campaign')\n",
    "plt.show()"
   ]
  },
  {
   "cell_type": "markdown",
   "id": "e0298310-00b1-499d-846f-aac4ab1ecfe5",
   "metadata": {},
   "source": [
    "#### Обработка значений в столбце utm_adcontent"
   ]
  },
  {
   "cell_type": "code",
   "execution_count": 48,
   "id": "7e7b191d-08ea-4353-90ce-7835cbfd92e2",
   "metadata": {},
   "outputs": [
    {
     "data": {
      "text/plain": [
       "335615"
      ]
     },
     "execution_count": 48,
     "metadata": {},
     "output_type": "execute_result"
    }
   ],
   "source": [
    "df_sessions.utm_adcontent.isna().sum()"
   ]
  },
  {
   "cell_type": "code",
   "execution_count": 49,
   "id": "b20446d4-a971-40c2-9755-b38d538b4ed7",
   "metadata": {},
   "outputs": [
    {
     "data": {
      "text/plain": [
       "utm_adcontent\n",
       "JNHcPlZPxEMWDnRiyoBf    1006599\n",
       "NaN                      335615\n",
       "vCIpmpaGBnIQhyYNkXqp     181048\n",
       "xhoenQgDQsgfEPYNPwKO     113072\n",
       "PkybGvWbaqORmxjNunqZ      60316\n",
       "                         ...   \n",
       "vXARZToVDdvNhALiQtvl          1\n",
       "ryswqHdLvbezpDLjokYF          1\n",
       "gQEnaeQmOHisHSTEyzhp          1\n",
       "PlanrlymnpCeYvUrUTVJ          1\n",
       "oJivRDNIrrOckRBIKOtG          1\n",
       "Name: count, Length: 287, dtype: int64"
      ]
     },
     "execution_count": 49,
     "metadata": {},
     "output_type": "execute_result"
    }
   ],
   "source": [
    "df_sessions.utm_adcontent.value_counts(dropna=False)"
   ]
  },
  {
   "cell_type": "code",
   "execution_count": 50,
   "id": "40a5dd7e-7d5f-4c8a-9ef8-6e2f9f466d8f",
   "metadata": {},
   "outputs": [],
   "source": [
    "# заполню пропуски предыдущим ненулевым значением\n",
    "df_sessions['utm_adcontent'] = df_sessions['utm_adcontent'].ffill()"
   ]
  },
  {
   "cell_type": "code",
   "execution_count": 51,
   "id": "64bbf331-6dcf-4500-bfb8-43b5cec191a9",
   "metadata": {},
   "outputs": [
    {
     "data": {
      "text/plain": [
       "utm_adcontent\n",
       "JNHcPlZPxEMWDnRiyoBf    66.589249\n",
       "vCIpmpaGBnIQhyYNkXqp    11.726509\n",
       "xhoenQgDQsgfEPYNPwKO     7.220590\n",
       "PkybGvWbaqORmxjNunqZ     3.855827\n",
       "LLfCasrxQzJIyuldcuWy     1.595287\n",
       "TuyPWsGQruPMpKvRxeBF     1.194113\n",
       "UxrnyMlRBSOhOjytXnMG     0.890948\n",
       "dUuXlWzvmhDSyclWRhNP     0.664609\n",
       "yYdBRbPmBMUZHXwqGxNx     0.642835\n",
       "WYLajZgbUhGimwBKDZUH     0.556977\n",
       "Name: count, dtype: float64"
      ]
     },
     "execution_count": 51,
     "metadata": {},
     "output_type": "execute_result"
    }
   ],
   "source": [
    "# значения в процентах по типу рекламного контента\n",
    "(df_sessions.utm_adcontent.value_counts(dropna=False) / df_sessions.shape[0] * 100)[:10]"
   ]
  },
  {
   "cell_type": "code",
   "execution_count": 52,
   "id": "0bdd2fcd-40e3-401a-988d-928a5bd1061d",
   "metadata": {},
   "outputs": [
    {
     "data": {
      "text/plain": [
       "utm_adcontent\n",
       "JNHcPlZPxEMWDnRiyoBf    1238588\n",
       "vCIpmpaGBnIQhyYNkXqp     218118\n",
       "other_content            197310\n",
       "xhoenQgDQsgfEPYNPwKO     134306\n",
       "PkybGvWbaqORmxjNunqZ      71720\n",
       "Name: count, dtype: int64"
      ]
     },
     "execution_count": 52,
     "metadata": {},
     "output_type": "execute_result"
    }
   ],
   "source": [
    "# для значений рекламного контента менее 3% сделаю замену на other_content\n",
    "content = list(((df_sessions.utm_adcontent.value_counts(dropna=False) / df_sessions.shape[0]).index)[:4])\n",
    "\n",
    "df_sessions['utm_adcontent'] = df_sessions.apply(lambda x: 'other_content' if x['utm_adcontent'] \n",
    "                                                not in content else x['utm_adcontent'], axis=1)\n",
    "\n",
    "df_sessions.utm_adcontent.value_counts(dropna=False)"
   ]
  },
  {
   "cell_type": "code",
   "execution_count": 53,
   "id": "a305b859-352f-4d24-842b-2b18d3ea308f",
   "metadata": {},
   "outputs": [
    {
     "data": {
      "text/plain": [
       "0"
      ]
     },
     "execution_count": 53,
     "metadata": {},
     "output_type": "execute_result"
    }
   ],
   "source": [
    "# проверка на пропуски после заполнения\n",
    "df_sessions.utm_adcontent.isna().sum()"
   ]
  },
  {
   "cell_type": "markdown",
   "id": "7b7615fb-7393-4e62-b3e6-6de34036a274",
   "metadata": {},
   "source": [
    "#### Обработка пропусков device_brand"
   ]
  },
  {
   "cell_type": "code",
   "execution_count": 54,
   "id": "3dcc9319-fc5f-43ad-8a44-659e0bb5f7c0",
   "metadata": {},
   "outputs": [
    {
     "data": {
      "text/plain": [
       "367178"
      ]
     },
     "execution_count": 54,
     "metadata": {},
     "output_type": "execute_result"
    }
   ],
   "source": [
    "# количестко пропущенных значений в столбце\n",
    "df_sessions.device_brand.isna().sum()"
   ]
  },
  {
   "cell_type": "code",
   "execution_count": 55,
   "id": "ad30f7e8-ce55-4dd5-a4e2-b74df48c805a",
   "metadata": {},
   "outputs": [
    {
     "data": {
      "text/plain": [
       "device_brand\n",
       "Apple       551088\n",
       "NaN         367178\n",
       "Samsung     332194\n",
       "Xiaomi      288367\n",
       "Huawei      185853\n",
       "             ...  \n",
       "Vodafone         1\n",
       "Wexler           1\n",
       "KingSing         1\n",
       "Star             1\n",
       "Opera            1\n",
       "Name: count, Length: 206, dtype: int64"
      ]
     },
     "execution_count": 55,
     "metadata": {},
     "output_type": "execute_result"
    }
   ],
   "source": [
    "# типы устройств с которых заходили посетители\n",
    "df_sessions.device_brand.value_counts(dropna=False)"
   ]
  },
  {
   "cell_type": "code",
   "execution_count": 56,
   "id": "c2c3f959-ffc3-4595-a5fc-17ddd224c5a7",
   "metadata": {},
   "outputs": [],
   "source": [
    "# заполню пропуски 'other'\n",
    "df_sessions['device_brand'] = df_sessions['device_brand'].fillna('other')"
   ]
  },
  {
   "cell_type": "code",
   "execution_count": 57,
   "id": "dea5c0ed-dc22-41f6-b6f0-6d72382150f8",
   "metadata": {},
   "outputs": [],
   "source": [
    "# заполню значения (not set) также на 'other'\n",
    "df_sessions['device_brand'] = df_sessions.apply(lambda x: 'other' if x['device_brand'] == '(not set)'\n",
    "                                             else x['device_brand'], axis=1)"
   ]
  },
  {
   "cell_type": "code",
   "execution_count": 58,
   "id": "c704ade7-9efe-45a0-884c-885d5c953d9e",
   "metadata": {},
   "outputs": [
    {
     "data": {
      "text/plain": [
       "device_brand\n",
       "Apple      29.627718\n",
       "other      20.683565\n",
       "Samsung    17.859489\n",
       "Xiaomi     15.503252\n",
       "Huawei      9.991871\n",
       "Realme      1.024601\n",
       "OPPO        0.726005\n",
       "Vivo        0.631169\n",
       "OnePlus     0.535741\n",
       "Asus        0.426281\n",
       "Name: count, dtype: float64"
      ]
     },
     "execution_count": 58,
     "metadata": {},
     "output_type": "execute_result"
    }
   ],
   "source": [
    "# значения в процентах для бренда устройства\n",
    "(df_sessions.device_brand.value_counts(dropna=False) / df_sessions.shape[0] *100)[:10]"
   ]
  },
  {
   "cell_type": "code",
   "execution_count": 59,
   "id": "82666b5d-57e5-4b8d-978c-e416258e3225",
   "metadata": {},
   "outputs": [
    {
     "data": {
      "text/plain": [
       "device_brand\n",
       "Apple      551088\n",
       "other      502540\n",
       "Samsung    332194\n",
       "Xiaomi     288367\n",
       "Huawei     185853\n",
       "Name: count, dtype: int64"
      ]
     },
     "execution_count": 59,
     "metadata": {},
     "output_type": "execute_result"
    }
   ],
   "source": [
    "# # для значений менее 9% также сделаю замену на other\n",
    "device = list(((df_sessions.device_brand.value_counts(dropna=False) / df_sessions.shape[0]).index)[:5])\n",
    "\n",
    "df_sessions['device_brand'] = df_sessions.apply(lambda x: 'other' if x['device_brand'] \n",
    "                                                not in device else x['device_brand'], axis=1)\n",
    "\n",
    "df_sessions.device_brand.value_counts(dropna=False)"
   ]
  },
  {
   "cell_type": "code",
   "execution_count": 60,
   "id": "58d59683-b9fe-45b6-aaac-6b02c0b5f7db",
   "metadata": {},
   "outputs": [
    {
     "data": {
      "text/plain": [
       "0"
      ]
     },
     "execution_count": 60,
     "metadata": {},
     "output_type": "execute_result"
    }
   ],
   "source": [
    "# проверка на пропуски после заполнения\n",
    "df_sessions.utm_adcontent.isna().sum()"
   ]
  },
  {
   "cell_type": "markdown",
   "id": "2532da3e-7123-4fc3-8060-a3909262ed53",
   "metadata": {},
   "source": [
    "#### Удаление неинформативых столбцов\n"
   ]
  },
  {
   "cell_type": "code",
   "execution_count": 61,
   "id": "e56ba38f-8fe2-41ed-ad6d-4a69023b5aeb",
   "metadata": {},
   "outputs": [],
   "source": [
    "# столбцы 'utm_keyword', 'device_model' удалю, так как слишком много пропущенных значений\n",
    "df_sessions = df_sessions.drop(columns=['utm_keyword', 'device_model'])"
   ]
  },
  {
   "cell_type": "code",
   "execution_count": 62,
   "id": "37b15c7c-4335-469a-bccd-35d937eed46c",
   "metadata": {},
   "outputs": [
    {
     "data": {
      "text/plain": [
       "session_id                  0\n",
       "client_id                   0\n",
       "visit_date                  0\n",
       "visit_time                  0\n",
       "visit_number                0\n",
       "utm_source                  0\n",
       "utm_medium                  0\n",
       "utm_campaign                0\n",
       "utm_adcontent               0\n",
       "device_category             0\n",
       "device_os                   0\n",
       "device_brand                0\n",
       "device_screen_resolution    0\n",
       "device_browser              0\n",
       "geo_country                 0\n",
       "geo_city                    0\n",
       "dtype: int64"
      ]
     },
     "execution_count": 62,
     "metadata": {},
     "output_type": "execute_result"
    }
   ],
   "source": [
    "# после предобработки датасета пропущеннызх значений не осталось\n",
    "df_sessions.isna().sum()"
   ]
  },
  {
   "cell_type": "code",
   "execution_count": null,
   "id": "8988bd0c-0712-4132-9dc8-6e4c60aa8340",
   "metadata": {},
   "outputs": [],
   "source": []
  },
  {
   "cell_type": "markdown",
   "id": "8fd5f5bb-bbbc-49ee-92f5-36c5dfdf086b",
   "metadata": {},
   "source": [
    "#### Обработка значений (not set) device_browser\t"
   ]
  },
  {
   "cell_type": "code",
   "execution_count": 63,
   "id": "36d2feae-1b52-4a57-a08d-453216071c9d",
   "metadata": {
    "scrolled": true
   },
   "outputs": [
    {
     "data": {
      "text/plain": [
       "device_browser\n",
       "Chrome                              1013436\n",
       "Safari                               478562\n",
       "YaBrowser                            133311\n",
       "Safari (in-app)                       69912\n",
       "Android Webview                       55369\n",
       "Samsung Internet                      47309\n",
       "Opera                                 26817\n",
       "Firefox                               16588\n",
       "Edge                                  16065\n",
       "UC Browser                              871\n",
       "Android Runtime                         392\n",
       "Mozilla Compatible Agent                362\n",
       "[FBAN                                   269\n",
       "Instagram 208.0.0.32.135 Android        140\n",
       "Instagram 209.0.0.21.119 Android        111\n",
       "MRCHROME                                 77\n",
       "Android Browser                          49\n",
       "Opera Mini                               45\n",
       "Puffin                                   45\n",
       "Internet Explorer                        36\n",
       "Maxthon                                  31\n",
       "Android                                  22\n",
       "Instagram 216.1.0.21.137 Android         19\n",
       "Mozilla                                  17\n",
       "(not set)                                17\n",
       "Instagram 216.0.0.12.135                 17\n",
       "Instagram 202.0.0.23.119                 17\n",
       "Instagram 194.0.0.36.172 Android         15\n",
       "Instagram 207.0.0.28.118                 14\n",
       "Instagram 202.0.0.37.123 Android         12\n",
       "com.vk.vkclient                           8\n",
       "Instagram 192.0.0.37.119                  7\n",
       "Amazon Silk                               7\n",
       "helloworld                                6\n",
       "Coc Coc                                   6\n",
       "Instagram 213.0.0.19.117                  6\n",
       "Instagram 203.0.0.26.117                  6\n",
       "Instagram 212.0.0.38.119 Android          6\n",
       "Instagram 201.0.0.23.111                  5\n",
       "Instagram 213.0.0.29.120 Android          5\n",
       "Instagram 208.0.0.26.131                  5\n",
       "SeaMonkey                                 4\n",
       "Instagram 192.0.0.35.123 Android          3\n",
       "Instagram 158.0.0.30.123 Android          3\n",
       "MyApp                                     2\n",
       "Iron                                      2\n",
       "Instagram 199.0.0.27.120                  2\n",
       "NetFront                                  2\n",
       "Instagram 199.1.0.34.119 Android          2\n",
       "com.zhiliaoapp.musically                  1\n",
       "Konqueror                                 1\n",
       "NokiaX2-02                                1\n",
       "Phantom Browser                           1\n",
       "Instagram 206.1.0.34.121 Android          1\n",
       "Nokia501                                  1\n",
       "MT6735_TD                                 1\n",
       "Threads 202.0.0.23.119                    1\n",
       "Name: count, dtype: int64"
      ]
     },
     "execution_count": 63,
     "metadata": {},
     "output_type": "execute_result"
    }
   ],
   "source": [
    "# просмотр значений по столбцу\n",
    "df_sessions.device_browser.value_counts()"
   ]
  },
  {
   "cell_type": "code",
   "execution_count": 64,
   "id": "78b24e12-3941-4fa7-9f21-6f27257ce571",
   "metadata": {},
   "outputs": [
    {
     "data": {
      "text/plain": [
       "(17, 16)"
      ]
     },
     "execution_count": 64,
     "metadata": {},
     "output_type": "execute_result"
    }
   ],
   "source": [
    "# количество строк с (not set)\n",
    "df_sessions[df_sessions.device_browser == '(not set)'].shape"
   ]
  },
  {
   "cell_type": "code",
   "execution_count": 65,
   "id": "c7ffd3a6-b542-46e3-bcc4-3add2c6854c6",
   "metadata": {},
   "outputs": [],
   "source": [
    "# заполнять не обязательно, далее все признаки уйдут в other\n",
    "# заполню значения (not set) модой\n",
    "#df_sessions['device_browser'] = df_sessions.apply(lambda x: df_sessions.device_browser.mode()[0] if x['device_browser'] == '(not set)' else x['device_browser'], axis=1)"
   ]
  },
  {
   "cell_type": "code",
   "execution_count": 66,
   "id": "b785df01-8e23-45fc-b291-21b0af1e31cf",
   "metadata": {},
   "outputs": [],
   "source": [
    "# заполню значения с Instagram значением Android\n",
    "#df_sessions['device_browser'] = df_sessions.apply(lambda x: 'Android' if x['device_browser'].split()[0] == 'Instagram' else x['device_browser'], axis=1)"
   ]
  },
  {
   "cell_type": "code",
   "execution_count": 67,
   "id": "b474a2a0-16db-462c-a199-6cbf46e55611",
   "metadata": {},
   "outputs": [],
   "source": [
    "# замена всех значений типа браузера, количество которых менее 16000 на other\n",
    "brouser_name = ['Chrome', 'Safari', 'Safari (in-app)', 'Android Webview', 'Samsung Internet', 'Opera', 'Firefox', 'Edge']\n",
    "\n",
    "df_sessions['device_browser'] = df_sessions.apply(lambda x: 'other' if x['device_browser'] not in brouser_name else x['device_browser'], axis=1)\n"
   ]
  },
  {
   "cell_type": "code",
   "execution_count": 68,
   "id": "aa5961b9-d9de-4ead-8d25-7957677ae712",
   "metadata": {},
   "outputs": [
    {
     "data": {
      "text/plain": [
       "device_browser\n",
       "Chrome              1013436\n",
       "Safari               478562\n",
       "other                135984\n",
       "Safari (in-app)       69912\n",
       "Android Webview       55369\n",
       "Samsung Internet      47309\n",
       "Opera                 26817\n",
       "Firefox               16588\n",
       "Edge                  16065\n",
       "Name: count, dtype: int64"
      ]
     },
     "execution_count": 68,
     "metadata": {},
     "output_type": "execute_result"
    }
   ],
   "source": [
    "df_sessions.device_browser.value_counts()"
   ]
  },
  {
   "cell_type": "code",
   "execution_count": null,
   "id": "1d38aac2-8bbd-4307-876e-54af51decbde",
   "metadata": {},
   "outputs": [],
   "source": []
  },
  {
   "cell_type": "markdown",
   "id": "347aa525-f73d-449f-8fe8-faf44db1a847",
   "metadata": {},
   "source": [
    "#### Обработка значений (not set) geo_country\t"
   ]
  },
  {
   "cell_type": "code",
   "execution_count": 69,
   "id": "9826d777-b967-4244-bd07-278ba9f4df4b",
   "metadata": {},
   "outputs": [
    {
     "data": {
      "text/plain": [
       "geo_country\n",
       "Russia                 1800565\n",
       "United States            11784\n",
       "Ukraine                   9012\n",
       "Ireland                   4034\n",
       "Belarus                   3636\n",
       "                        ...   \n",
       "Zambia                       1\n",
       "Malawi                       1\n",
       "Réunion                      1\n",
       "Barbados                     1\n",
       "Congo - Brazzaville          1\n",
       "Name: count, Length: 166, dtype: int64"
      ]
     },
     "execution_count": 69,
     "metadata": {},
     "output_type": "execute_result"
    }
   ],
   "source": [
    "df_sessions.geo_country.value_counts()"
   ]
  },
  {
   "cell_type": "code",
   "execution_count": 70,
   "id": "2095d408-f9c0-4f46-880e-d1798e7a3727",
   "metadata": {},
   "outputs": [
    {
     "data": {
      "text/plain": [
       "(1146, 16)"
      ]
     },
     "execution_count": 70,
     "metadata": {},
     "output_type": "execute_result"
    }
   ],
   "source": [
    "# количество строк с (not set)\n",
    "df_sessions[df_sessions.geo_country == '(not set)'].shape"
   ]
  },
  {
   "cell_type": "code",
   "execution_count": 71,
   "id": "258883cc-e4d5-4155-8149-7c82dd73ba0b",
   "metadata": {},
   "outputs": [],
   "source": [
    "# заполню значения (not set) модой\n",
    "df_sessions['geo_country'] = df_sessions.apply(lambda x: df_sessions.geo_country.mode()[0] if x['geo_country'] == '(not set)'\n",
    "                                             else x['geo_country'], axis=1)"
   ]
  },
  {
   "cell_type": "code",
   "execution_count": 72,
   "id": "f1bc5755-dd08-42cd-81fb-5aa4b737ad4c",
   "metadata": {},
   "outputs": [
    {
     "data": {
      "text/plain": [
       "geo_country\n",
       "Russia           96.863996\n",
       "United States     0.633534\n",
       "Ukraine           0.484505\n",
       "Ireland           0.216877\n",
       "Belarus           0.195479\n",
       "Sweden            0.144835\n",
       "Kazakhstan        0.122524\n",
       "Germany           0.119997\n",
       "Turkey            0.104998\n",
       "Netherlands       0.083278\n",
       "Name: count, dtype: float64"
      ]
     },
     "execution_count": 72,
     "metadata": {},
     "output_type": "execute_result"
    }
   ],
   "source": [
    "# значения в процентах для страны\n",
    "(df_sessions.geo_country.value_counts(dropna=False) / df_sessions.shape[0] *100)[:10]"
   ]
  },
  {
   "cell_type": "code",
   "execution_count": 73,
   "id": "7c738b99-58fb-4d5c-ae55-04b5e5384815",
   "metadata": {},
   "outputs": [
    {
     "data": {
      "text/plain": [
       "geo_country\n",
       "Russia    1801711\n",
       "other       58331\n",
       "Name: count, dtype: int64"
      ]
     },
     "execution_count": 73,
     "metadata": {},
     "output_type": "execute_result"
    }
   ],
   "source": [
    "# для всех значений geo_country кроме Russia сделаю замену на other\n",
    "df_sessions['geo_country'] = df_sessions.apply(lambda x: x['geo_country'] if x['geo_country'] == 'Russia' else 'other', axis=1)\n",
    "\n",
    "df_sessions.geo_country.value_counts(dropna=False)"
   ]
  },
  {
   "cell_type": "markdown",
   "id": "b2ec733e-95c0-492f-a747-b092bb213fe1",
   "metadata": {},
   "source": [
    "#### Обработка значений (not set) geo_city"
   ]
  },
  {
   "cell_type": "code",
   "execution_count": 74,
   "id": "1410a7ad-8b4c-4ab1-82ac-826a342719b4",
   "metadata": {},
   "outputs": [
    {
     "data": {
      "text/plain": [
       "geo_city\n",
       "Moscow              805329\n",
       "Saint Petersburg    296788\n",
       "(not set)            78172\n",
       "Yekaterinburg        35788\n",
       "Krasnodar            32243\n",
       "                     ...  \n",
       "Sherbrooke               1\n",
       "Albion                   1\n",
       "Bornheim                 1\n",
       "Huntley                  1\n",
       "Sommerda                 1\n",
       "Name: count, Length: 2548, dtype: int64"
      ]
     },
     "execution_count": 74,
     "metadata": {},
     "output_type": "execute_result"
    }
   ],
   "source": [
    "df_sessions.geo_city.value_counts()"
   ]
  },
  {
   "cell_type": "code",
   "execution_count": 75,
   "id": "8a345f09-4640-455b-a6ce-2e1f3b0af596",
   "metadata": {},
   "outputs": [
    {
     "data": {
      "text/plain": [
       "(78172, 16)"
      ]
     },
     "execution_count": 75,
     "metadata": {},
     "output_type": "execute_result"
    }
   ],
   "source": [
    "df_sessions[df_sessions.geo_city == '(not set)'].shape"
   ]
  },
  {
   "cell_type": "code",
   "execution_count": 76,
   "id": "624aeaa0-d29b-4942-bb83-5ab941c8d927",
   "metadata": {},
   "outputs": [],
   "source": [
    "# заполню значения (not set) other\n",
    "df_sessions['geo_city'] = df_sessions.apply(lambda x: 'other' if x['geo_city'] == '(not set)'\n",
    "                                             else x['geo_city'], axis=1)"
   ]
  },
  {
   "cell_type": "code",
   "execution_count": 77,
   "id": "72c7a054-03da-4db0-b995-9402fc12ddf8",
   "metadata": {},
   "outputs": [
    {
     "data": {
      "text/plain": [
       "session_id                  0\n",
       "client_id                   0\n",
       "visit_date                  0\n",
       "visit_time                  0\n",
       "visit_number                0\n",
       "utm_source                  0\n",
       "utm_medium                  0\n",
       "utm_campaign                0\n",
       "utm_adcontent               0\n",
       "device_category             0\n",
       "device_os                   0\n",
       "device_brand                0\n",
       "device_screen_resolution    0\n",
       "device_browser              0\n",
       "geo_country                 0\n",
       "geo_city                    0\n",
       "dtype: int64"
      ]
     },
     "execution_count": 77,
     "metadata": {},
     "output_type": "execute_result"
    }
   ],
   "source": [
    "#проверка исходного датасета на пропуски после всех преобразований\n",
    "df_sessions.isna().sum()"
   ]
  },
  {
   "cell_type": "code",
   "execution_count": 78,
   "id": "d9d42930-3f19-4dc3-ba2f-9cd36caead31",
   "metadata": {},
   "outputs": [],
   "source": [
    "# сохраню предварительно запоненный датасет в файл\n",
    "df_sessions.to_csv('data/ga_sessions_full.csv', index=False)"
   ]
  },
  {
   "cell_type": "code",
   "execution_count": null,
   "id": "cc0e587c-6762-49d9-b239-5d0c59e36d4d",
   "metadata": {},
   "outputs": [],
   "source": []
  },
  {
   "cell_type": "markdown",
   "id": "199c80ff-d01a-4cd8-b18a-82a0956fb0db",
   "metadata": {},
   "source": [
    "### Генерация новых признаков\n"
   ]
  },
  {
   "cell_type": "code",
   "execution_count": 79,
   "id": "a2ba9c69-2a78-494f-b858-4f144cc5011b",
   "metadata": {},
   "outputs": [],
   "source": [
    "# загрузка датасета\n",
    "df_sessions = pd.read_csv('data/ga_sessions_full.csv', low_memory=False)"
   ]
  },
  {
   "cell_type": "code",
   "execution_count": 80,
   "id": "71cc6573-1cc6-4648-be8c-10065df7c4ff",
   "metadata": {},
   "outputs": [
    {
     "data": {
      "text/html": [
       "<div>\n",
       "<style scoped>\n",
       "    .dataframe tbody tr th:only-of-type {\n",
       "        vertical-align: middle;\n",
       "    }\n",
       "\n",
       "    .dataframe tbody tr th {\n",
       "        vertical-align: top;\n",
       "    }\n",
       "\n",
       "    .dataframe thead th {\n",
       "        text-align: right;\n",
       "    }\n",
       "</style>\n",
       "<table border=\"1\" class=\"dataframe\">\n",
       "  <thead>\n",
       "    <tr style=\"text-align: right;\">\n",
       "      <th></th>\n",
       "      <th>session_id</th>\n",
       "      <th>client_id</th>\n",
       "      <th>visit_date</th>\n",
       "      <th>visit_time</th>\n",
       "      <th>visit_number</th>\n",
       "      <th>utm_source</th>\n",
       "      <th>utm_medium</th>\n",
       "      <th>utm_campaign</th>\n",
       "      <th>utm_adcontent</th>\n",
       "      <th>device_category</th>\n",
       "      <th>device_os</th>\n",
       "      <th>device_brand</th>\n",
       "      <th>device_screen_resolution</th>\n",
       "      <th>device_browser</th>\n",
       "      <th>geo_country</th>\n",
       "      <th>geo_city</th>\n",
       "    </tr>\n",
       "  </thead>\n",
       "  <tbody>\n",
       "    <tr>\n",
       "      <th>0</th>\n",
       "      <td>9055434745589932991.1637753792.1637753792</td>\n",
       "      <td>2108382700.1637753791</td>\n",
       "      <td>2021-11-24</td>\n",
       "      <td>14:36:32</td>\n",
       "      <td>1</td>\n",
       "      <td>ZpYIoDJMcFzVoPFsHGJL</td>\n",
       "      <td>banner</td>\n",
       "      <td>LEoPHuyFvzoNfnzGgfcd</td>\n",
       "      <td>vCIpmpaGBnIQhyYNkXqp</td>\n",
       "      <td>mobile</td>\n",
       "      <td>Android</td>\n",
       "      <td>Huawei</td>\n",
       "      <td>360x720</td>\n",
       "      <td>Chrome</td>\n",
       "      <td>Russia</td>\n",
       "      <td>Zlatoust</td>\n",
       "    </tr>\n",
       "    <tr>\n",
       "      <th>1</th>\n",
       "      <td>905544597018549464.1636867290.1636867290</td>\n",
       "      <td>210838531.1636867288</td>\n",
       "      <td>2021-11-14</td>\n",
       "      <td>08:21:30</td>\n",
       "      <td>1</td>\n",
       "      <td>MvfHsxITijuriZxsqZqt</td>\n",
       "      <td>cpm</td>\n",
       "      <td>FTjNLDyTrXaWYgZymFkV</td>\n",
       "      <td>xhoenQgDQsgfEPYNPwKO</td>\n",
       "      <td>mobile</td>\n",
       "      <td>Android</td>\n",
       "      <td>Samsung</td>\n",
       "      <td>385x854</td>\n",
       "      <td>Samsung Internet</td>\n",
       "      <td>Russia</td>\n",
       "      <td>Moscow</td>\n",
       "    </tr>\n",
       "    <tr>\n",
       "      <th>2</th>\n",
       "      <td>9055446045651783499.1640648526.1640648526</td>\n",
       "      <td>2108385331.1640648523</td>\n",
       "      <td>2021-12-28</td>\n",
       "      <td>02:42:06</td>\n",
       "      <td>1</td>\n",
       "      <td>ZpYIoDJMcFzVoPFsHGJL</td>\n",
       "      <td>banner</td>\n",
       "      <td>LEoPHuyFvzoNfnzGgfcd</td>\n",
       "      <td>vCIpmpaGBnIQhyYNkXqp</td>\n",
       "      <td>mobile</td>\n",
       "      <td>Android</td>\n",
       "      <td>Huawei</td>\n",
       "      <td>360x720</td>\n",
       "      <td>Chrome</td>\n",
       "      <td>Russia</td>\n",
       "      <td>Krasnoyarsk</td>\n",
       "    </tr>\n",
       "    <tr>\n",
       "      <th>3</th>\n",
       "      <td>9055447046360770272.1622255328.1622255328</td>\n",
       "      <td>2108385564.1622255328</td>\n",
       "      <td>2021-05-29</td>\n",
       "      <td>05:00:00</td>\n",
       "      <td>1</td>\n",
       "      <td>kjsLglQLzykiRbcDiGcD</td>\n",
       "      <td>cpc</td>\n",
       "      <td>gecBYcKZCPMcVYdSSzKP</td>\n",
       "      <td>other_content</td>\n",
       "      <td>mobile</td>\n",
       "      <td>Android</td>\n",
       "      <td>Xiaomi</td>\n",
       "      <td>393x786</td>\n",
       "      <td>Chrome</td>\n",
       "      <td>Russia</td>\n",
       "      <td>Moscow</td>\n",
       "    </tr>\n",
       "    <tr>\n",
       "      <th>4</th>\n",
       "      <td>9055447046360770272.1622255345.1622255345</td>\n",
       "      <td>2108385564.1622255328</td>\n",
       "      <td>2021-05-29</td>\n",
       "      <td>05:00:00</td>\n",
       "      <td>2</td>\n",
       "      <td>kjsLglQLzykiRbcDiGcD</td>\n",
       "      <td>cpc</td>\n",
       "      <td>gecBYcKZCPMcVYdSSzKP</td>\n",
       "      <td>other_content</td>\n",
       "      <td>mobile</td>\n",
       "      <td>Android</td>\n",
       "      <td>Xiaomi</td>\n",
       "      <td>393x786</td>\n",
       "      <td>Chrome</td>\n",
       "      <td>Russia</td>\n",
       "      <td>Moscow</td>\n",
       "    </tr>\n",
       "  </tbody>\n",
       "</table>\n",
       "</div>"
      ],
      "text/plain": [
       "                                  session_id              client_id  \\\n",
       "0  9055434745589932991.1637753792.1637753792  2108382700.1637753791   \n",
       "1   905544597018549464.1636867290.1636867290   210838531.1636867288   \n",
       "2  9055446045651783499.1640648526.1640648526  2108385331.1640648523   \n",
       "3  9055447046360770272.1622255328.1622255328  2108385564.1622255328   \n",
       "4  9055447046360770272.1622255345.1622255345  2108385564.1622255328   \n",
       "\n",
       "   visit_date visit_time  visit_number            utm_source utm_medium  \\\n",
       "0  2021-11-24   14:36:32             1  ZpYIoDJMcFzVoPFsHGJL     banner   \n",
       "1  2021-11-14   08:21:30             1  MvfHsxITijuriZxsqZqt        cpm   \n",
       "2  2021-12-28   02:42:06             1  ZpYIoDJMcFzVoPFsHGJL     banner   \n",
       "3  2021-05-29   05:00:00             1  kjsLglQLzykiRbcDiGcD        cpc   \n",
       "4  2021-05-29   05:00:00             2  kjsLglQLzykiRbcDiGcD        cpc   \n",
       "\n",
       "           utm_campaign         utm_adcontent device_category device_os  \\\n",
       "0  LEoPHuyFvzoNfnzGgfcd  vCIpmpaGBnIQhyYNkXqp          mobile   Android   \n",
       "1  FTjNLDyTrXaWYgZymFkV  xhoenQgDQsgfEPYNPwKO          mobile   Android   \n",
       "2  LEoPHuyFvzoNfnzGgfcd  vCIpmpaGBnIQhyYNkXqp          mobile   Android   \n",
       "3  gecBYcKZCPMcVYdSSzKP         other_content          mobile   Android   \n",
       "4  gecBYcKZCPMcVYdSSzKP         other_content          mobile   Android   \n",
       "\n",
       "  device_brand device_screen_resolution    device_browser geo_country  \\\n",
       "0       Huawei                  360x720            Chrome      Russia   \n",
       "1      Samsung                  385x854  Samsung Internet      Russia   \n",
       "2       Huawei                  360x720            Chrome      Russia   \n",
       "3       Xiaomi                  393x786            Chrome      Russia   \n",
       "4       Xiaomi                  393x786            Chrome      Russia   \n",
       "\n",
       "      geo_city  \n",
       "0     Zlatoust  \n",
       "1       Moscow  \n",
       "2  Krasnoyarsk  \n",
       "3       Moscow  \n",
       "4       Moscow  "
      ]
     },
     "execution_count": 80,
     "metadata": {},
     "output_type": "execute_result"
    }
   ],
   "source": [
    "df_sessions.head(5)"
   ]
  },
  {
   "cell_type": "code",
   "execution_count": 81,
   "id": "be033948-a002-4480-baa0-181ea9ba9915",
   "metadata": {},
   "outputs": [
    {
     "data": {
      "text/plain": [
       "session_id                  object\n",
       "client_id                   object\n",
       "visit_date                  object\n",
       "visit_time                  object\n",
       "visit_number                 int64\n",
       "utm_source                  object\n",
       "utm_medium                  object\n",
       "utm_campaign                object\n",
       "utm_adcontent               object\n",
       "device_category             object\n",
       "device_os                   object\n",
       "device_brand                object\n",
       "device_screen_resolution    object\n",
       "device_browser              object\n",
       "geo_country                 object\n",
       "geo_city                    object\n",
       "dtype: object"
      ]
     },
     "execution_count": 81,
     "metadata": {},
     "output_type": "execute_result"
    }
   ],
   "source": [
    "df_sessions.dtypes"
   ]
  },
  {
   "cell_type": "code",
   "execution_count": null,
   "id": "4873f307-e028-428f-bc50-90df32fa5e82",
   "metadata": {},
   "outputs": [],
   "source": []
  },
  {
   "cell_type": "markdown",
   "id": "f5e0115b-fa13-452a-a561-2fdfc7df5b15",
   "metadata": {},
   "source": [
    "#### Признаки на основе visit_date"
   ]
  },
  {
   "cell_type": "code",
   "execution_count": 82,
   "id": "a4b02897-6f85-4a1a-952f-ae7b05a88eff",
   "metadata": {},
   "outputs": [],
   "source": [
    "# преобразую данные из столбца visit_date в формат времени\n",
    "df_sessions['visit_date'] = pd.to_datetime(df_sessions.visit_date)"
   ]
  },
  {
   "cell_type": "code",
   "execution_count": 83,
   "id": "90c206b6-c45c-4af8-b5e0-266beb07ec56",
   "metadata": {},
   "outputs": [
    {
     "data": {
      "text/plain": [
       "dtype('<M8[ns]')"
      ]
     },
     "execution_count": 83,
     "metadata": {},
     "output_type": "execute_result"
    }
   ],
   "source": [
    "df_sessions.visit_date.dtypes"
   ]
  },
  {
   "cell_type": "code",
   "execution_count": 84,
   "id": "87687b95-eeb5-460d-bc8a-6f613ef23c2c",
   "metadata": {},
   "outputs": [
    {
     "data": {
      "text/plain": [
       "0         2021-11-24\n",
       "1         2021-11-14\n",
       "2         2021-12-28\n",
       "3         2021-05-29\n",
       "4         2021-05-29\n",
       "             ...    \n",
       "1860037   2021-12-22\n",
       "1860038   2021-05-26\n",
       "1860039   2021-11-15\n",
       "1860040   2021-11-29\n",
       "1860041   2021-12-31\n",
       "Name: visit_date, Length: 1860042, dtype: datetime64[ns]"
      ]
     },
     "execution_count": 84,
     "metadata": {},
     "output_type": "execute_result"
    }
   ],
   "source": [
    "df_sessions.visit_date"
   ]
  },
  {
   "cell_type": "code",
   "execution_count": 85,
   "id": "7c126a78-939c-40a8-b31c-d1002514fd40",
   "metadata": {},
   "outputs": [
    {
     "data": {
      "text/plain": [
       "visit_date\n",
       "2021    1860042\n",
       "Name: count, dtype: int64"
      ]
     },
     "execution_count": 85,
     "metadata": {},
     "output_type": "execute_result"
    }
   ],
   "source": [
    "df_sessions.visit_date.dt.year.value_counts()\n",
    "# все записи за 2021 год"
   ]
  },
  {
   "cell_type": "code",
   "execution_count": 86,
   "id": "19f3ec30-260d-4691-8a65-58ca919cc43c",
   "metadata": {},
   "outputs": [
    {
     "data": {
      "text/plain": [
       "visit_date\n",
       "12    399102\n",
       "11    297769\n",
       "10    281622\n",
       "9     257478\n",
       "7     185244\n",
       "6     166470\n",
       "8     164155\n",
       "5     108202\n",
       "Name: count, dtype: int64"
      ]
     },
     "execution_count": 86,
     "metadata": {},
     "output_type": "execute_result"
    }
   ],
   "source": [
    "df_sessions.visit_date.dt.month.value_counts()\n",
    "# все записи с мая по декабрь"
   ]
  },
  {
   "cell_type": "code",
   "execution_count": 87,
   "id": "d388b717-85a0-43ee-b257-d543767e882f",
   "metadata": {},
   "outputs": [
    {
     "data": {
      "text/plain": [
       "0          Wednesday\n",
       "1             Sunday\n",
       "2            Tuesday\n",
       "3           Saturday\n",
       "4           Saturday\n",
       "             ...    \n",
       "1860037    Wednesday\n",
       "1860038    Wednesday\n",
       "1860039       Monday\n",
       "1860040       Monday\n",
       "1860041       Friday\n",
       "Name: day_of_the_week, Length: 1860042, dtype: object"
      ]
     },
     "execution_count": 87,
     "metadata": {},
     "output_type": "execute_result"
    }
   ],
   "source": [
    "# на остнове visit_date создам несколько новых признаков\n",
    "# день недели когда клиен заходил на сайт\n",
    "df_sessions['day_of_the_week'] = df_sessions.visit_date.dt.day_name()\n",
    "df_sessions.day_of_the_week "
   ]
  },
  {
   "cell_type": "code",
   "execution_count": 88,
   "id": "3601a324-af93-45d0-817f-2ba9eb1d1eab",
   "metadata": {},
   "outputs": [
    {
     "data": {
      "text/plain": [
       "day_of_the_week\n",
       "Tuesday      305130\n",
       "Monday       300906\n",
       "Thursday     274462\n",
       "Friday       268819\n",
       "Wednesday    258616\n",
       "Saturday     226397\n",
       "Sunday       225712\n",
       "Name: count, dtype: int64"
      ]
     },
     "execution_count": 88,
     "metadata": {},
     "output_type": "execute_result"
    }
   ],
   "source": [
    "df_sessions.day_of_the_week.value_counts()"
   ]
  },
  {
   "cell_type": "code",
   "execution_count": 89,
   "id": "d692ba11-f52d-48b7-8a4c-e79bc3adc743",
   "metadata": {},
   "outputs": [
    {
     "data": {
      "text/plain": [
       "0          4\n",
       "1          4\n",
       "2          4\n",
       "3          2\n",
       "4          2\n",
       "          ..\n",
       "1860037    4\n",
       "1860038    2\n",
       "1860039    4\n",
       "1860040    4\n",
       "1860041    4\n",
       "Name: quarter_of_the_year, Length: 1860042, dtype: int32"
      ]
     },
     "execution_count": 89,
     "metadata": {},
     "output_type": "execute_result"
    }
   ],
   "source": [
    "# в какой квартал клиент заходил на сайт\n",
    "df_sessions['quarter_of_the_year'] = df_sessions.visit_date.dt.quarter\n",
    "df_sessions.quarter_of_the_year"
   ]
  },
  {
   "cell_type": "code",
   "execution_count": 90,
   "id": "442e0efc-d727-4d1c-882a-5b9f786e28b5",
   "metadata": {},
   "outputs": [
    {
     "data": {
      "text/plain": [
       "quarter_of_the_year\n",
       "4    978493\n",
       "3    606877\n",
       "2    274672\n",
       "Name: count, dtype: int64"
      ]
     },
     "execution_count": 90,
     "metadata": {},
     "output_type": "execute_result"
    }
   ],
   "source": [
    "df_sessions.quarter_of_the_year.value_counts()"
   ]
  },
  {
   "cell_type": "code",
   "execution_count": null,
   "id": "5501f719-626e-4b9e-87bd-90fa1fc33a44",
   "metadata": {},
   "outputs": [],
   "source": []
  },
  {
   "cell_type": "markdown",
   "id": "1f5c580c-5b38-41f4-a667-5ead9948477e",
   "metadata": {},
   "source": [
    "#### Признаки на основе visit_time"
   ]
  },
  {
   "cell_type": "code",
   "execution_count": 91,
   "id": "b5d23ef3-75be-4e02-9dfa-965d90e847ea",
   "metadata": {},
   "outputs": [
    {
     "data": {
      "text/plain": [
       "0          14:36:32\n",
       "1          08:21:30\n",
       "2          02:42:06\n",
       "3          05:00:00\n",
       "4          05:00:00\n",
       "             ...   \n",
       "1860037    10:48:25\n",
       "1860038    08:00:00\n",
       "1860039    15:31:55\n",
       "1860040    15:36:44\n",
       "1860041    19:39:02\n",
       "Name: visit_time, Length: 1860042, dtype: object"
      ]
     },
     "execution_count": 91,
     "metadata": {},
     "output_type": "execute_result"
    }
   ],
   "source": [
    "# просмотр данных из столбца\n",
    "df_sessions.visit_time"
   ]
  },
  {
   "cell_type": "code",
   "execution_count": 92,
   "id": "5b341788-511f-45fb-95b5-428b59716f21",
   "metadata": {},
   "outputs": [],
   "source": [
    "\"\"\"\n",
    "Функция на основе признаков времени, где\n",
    "- morning - утреннее время просмотра с 5 до 10 часов \n",
    "- day - с 10 часов до 18 часов\n",
    "- evening - вечернее время просмотра после 18  до 23\n",
    "- night - ночное время с 0 до 5 утра\n",
    "\"\"\"\n",
    "\n",
    "def viewing_time(data):\n",
    "    time = pd.to_datetime(data).strftime('%H:%M:%S')\n",
    "    time = int(time.split(':')[0])\n",
    "    if time > 0 and time <= 5:\n",
    "        return 'night'\n",
    "    elif time > 5 and time <= 10:\n",
    "        return 'morning'\n",
    "    elif time > 10 and time <= 18:\n",
    "        return 'day'\n",
    "        \n",
    "    return 'evening'"
   ]
  },
  {
   "cell_type": "code",
   "execution_count": 93,
   "id": "04c38afe-f8dd-40b9-9ce6-d3fdc18a8a21",
   "metadata": {},
   "outputs": [
    {
     "data": {
      "text/plain": [
       "0              day\n",
       "1          morning\n",
       "2            night\n",
       "3            night\n",
       "4            night\n",
       "            ...   \n",
       "1860037    morning\n",
       "1860038    morning\n",
       "1860039        day\n",
       "1860040        day\n",
       "1860041    evening\n",
       "Name: viewing_time, Length: 1860042, dtype: object"
      ]
     },
     "execution_count": 93,
     "metadata": {},
     "output_type": "execute_result"
    }
   ],
   "source": [
    "# создам новый столбец со временем суток посещения\n",
    "df_sessions['viewing_time'] = df_sessions.apply(lambda x: viewing_time(x['visit_time']), axis=1)\n",
    "df_sessions.viewing_time"
   ]
  },
  {
   "cell_type": "code",
   "execution_count": 123,
   "id": "e44301c9-5b4d-4456-aa2f-c708eb5b8c99",
   "metadata": {},
   "outputs": [
    {
     "data": {
      "image/png": "[encoded data removed]",
      "text/plain": [
       "<Figure size 800x400 with 1 Axes>"
      ]
     },
     "metadata": {},
     "output_type": "display_data"
    }
   ],
   "source": [
    "# график распределения по времени посещения сайта\n",
    "plt.figure(figsize=(8,4))\n",
    "#plt.xticks(rotation=45)\n",
    "plt.xlabel('viewing_time')\n",
    "sns.histplot(data=df_sessions, x='viewing_time', color='skyblue')\n",
    "plt.title('Гистограмма распределения viewing_time')\n",
    "plt.show()"
   ]
  },
  {
   "cell_type": "markdown",
   "id": "ed53204d-891a-4249-bfe1-19f394ef6268",
   "metadata": {},
   "source": [
    "#### Признаки на основе utm_source"
   ]
  },
  {
   "cell_type": "code",
   "execution_count": 94,
   "id": "849dfb7b-c0b9-4774-89ce-7ffebaef7188",
   "metadata": {},
   "outputs": [],
   "source": [
    "# в случаях когда пользователь пришел из социальных сетей идентификатор в social_media\n",
    "social_media =  ['QxAxdyPLuQMEcrdZWdWb', 'MvfHsxlTijuriZxsqZqt', \n",
    "                'ISrKoXQCxqqYvAZlCvjs', 'IZEXUFLARCUMynmHNBGo', \n",
    "                'PlbkrSYoHuZBWfYjYnfw', 'gVRrcxiDQubJiljoTbGm']\n",
    "# создам новый столбец, где указано- пришел из соцсетей 1, с других других ресурсов 0\n",
    "df_sessions['advert_social_media'] = df_sessions.utm_source.apply(lambda x: 1 if x in social_media else 0)\n"
   ]
  },
  {
   "cell_type": "code",
   "execution_count": 95,
   "id": "cf25c0f3-9f18-4629-ab7d-851791b1059f",
   "metadata": {},
   "outputs": [
    {
     "data": {
      "text/plain": [
       "advert_social_media\n",
       "0    1780647\n",
       "1      79395\n",
       "Name: count, dtype: int64"
      ]
     },
     "execution_count": 95,
     "metadata": {},
     "output_type": "execute_result"
    }
   ],
   "source": [
    "df_sessions.advert_social_media.value_counts()"
   ]
  },
  {
   "cell_type": "code",
   "execution_count": null,
   "id": "f73d0037-f593-44a6-a3fd-2ab64e470e06",
   "metadata": {},
   "outputs": [],
   "source": []
  },
  {
   "cell_type": "markdown",
   "id": "23d4f166-7044-4f07-b215-d0b132808b05",
   "metadata": {},
   "source": [
    "#### Признаки на основе utm_medium"
   ]
  },
  {
   "cell_type": "code",
   "execution_count": 96,
   "id": "cb713de8-ecad-4fae-bb4e-e096fc3a7497",
   "metadata": {
    "scrolled": true
   },
   "outputs": [
    {
     "data": {
      "text/plain": [
       "utm_medium\n",
       "banner               552752\n",
       "cpc                  434794\n",
       "organic              363609\n",
       "cpm                  242083\n",
       "referral             152050\n",
       "email                 29240\n",
       "push                  28035\n",
       "stories               10582\n",
       "cpv                    8022\n",
       "blogger_channel        8015\n",
       "smartbanner            6794\n",
       "blogger_stories        4312\n",
       "cpa                    4279\n",
       "tg                     4011\n",
       "app                    2836\n",
       "post                   2326\n",
       "smm                    1985\n",
       "outlook                1332\n",
       "clicks                  934\n",
       "blogger_header          771\n",
       "info_text               343\n",
       "sms                     239\n",
       "landing                 134\n",
       "partner                  97\n",
       "fb_smm                   66\n",
       "vk_smm                   65\n",
       "link                     57\n",
       "cbaafe                   47\n",
       "CPM                      40\n",
       "yandex_cpc               36\n",
       "ok_smm                   28\n",
       "static                   22\n",
       "google_cpc               20\n",
       "article                  17\n",
       "nkp                      14\n",
       "web_polka                11\n",
       "social                    9\n",
       "medium                    8\n",
       "main_polka                4\n",
       "catalogue                 4\n",
       "users_msk                 3\n",
       "reach                     2\n",
       "promo_sber                2\n",
       "linktest                  2\n",
       "Sbol_catalog              1\n",
       "tablet                    1\n",
       "desktop                   1\n",
       "dom_click                 1\n",
       "sber_app                  1\n",
       "landing_interests         1\n",
       "last                      1\n",
       "qr                        1\n",
       "qrcodevideo               1\n",
       "promo_sbol                1\n",
       "Name: count, dtype: int64"
      ]
     },
     "execution_count": 96,
     "metadata": {},
     "output_type": "execute_result"
    }
   ],
   "source": [
    "# органический трафик — все визиты c ga_sessions.utm_medium in ('organic','referral', '(none)')\n",
    "# платный трафик — весь неорганический трафик\n",
    "df_sessions.utm_medium.value_counts(dropna=False)"
   ]
  },
  {
   "cell_type": "code",
   "execution_count": 97,
   "id": "6e737980-a3ef-4c66-b3cf-0e33f83c3eb3",
   "metadata": {},
   "outputs": [
    {
     "data": {
      "text/plain": [
       "organic_traffic\n",
       "0    1344383\n",
       "1     515659\n",
       "Name: count, dtype: int64"
      ]
     },
     "execution_count": 97,
     "metadata": {},
     "output_type": "execute_result"
    }
   ],
   "source": [
    "# создам новый признак organic_traffic\n",
    "# 1 это 'organic','referral' трафик\n",
    "# ноль весь остальной трафик\n",
    "df_sessions['organic_traffic'] = df_sessions.apply(lambda x: 1 if x['utm_medium'] == 'organic' or  x['utm_medium'] == 'referral' else 0, axis=1)\n",
    "df_sessions.organic_traffic.value_counts()"
   ]
  },
  {
   "cell_type": "code",
   "execution_count": null,
   "id": "29a6aa49-3019-4241-8380-7e4b18e1d842",
   "metadata": {},
   "outputs": [],
   "source": []
  },
  {
   "cell_type": "markdown",
   "id": "222de81e-fc12-4b3b-8fbf-710fb97855d7",
   "metadata": {},
   "source": [
    "#### Признаки на основе geo_city"
   ]
  },
  {
   "cell_type": "code",
   "execution_count": 98,
   "id": "1ed0ed74-6c2a-449d-9eeb-72ef01e81a4f",
   "metadata": {},
   "outputs": [
    {
     "data": {
      "text/plain": [
       "geo_city\n",
       "Moscow              43.296280\n",
       "Saint Petersburg    15.955984\n",
       "other                4.202701\n",
       "Yekaterinburg        1.924043\n",
       "Krasnodar            1.733455\n",
       "Kazan                1.587652\n",
       "Samara               1.343626\n",
       "Nizhny Novgorod      1.194973\n",
       "Ufa                  1.165511\n",
       "Novosibirsk          1.159544\n",
       "Krasnoyarsk          0.878797\n",
       "Chelyabinsk          0.857561\n",
       "Tula                 0.850196\n",
       "Voronezh             0.747725\n",
       "Rostov-on-Don        0.746542\n",
       "Irkutsk              0.727510\n",
       "Grozny               0.685038\n",
       "Balashikha           0.681651\n",
       "Vladivostok          0.662619\n",
       "Name: count, dtype: float64"
      ]
     },
     "execution_count": 98,
     "metadata": {},
     "output_type": "execute_result"
    }
   ],
   "source": [
    "# просмотр количества посещений по регионам \n",
    "# более 40% из Москвы, немногим меньше из Санкт Петербурга\n",
    "(df_sessions[df_sessions.geo_city.isin(df_sessions.geo_city.value_counts()[df_sessions.geo_city.value_counts()>10000].index)]\n",
    " .geo_city.value_counts() /df_sessions.geo_city.shape * 100)"
   ]
  },
  {
   "cell_type": "code",
   "execution_count": null,
   "id": "d8ef8591-52f9-4ad9-8ccc-258d15320486",
   "metadata": {},
   "outputs": [],
   "source": []
  },
  {
   "cell_type": "code",
   "execution_count": 99,
   "id": "b7b8b5b1-de49-437d-9389-9baf4cb4174a",
   "metadata": {},
   "outputs": [
    {
     "data": {
      "text/plain": [
       "visit_big_city\n",
       "1    1102117\n",
       "0     757925\n",
       "Name: count, dtype: int64"
      ]
     },
     "execution_count": 99,
     "metadata": {},
     "output_type": "execute_result"
    }
   ],
   "source": [
    "# создам признак visit_big_city на основе посещений сайта\n",
    "# 1 если посещениий более 200000 и 0 менее\n",
    "df_sessions['visit_big_city'] = df_sessions.apply(lambda x: 1 if x['geo_city'] == 'Moscow' or x['geo_city'] == 'Saint Petersburg' else 0, axis=1)\n",
    "df_sessions.visit_big_city.value_counts()"
   ]
  },
  {
   "cell_type": "code",
   "execution_count": 100,
   "id": "75203fff-f032-4251-8fc3-3b8c3335b78f",
   "metadata": {},
   "outputs": [],
   "source": [
    "# создам признак moskow_area для городов московской области\n",
    "# 1 если город в московской области, 0 когда нет\n",
    "moskow_region = [\n",
    "    'Balashikha', 'Bronnitsy', 'Chernogolovka', 'Dmitrov', 'Dolgorudny', 'Domodedovo', 'Dubna', 'Elektrogorsk', 'Elektrostal', \n",
    "    'Fryazino', 'Ivanteevka', 'Kashira', 'Klimovsk', 'Kolomna', 'Korolev', 'Kotelniki', 'Krasnogorsk', 'Lytkarino', 'Lobnya', \n",
    "    'Losino-Petrovsky', 'Lukhovitsy', 'Lyubertsy', 'Mozhaysk', 'Mytishchi', 'Naro-Fominsk', 'Noginsk', 'Odintsovo', 'Orekhovo-Zuyevo',\n",
    "    'Pavlovsky Posad', 'Podolsk', 'Pushkino', 'Ramenskoye', 'Reutov', 'Rogovo', 'Ruza', 'Sergiyev Posad', 'Serpukhov', 'Solnechnogorsk',\n",
    "    'Stupino', 'Taldom', 'Vidnoye', 'Volokolamsk', 'Voskresensk', 'Yakhroma', 'Yegoryevsk', 'Zaraysk', 'Zvenigorod'\n",
    "]\n",
    "df_sessions['moskow_area'] = df_sessions.apply(lambda x: 1 if x['geo_city'] in moskow_region else 0, axis=1 )"
   ]
  },
  {
   "cell_type": "code",
   "execution_count": 101,
   "id": "03062959-7085-4161-85f6-bc8effcc1bf7",
   "metadata": {},
   "outputs": [
    {
     "data": {
      "text/plain": [
       "moskow_area\n",
       "0    1784856\n",
       "1      75186\n",
       "Name: count, dtype: int64"
      ]
     },
     "execution_count": 101,
     "metadata": {},
     "output_type": "execute_result"
    }
   ],
   "source": [
    "df_sessions.moskow_area.value_counts()"
   ]
  },
  {
   "cell_type": "code",
   "execution_count": 102,
   "id": "67cd85bb-c9f2-422c-86e4-28f04d1ddb79",
   "metadata": {},
   "outputs": [
    {
     "data": {
      "text/html": [
       "<div>\n",
       "<style scoped>\n",
       "    .dataframe tbody tr th:only-of-type {\n",
       "        vertical-align: middle;\n",
       "    }\n",
       "\n",
       "    .dataframe tbody tr th {\n",
       "        vertical-align: top;\n",
       "    }\n",
       "\n",
       "    .dataframe thead th {\n",
       "        text-align: right;\n",
       "    }\n",
       "</style>\n",
       "<table border=\"1\" class=\"dataframe\">\n",
       "  <thead>\n",
       "    <tr style=\"text-align: right;\">\n",
       "      <th></th>\n",
       "      <th>session_id</th>\n",
       "      <th>client_id</th>\n",
       "      <th>visit_date</th>\n",
       "      <th>visit_time</th>\n",
       "      <th>visit_number</th>\n",
       "      <th>utm_source</th>\n",
       "      <th>utm_medium</th>\n",
       "      <th>utm_campaign</th>\n",
       "      <th>utm_adcontent</th>\n",
       "      <th>device_category</th>\n",
       "      <th>...</th>\n",
       "      <th>device_browser</th>\n",
       "      <th>geo_country</th>\n",
       "      <th>geo_city</th>\n",
       "      <th>day_of_the_week</th>\n",
       "      <th>quarter_of_the_year</th>\n",
       "      <th>viewing_time</th>\n",
       "      <th>advert_social_media</th>\n",
       "      <th>organic_traffic</th>\n",
       "      <th>visit_big_city</th>\n",
       "      <th>moskow_area</th>\n",
       "    </tr>\n",
       "  </thead>\n",
       "  <tbody>\n",
       "    <tr>\n",
       "      <th>0</th>\n",
       "      <td>9055434745589932991.1637753792.1637753792</td>\n",
       "      <td>2108382700.1637753791</td>\n",
       "      <td>2021-11-24</td>\n",
       "      <td>14:36:32</td>\n",
       "      <td>1</td>\n",
       "      <td>ZpYIoDJMcFzVoPFsHGJL</td>\n",
       "      <td>banner</td>\n",
       "      <td>LEoPHuyFvzoNfnzGgfcd</td>\n",
       "      <td>vCIpmpaGBnIQhyYNkXqp</td>\n",
       "      <td>mobile</td>\n",
       "      <td>...</td>\n",
       "      <td>Chrome</td>\n",
       "      <td>Russia</td>\n",
       "      <td>Zlatoust</td>\n",
       "      <td>Wednesday</td>\n",
       "      <td>4</td>\n",
       "      <td>day</td>\n",
       "      <td>0</td>\n",
       "      <td>0</td>\n",
       "      <td>0</td>\n",
       "      <td>0</td>\n",
       "    </tr>\n",
       "    <tr>\n",
       "      <th>1</th>\n",
       "      <td>905544597018549464.1636867290.1636867290</td>\n",
       "      <td>210838531.1636867288</td>\n",
       "      <td>2021-11-14</td>\n",
       "      <td>08:21:30</td>\n",
       "      <td>1</td>\n",
       "      <td>MvfHsxITijuriZxsqZqt</td>\n",
       "      <td>cpm</td>\n",
       "      <td>FTjNLDyTrXaWYgZymFkV</td>\n",
       "      <td>xhoenQgDQsgfEPYNPwKO</td>\n",
       "      <td>mobile</td>\n",
       "      <td>...</td>\n",
       "      <td>Samsung Internet</td>\n",
       "      <td>Russia</td>\n",
       "      <td>Moscow</td>\n",
       "      <td>Sunday</td>\n",
       "      <td>4</td>\n",
       "      <td>morning</td>\n",
       "      <td>0</td>\n",
       "      <td>0</td>\n",
       "      <td>1</td>\n",
       "      <td>0</td>\n",
       "    </tr>\n",
       "    <tr>\n",
       "      <th>2</th>\n",
       "      <td>9055446045651783499.1640648526.1640648526</td>\n",
       "      <td>2108385331.1640648523</td>\n",
       "      <td>2021-12-28</td>\n",
       "      <td>02:42:06</td>\n",
       "      <td>1</td>\n",
       "      <td>ZpYIoDJMcFzVoPFsHGJL</td>\n",
       "      <td>banner</td>\n",
       "      <td>LEoPHuyFvzoNfnzGgfcd</td>\n",
       "      <td>vCIpmpaGBnIQhyYNkXqp</td>\n",
       "      <td>mobile</td>\n",
       "      <td>...</td>\n",
       "      <td>Chrome</td>\n",
       "      <td>Russia</td>\n",
       "      <td>Krasnoyarsk</td>\n",
       "      <td>Tuesday</td>\n",
       "      <td>4</td>\n",
       "      <td>night</td>\n",
       "      <td>0</td>\n",
       "      <td>0</td>\n",
       "      <td>0</td>\n",
       "      <td>0</td>\n",
       "    </tr>\n",
       "    <tr>\n",
       "      <th>3</th>\n",
       "      <td>9055447046360770272.1622255328.1622255328</td>\n",
       "      <td>2108385564.1622255328</td>\n",
       "      <td>2021-05-29</td>\n",
       "      <td>05:00:00</td>\n",
       "      <td>1</td>\n",
       "      <td>kjsLglQLzykiRbcDiGcD</td>\n",
       "      <td>cpc</td>\n",
       "      <td>gecBYcKZCPMcVYdSSzKP</td>\n",
       "      <td>other_content</td>\n",
       "      <td>mobile</td>\n",
       "      <td>...</td>\n",
       "      <td>Chrome</td>\n",
       "      <td>Russia</td>\n",
       "      <td>Moscow</td>\n",
       "      <td>Saturday</td>\n",
       "      <td>2</td>\n",
       "      <td>night</td>\n",
       "      <td>0</td>\n",
       "      <td>0</td>\n",
       "      <td>1</td>\n",
       "      <td>0</td>\n",
       "    </tr>\n",
       "    <tr>\n",
       "      <th>4</th>\n",
       "      <td>9055447046360770272.1622255345.1622255345</td>\n",
       "      <td>2108385564.1622255328</td>\n",
       "      <td>2021-05-29</td>\n",
       "      <td>05:00:00</td>\n",
       "      <td>2</td>\n",
       "      <td>kjsLglQLzykiRbcDiGcD</td>\n",
       "      <td>cpc</td>\n",
       "      <td>gecBYcKZCPMcVYdSSzKP</td>\n",
       "      <td>other_content</td>\n",
       "      <td>mobile</td>\n",
       "      <td>...</td>\n",
       "      <td>Chrome</td>\n",
       "      <td>Russia</td>\n",
       "      <td>Moscow</td>\n",
       "      <td>Saturday</td>\n",
       "      <td>2</td>\n",
       "      <td>night</td>\n",
       "      <td>0</td>\n",
       "      <td>0</td>\n",
       "      <td>1</td>\n",
       "      <td>0</td>\n",
       "    </tr>\n",
       "  </tbody>\n",
       "</table>\n",
       "<p>5 rows × 23 columns</p>\n",
       "</div>"
      ],
      "text/plain": [
       "                                  session_id              client_id  \\\n",
       "0  9055434745589932991.1637753792.1637753792  2108382700.1637753791   \n",
       "1   905544597018549464.1636867290.1636867290   210838531.1636867288   \n",
       "2  9055446045651783499.1640648526.1640648526  2108385331.1640648523   \n",
       "3  9055447046360770272.1622255328.1622255328  2108385564.1622255328   \n",
       "4  9055447046360770272.1622255345.1622255345  2108385564.1622255328   \n",
       "\n",
       "  visit_date visit_time  visit_number            utm_source utm_medium  \\\n",
       "0 2021-11-24   14:36:32             1  ZpYIoDJMcFzVoPFsHGJL     banner   \n",
       "1 2021-11-14   08:21:30             1  MvfHsxITijuriZxsqZqt        cpm   \n",
       "2 2021-12-28   02:42:06             1  ZpYIoDJMcFzVoPFsHGJL     banner   \n",
       "3 2021-05-29   05:00:00             1  kjsLglQLzykiRbcDiGcD        cpc   \n",
       "4 2021-05-29   05:00:00             2  kjsLglQLzykiRbcDiGcD        cpc   \n",
       "\n",
       "           utm_campaign         utm_adcontent device_category  ...  \\\n",
       "0  LEoPHuyFvzoNfnzGgfcd  vCIpmpaGBnIQhyYNkXqp          mobile  ...   \n",
       "1  FTjNLDyTrXaWYgZymFkV  xhoenQgDQsgfEPYNPwKO          mobile  ...   \n",
       "2  LEoPHuyFvzoNfnzGgfcd  vCIpmpaGBnIQhyYNkXqp          mobile  ...   \n",
       "3  gecBYcKZCPMcVYdSSzKP         other_content          mobile  ...   \n",
       "4  gecBYcKZCPMcVYdSSzKP         other_content          mobile  ...   \n",
       "\n",
       "     device_browser geo_country     geo_city day_of_the_week  \\\n",
       "0            Chrome      Russia     Zlatoust       Wednesday   \n",
       "1  Samsung Internet      Russia       Moscow          Sunday   \n",
       "2            Chrome      Russia  Krasnoyarsk         Tuesday   \n",
       "3            Chrome      Russia       Moscow        Saturday   \n",
       "4            Chrome      Russia       Moscow        Saturday   \n",
       "\n",
       "  quarter_of_the_year viewing_time advert_social_media  organic_traffic  \\\n",
       "0                   4          day                   0                0   \n",
       "1                   4      morning                   0                0   \n",
       "2                   4        night                   0                0   \n",
       "3                   2        night                   0                0   \n",
       "4                   2        night                   0                0   \n",
       "\n",
       "  visit_big_city  moskow_area  \n",
       "0              0            0  \n",
       "1              1            0  \n",
       "2              0            0  \n",
       "3              1            0  \n",
       "4              1            0  \n",
       "\n",
       "[5 rows x 23 columns]"
      ]
     },
     "execution_count": 102,
     "metadata": {},
     "output_type": "execute_result"
    }
   ],
   "source": [
    "# итоговый датасет\n",
    "df_sessions.head()"
   ]
  },
  {
   "cell_type": "code",
   "execution_count": 103,
   "id": "9a26d734-1082-40c3-b24b-a6c8f74ae354",
   "metadata": {},
   "outputs": [],
   "source": [
    "# сохраню датасет дополненный новыими признаками в файл\n",
    "df_sessions.to_csv('data/ga_sessions_features.csv', index=False)"
   ]
  },
  {
   "cell_type": "code",
   "execution_count": 104,
   "id": "ae28eadd-bf53-4082-8957-ddb984fc396a",
   "metadata": {},
   "outputs": [
    {
     "name": "stdout",
     "output_type": "stream",
     "text": [
      "<class 'pandas.core.frame.DataFrame'>\n",
      "RangeIndex: 1860042 entries, 0 to 1860041\n",
      "Data columns (total 23 columns):\n",
      " #   Column                    Dtype         \n",
      "---  ------                    -----         \n",
      " 0   session_id                object        \n",
      " 1   client_id                 object        \n",
      " 2   visit_date                datetime64[ns]\n",
      " 3   visit_time                object        \n",
      " 4   visit_number              int64         \n",
      " 5   utm_source                object        \n",
      " 6   utm_medium                object        \n",
      " 7   utm_campaign              object        \n",
      " 8   utm_adcontent             object        \n",
      " 9   device_category           object        \n",
      " 10  device_os                 object        \n",
      " 11  device_brand              object        \n",
      " 12  device_screen_resolution  object        \n",
      " 13  device_browser            object        \n",
      " 14  geo_country               object        \n",
      " 15  geo_city                  object        \n",
      " 16  day_of_the_week           object        \n",
      " 17  quarter_of_the_year       int32         \n",
      " 18  viewing_time              object        \n",
      " 19  advert_social_media       int64         \n",
      " 20  organic_traffic           int64         \n",
      " 21  visit_big_city            int64         \n",
      " 22  moskow_area               int64         \n",
      "dtypes: datetime64[ns](1), int32(1), int64(5), object(16)\n",
      "memory usage: 319.3+ MB\n"
     ]
    }
   ],
   "source": [
    "df_sessions.info()"
   ]
  },
  {
   "cell_type": "code",
   "execution_count": 105,
   "id": "5b4a211a-a1b6-4d74-84dd-67238d168b90",
   "metadata": {},
   "outputs": [
    {
     "data": {
      "text/plain": [
       "session_id                  1860042\n",
       "client_id                   1391719\n",
       "visit_date                      226\n",
       "visit_time                    85318\n",
       "visit_number                    537\n",
       "utm_source                      293\n",
       "utm_medium                       54\n",
       "utm_campaign                      5\n",
       "utm_adcontent                     5\n",
       "device_category                   3\n",
       "device_os                         7\n",
       "device_brand                      5\n",
       "device_screen_resolution       5039\n",
       "device_browser                    9\n",
       "geo_country                       2\n",
       "geo_city                       2548\n",
       "day_of_the_week                   7\n",
       "quarter_of_the_year               3\n",
       "viewing_time                      4\n",
       "advert_social_media               2\n",
       "organic_traffic                   2\n",
       "visit_big_city                    2\n",
       "moskow_area                       2\n",
       "dtype: int64"
      ]
     },
     "execution_count": 105,
     "metadata": {},
     "output_type": "execute_result"
    }
   ],
   "source": [
    "df_sessions.nunique()"
   ]
  },
  {
   "cell_type": "code",
   "execution_count": null,
   "id": "d3d8c7b4-0375-493a-bdab-4325b89ed92f",
   "metadata": {},
   "outputs": [],
   "source": []
  },
  {
   "cell_type": "code",
   "execution_count": null,
   "id": "5157f7a4-9b4d-4414-98c8-bbb936d7a057",
   "metadata": {},
   "outputs": [],
   "source": []
  },
  {
   "cell_type": "code",
   "execution_count": null,
   "id": "129d966a-6932-4c72-84f2-45518ab9bcde",
   "metadata": {},
   "outputs": [],
   "source": []
  }
 ],
 "metadata": {
  "kernelspec": {
   "display_name": "Python 3 (ipykernel)",
   "language": "python",
   "name": "python3"
  },
  "language_info": {
   "codemirror_mode": {
    "name": "ipython",
    "version": 3
   },
   "file_extension": ".py",
   "mimetype": "text/x-python",
   "name": "python",
   "nbconvert_exporter": "python",
   "pygments_lexer": "ipython3",
   "version": "3.12.7"
  }
 },
 "nbformat": 4,
 "nbformat_minor": 5
}
