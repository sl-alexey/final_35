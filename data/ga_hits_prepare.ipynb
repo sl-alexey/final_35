{
 "cells": [
  {
   "cell_type": "markdown",
   "id": "52f2e78f-03d6-4b40-831d-0a15f4947f7d",
   "metadata": {},
   "source": [
    "О сервисе «СберАвтоподписка»  \n",
    "«СберАвтоподписка» предлагает новый для российского рынка способ\n",
    "владения автомобилем и выступает в качестве альтернативы автокредиту.\n",
    "Машина — это актив, который быстро теряет в цене, поэтому мы\n",
    "рекомендуем вкладывать собственные средства в финансовые инструменты,\n",
    "а автомобиль брать во временное пользование за комфортную сумму\n",
    "в месяц."
   ]
  },
  {
   "cell_type": "markdown",
   "id": "f0c41967-1380-4d8a-b090-4ceb8391ba5d",
   "metadata": {},
   "source": [
    "#### Задача "
   ]
  },
  {
   "cell_type": "markdown",
   "id": "c3056c98-b380-40c8-af9d-79b1c377e7b0",
   "metadata": {},
   "source": [
    "  - изучить предоставленный датасет,\n",
    "  - ответить на вопросы из общей части (подразумевающей базовую обработку данных и их разведочный анализ)  \n",
    "  - выполнить задание по специализации ML-инженер."
   ]
  },
  {
   "cell_type": "markdown",
   "id": "f236e1cf-5a7b-4a27-ae72-36f0dbc379bb",
   "metadata": {},
   "source": [
    "#### План работы "
   ]
  },
  {
   "cell_type": "markdown",
   "id": "725592e9-b081-4d77-b416-1ec74801a62b",
   "metadata": {},
   "source": [
    "1. Подготовительная часть\n",
    "   - ознакомление с предоставленным датасетом и описание атрбиутов\n",
    "   - оценка и описательные статистики данных\n",
    "   - приведение данных к нормальному виду для дальнейшей работы\n",
    "2. Разведочный анализ данных\n",
    "   - базова чистка- проверка на дубликаты, пустые значения, типизация данных,\n",
    "     ненужные атрибуты\n",
    "   - распределения ключевых атрибутов и их отношение\n",
    "3. Задание\n",
    "   - предсказать cовершение целевого действия(ROC_AUC~0.65) - факт совершения\n",
    "     пользователем целевого действия\n",
    "   - упаковать модель в сервис, который будет брать на вход все атрибуты, типа utm_\\*, devace_\\*, geo_\\*,\n",
    "     и отдавать на выход 0/1(1-совершит любое целевое деиствие)\n",
    "\n",
    "\n"
   ]
  },
  {
   "cell_type": "markdown",
   "id": "57044047-d28e-4892-9bf0-ccbdf04153db",
   "metadata": {},
   "source": [
    "#### Описание представленных данных"
   ]
  },
  {
   "cell_type": "markdown",
   "id": "8cb1c5ba-b7d2-41d7-807b-a06058acea44",
   "metadata": {},
   "source": [
    "GA Hits (ga_hits.pkI)  \n",
    "*Одна строка = одно событие в рамках одного визита на сайт*  \n",
    "\n",
    "Описание атрибутов:  \n",
    "\n",
    "•\tsession _id — ID визита   \n",
    "•\thit_date — дата события  \n",
    "•\thlt_time — время события  \n",
    "•\thit_number — порядковый номер события в рамках сессии  \n",
    "•\thit_type — тип события  \n",
    "•\thit_referer — источник события  \n",
    "•\thit_page_path — страница события  \n",
    "•\tevent_category — тип действия  \n",
    "•\tevent_action — действие  \n",
    "•\tevent_label — тег действия  \n",
    "•\tevent_value — значения результата действия  "
   ]
  },
  {
   "cell_type": "markdown",
   "id": "c836df56-ec4f-48ef-94b3-45422ee9f93a",
   "metadata": {},
   "source": [
    "#### Импорт пакетов"
   ]
  },
  {
   "cell_type": "code",
   "execution_count": 1,
   "id": "9f1eedc4-e0ed-405a-a6aa-8367fa83d408",
   "metadata": {},
   "outputs": [],
   "source": [
    "import pandas as pd\n",
    "import random\n",
    "\n",
    "import matplotlib.pyplot as plt\n",
    "import seaborn as sns\n",
    "\n",
    "from  datetime import datetime\n"
   ]
  },
  {
   "cell_type": "markdown",
   "id": "b7da9b33-7116-4059-93ef-c2c6ed61dda0",
   "metadata": {},
   "source": [
    "### Загрузка данных из файла"
   ]
  },
  {
   "cell_type": "code",
   "execution_count": 2,
   "id": "de268c9c-91a0-420c-89c1-2c61e2bdbd19",
   "metadata": {},
   "outputs": [
    {
     "data": {
      "text/html": [
       "<div>\n",
       "<style scoped>\n",
       "    .dataframe tbody tr th:only-of-type {\n",
       "        vertical-align: middle;\n",
       "    }\n",
       "\n",
       "    .dataframe tbody tr th {\n",
       "        vertical-align: top;\n",
       "    }\n",
       "\n",
       "    .dataframe thead th {\n",
       "        text-align: right;\n",
       "    }\n",
       "</style>\n",
       "<table border=\"1\" class=\"dataframe\">\n",
       "  <thead>\n",
       "    <tr style=\"text-align: right;\">\n",
       "      <th></th>\n",
       "      <th>session_id</th>\n",
       "      <th>hit_date</th>\n",
       "      <th>hit_time</th>\n",
       "      <th>hit_number</th>\n",
       "      <th>hit_type</th>\n",
       "      <th>hit_referer</th>\n",
       "      <th>hit_page_path</th>\n",
       "      <th>event_category</th>\n",
       "      <th>event_action</th>\n",
       "      <th>event_label</th>\n",
       "      <th>event_value</th>\n",
       "    </tr>\n",
       "  </thead>\n",
       "  <tbody>\n",
       "    <tr>\n",
       "      <th>0</th>\n",
       "      <td>5639623078712724064.1640254056.1640254056</td>\n",
       "      <td>2021-12-23</td>\n",
       "      <td>597864.0</td>\n",
       "      <td>30</td>\n",
       "      <td>event</td>\n",
       "      <td>NaN</td>\n",
       "      <td>sberauto.com/cars?utm_source_initial=google&amp;ut...</td>\n",
       "      <td>quiz</td>\n",
       "      <td>quiz_show</td>\n",
       "      <td>NaN</td>\n",
       "      <td>NaN</td>\n",
       "    </tr>\n",
       "    <tr>\n",
       "      <th>1</th>\n",
       "      <td>7750352294969115059.1640271109.1640271109</td>\n",
       "      <td>2021-12-23</td>\n",
       "      <td>597331.0</td>\n",
       "      <td>41</td>\n",
       "      <td>event</td>\n",
       "      <td>NaN</td>\n",
       "      <td>sberauto.com/cars/fiat?city=1&amp;city=18&amp;rental_c...</td>\n",
       "      <td>quiz</td>\n",
       "      <td>quiz_show</td>\n",
       "      <td>NaN</td>\n",
       "      <td>NaN</td>\n",
       "    </tr>\n",
       "    <tr>\n",
       "      <th>2</th>\n",
       "      <td>885342191847998240.1640235807.1640235807</td>\n",
       "      <td>2021-12-23</td>\n",
       "      <td>796252.0</td>\n",
       "      <td>49</td>\n",
       "      <td>event</td>\n",
       "      <td>NaN</td>\n",
       "      <td>sberauto.com/cars/all/volkswagen/polo/e994838f...</td>\n",
       "      <td>quiz</td>\n",
       "      <td>quiz_show</td>\n",
       "      <td>NaN</td>\n",
       "      <td>NaN</td>\n",
       "    </tr>\n",
       "    <tr>\n",
       "      <th>3</th>\n",
       "      <td>142526202120934167.1640211014.1640211014</td>\n",
       "      <td>2021-12-23</td>\n",
       "      <td>934292.0</td>\n",
       "      <td>46</td>\n",
       "      <td>event</td>\n",
       "      <td>NaN</td>\n",
       "      <td>sberauto.com/cars?utm_source_initial=yandex&amp;ut...</td>\n",
       "      <td>quiz</td>\n",
       "      <td>quiz_show</td>\n",
       "      <td>NaN</td>\n",
       "      <td>NaN</td>\n",
       "    </tr>\n",
       "    <tr>\n",
       "      <th>4</th>\n",
       "      <td>3450086108837475701.1640265078.1640265078</td>\n",
       "      <td>2021-12-23</td>\n",
       "      <td>768741.0</td>\n",
       "      <td>79</td>\n",
       "      <td>event</td>\n",
       "      <td>NaN</td>\n",
       "      <td>sberauto.com/cars/all/mercedes-benz/cla-klasse...</td>\n",
       "      <td>quiz</td>\n",
       "      <td>quiz_show</td>\n",
       "      <td>NaN</td>\n",
       "      <td>NaN</td>\n",
       "    </tr>\n",
       "  </tbody>\n",
       "</table>\n",
       "</div>"
      ],
      "text/plain": [
       "                                  session_id    hit_date  hit_time  \\\n",
       "0  5639623078712724064.1640254056.1640254056  2021-12-23  597864.0   \n",
       "1  7750352294969115059.1640271109.1640271109  2021-12-23  597331.0   \n",
       "2   885342191847998240.1640235807.1640235807  2021-12-23  796252.0   \n",
       "3   142526202120934167.1640211014.1640211014  2021-12-23  934292.0   \n",
       "4  3450086108837475701.1640265078.1640265078  2021-12-23  768741.0   \n",
       "\n",
       "   hit_number hit_type hit_referer  \\\n",
       "0          30    event         NaN   \n",
       "1          41    event         NaN   \n",
       "2          49    event         NaN   \n",
       "3          46    event         NaN   \n",
       "4          79    event         NaN   \n",
       "\n",
       "                                       hit_page_path event_category  \\\n",
       "0  sberauto.com/cars?utm_source_initial=google&ut...           quiz   \n",
       "1  sberauto.com/cars/fiat?city=1&city=18&rental_c...           quiz   \n",
       "2  sberauto.com/cars/all/volkswagen/polo/e994838f...           quiz   \n",
       "3  sberauto.com/cars?utm_source_initial=yandex&ut...           quiz   \n",
       "4  sberauto.com/cars/all/mercedes-benz/cla-klasse...           quiz   \n",
       "\n",
       "  event_action event_label  event_value  \n",
       "0    quiz_show         NaN          NaN  \n",
       "1    quiz_show         NaN          NaN  \n",
       "2    quiz_show         NaN          NaN  \n",
       "3    quiz_show         NaN          NaN  \n",
       "4    quiz_show         NaN          NaN  "
      ]
     },
     "execution_count": 2,
     "metadata": {},
     "output_type": "execute_result"
    }
   ],
   "source": [
    "df_hits = pd.read_csv('data/ga_hits.csv', low_memory=False)\n",
    "df_hits.head()"
   ]
  },
  {
   "cell_type": "code",
   "execution_count": 3,
   "id": "75eaaece-f101-4708-b8ea-674f3dc4caeb",
   "metadata": {},
   "outputs": [
    {
     "data": {
      "text/plain": [
       "(15726470, 11)"
      ]
     },
     "execution_count": 3,
     "metadata": {},
     "output_type": "execute_result"
    }
   ],
   "source": [
    "# размер датасета\n",
    "df_hits.shape"
   ]
  },
  {
   "cell_type": "markdown",
   "id": "ed83e960-c65e-4a9b-809b-d8a2cfa960fe",
   "metadata": {},
   "source": [
    "### Data Preparation"
   ]
  },
  {
   "cell_type": "markdown",
   "id": "acea4f93-5a72-4693-a03d-f463b223f476",
   "metadata": {},
   "source": [
    "#### Предварительная проверка и обработка данных данных"
   ]
  },
  {
   "cell_type": "code",
   "execution_count": 4,
   "id": "a51536f8-6110-414c-9401-ea97b566669c",
   "metadata": {},
   "outputs": [
    {
     "data": {
      "text/plain": [
       "0"
      ]
     },
     "execution_count": 4,
     "metadata": {},
     "output_type": "execute_result"
    }
   ],
   "source": [
    "# проверка на дубликаты \n",
    "df_hits.duplicated().sum()"
   ]
  },
  {
   "cell_type": "code",
   "execution_count": 5,
   "id": "63172f1c-c424-40bc-b247-aa0ab7570af6",
   "metadata": {},
   "outputs": [
    {
     "name": "stdout",
     "output_type": "stream",
     "text": [
      "<class 'pandas.core.frame.DataFrame'>\n",
      "RangeIndex: 15726470 entries, 0 to 15726469\n",
      "Data columns (total 11 columns):\n",
      " #   Column          Dtype  \n",
      "---  ------          -----  \n",
      " 0   session_id      object \n",
      " 1   hit_date        object \n",
      " 2   hit_time        float64\n",
      " 3   hit_number      int64  \n",
      " 4   hit_type        object \n",
      " 5   hit_referer     object \n",
      " 6   hit_page_path   object \n",
      " 7   event_category  object \n",
      " 8   event_action    object \n",
      " 9   event_label     object \n",
      " 10  event_value     float64\n",
      "dtypes: float64(2), int64(1), object(8)\n",
      "memory usage: 1.3+ GB\n"
     ]
    }
   ],
   "source": [
    "# просмотр типов данных столбцов\n",
    "df_hits.info()"
   ]
  },
  {
   "cell_type": "code",
   "execution_count": 6,
   "id": "73da1957-b19a-434b-8fe6-89f9d883b0df",
   "metadata": {},
   "outputs": [
    {
     "data": {
      "text/plain": [
       "session_id               0\n",
       "hit_date                 0\n",
       "hit_time           9160322\n",
       "hit_number               0\n",
       "hit_type                 0\n",
       "hit_referer        6274804\n",
       "hit_page_path            0\n",
       "event_category           0\n",
       "event_action             0\n",
       "event_label        3760184\n",
       "event_value       15726470\n",
       "dtype: int64"
      ]
     },
     "execution_count": 6,
     "metadata": {},
     "output_type": "execute_result"
    }
   ],
   "source": [
    "# проверка на нулевые значения\n",
    "df_hits.isnull().sum()"
   ]
  },
  {
   "cell_type": "code",
   "execution_count": 7,
   "id": "90113d77-95cd-4241-886a-339eca3210ac",
   "metadata": {
    "scrolled": true
   },
   "outputs": [
    {
     "data": {
      "text/plain": [
       "session_id        1734610\n",
       "hit_date              226\n",
       "hit_time           925887\n",
       "hit_number            500\n",
       "hit_type                1\n",
       "hit_referer         37873\n",
       "hit_page_path      342715\n",
       "event_category         52\n",
       "event_action          230\n",
       "event_label         39825\n",
       "event_value             0\n",
       "dtype: int64"
      ]
     },
     "execution_count": 7,
     "metadata": {},
     "output_type": "execute_result"
    }
   ],
   "source": [
    "# просмотр количества уникальных  значений  столбцах\n",
    "df_hits.nunique()"
   ]
  },
  {
   "cell_type": "code",
   "execution_count": null,
   "id": "851646a1-bbe3-475b-9276-4052a72e2951",
   "metadata": {},
   "outputs": [],
   "source": []
  },
  {
   "cell_type": "markdown",
   "id": "21214bda-9f47-4a69-8682-fa440ead7ecb",
   "metadata": {},
   "source": [
    "#### Обработка значений в столбце event_action"
   ]
  },
  {
   "cell_type": "markdown",
   "id": "c59993b8-b91d-4ff8-81d4-f379cb499d6c",
   "metadata": {},
   "source": [
    "Целевое действие —   \n",
    "события типа \"Оставить заявку\" и \"Заказать звонок\" (ga hits.event action in \\['sub car claim click', 'sub car claim submit click', 'sub_open_diaIog_cIick', 'sub_custom_question_submit_cIick', 'sub_caII_number_cIick', 'sub_caIIback_submit_cIick', 'sub_submit_success', ’sub car request submit click'\\])."
   ]
  },
  {
   "cell_type": "code",
   "execution_count": 8,
   "id": "5ada2bbb-68f4-45c7-abbb-9a2894572e73",
   "metadata": {},
   "outputs": [
    {
     "data": {
      "text/plain": [
       "event_action\n",
       "view_card                             3558985\n",
       "view_new_card                         3551009\n",
       "sub_landing                           1798117\n",
       "go_to_car_card                         973666\n",
       "sub_view_cars_click                    791515\n",
       "search_form_region                     512069\n",
       "search_form_search_btn                 433748\n",
       "sap_search_form_cost_to                356596\n",
       "showed_number_ads                      326274\n",
       "pagination_click                       248944\n",
       "search_form_mark_select                222652\n",
       "quiz_show                              214037\n",
       "search_form_model_select               211890\n",
       "sap_search_form_cost_from              188129\n",
       "photos_all                             181493\n",
       "search_form_search_car_type_select     174877\n",
       "photos                                 158543\n",
       "sub_car_page                           130310\n",
       "view_more_click                        109971\n",
       "search_kpp                              79465\n",
       "Name: count, dtype: int64"
      ]
     },
     "execution_count": 8,
     "metadata": {},
     "output_type": "execute_result"
    }
   ],
   "source": [
    "# просмотр категорий по столбцу\n",
    "df_hits.event_action.value_counts().head(20)"
   ]
  },
  {
   "cell_type": "code",
   "execution_count": 71,
   "id": "ef9c3de5-e0ae-4036-9c31-f97df7efb72b",
   "metadata": {},
   "outputs": [
    {
     "data": {
      "image/png": "[encoded data removed]",
      "text/plain": [
       "<Figure size 1000x600 with 1 Axes>"
      ]
     },
     "metadata": {},
     "output_type": "display_data"
    }
   ],
   "source": [
    "# диаграмма распределения большинства действий на сайте\n",
    "plt.figure(figsize=(10, 6))\n",
    "plt.title(\"Диаграмма ТОП10 распределения действий по количеству\")\n",
    "plt.pie(df_hits.event_action.value_counts()[:10], labels=df_hits.event_action.value_counts().index[:10],\n",
    "        colors = sns.color_palette('pastel'), autopct='%.0f%%')\n",
    "plt.show()"
   ]
  },
  {
   "cell_type": "code",
   "execution_count": 9,
   "id": "11585389-235b-4cfa-a298-3c3792ac9478",
   "metadata": {},
   "outputs": [
    {
     "name": "stdout",
     "output_type": "stream",
     "text": [
      "Всего действий, удовлетворяющих целевому событию: 104908\n",
      "Процент от общего числа 0.6671\n"
     ]
    }
   ],
   "source": [
    "# подсчет общего количества событий, удовлетворяющих целевому\n",
    "target = ['sub_car_claim_click', 'sub_car_claim_submit_click', 'sub_open_dialog_click', \n",
    "          'sub_custom_question_submit_click', 'sub_call_number_click', 'sub_callback_submit_click', \n",
    "          'sub_submit_success', 'sub_car_request_submit_click']\n",
    "\n",
    "value_target = df_hits.apply(lambda x: x['event_action'] in target, axis=1).sum()\n",
    "\n",
    "print(f'Всего действий, удовлетворяющих целевому событию: {value_target}')\n",
    "print(f'Процент от общего числа {value_target / df_hits.shape[0] * 100:.4f}')"
   ]
  },
  {
   "cell_type": "code",
   "execution_count": 10,
   "id": "610ad54b-bcfa-4e2e-b49e-f5cc639041c3",
   "metadata": {},
   "outputs": [
    {
     "name": "stdout",
     "output_type": "stream",
     "text": [
      "sub_car_claim_click --- 37928 процент от общего 0.2412\n",
      "sub_car_claim_submit_click --- 12359 процент от общего 0.0786\n",
      "sub_open_dialog_click --- 25870 процент от общего 0.1645\n",
      "sub_custom_question_submit_click --- 619 процент от общего 0.0039\n",
      "sub_call_number_click --- 3653 процент от общего 0.0232\n",
      "sub_callback_submit_click --- 3074 процент от общего 0.0195\n",
      "sub_submit_success --- 18439 процент от общего 0.1172\n",
      "sub_car_request_submit_click --- 2966 процент от общего 0.0189\n"
     ]
    }
   ],
   "source": [
    "# просмотр целевых событий по каждому действию\n",
    "\n",
    "for tar in target:\n",
    "    value = df_hits[df_hits['event_action'] == tar].shape[0]\n",
    "    print(f'{tar} --- {value} процент от общего {value / df_hits.shape[0] * 100:.4f}')"
   ]
  },
  {
   "cell_type": "code",
   "execution_count": 11,
   "id": "f24206e9-fbf3-4b56-9045-571b89406802",
   "metadata": {},
   "outputs": [
    {
     "data": {
      "text/plain": [
       "target_action\n",
       "0    15621562\n",
       "1      104908\n",
       "Name: count, dtype: int64"
      ]
     },
     "execution_count": 11,
     "metadata": {},
     "output_type": "execute_result"
    }
   ],
   "source": [
    "# на основе event_action создам новый признак target_action\n",
    "# 1 если действие входит в target\n",
    "df_hits['target_action'] = df_hits.apply(lambda x: 1 if x['event_action'] in target  else 0, axis=1)\n",
    "df_hits.target_action.value_counts()"
   ]
  },
  {
   "cell_type": "code",
   "execution_count": null,
   "id": "f15626f2-73bb-4491-8c4e-39081b389a10",
   "metadata": {},
   "outputs": [],
   "source": []
  },
  {
   "cell_type": "markdown",
   "id": "8aa6ceac-1507-42b0-b80b-dbe6d0c6909d",
   "metadata": {},
   "source": [
    "#### Обработка значений в столбце hit_page_path"
   ]
  },
  {
   "cell_type": "code",
   "execution_count": 12,
   "id": "9be7112c-d8fb-44b4-9f39-f75fc5b77bea",
   "metadata": {
    "scrolled": true
   },
   "outputs": [
    {
     "name": "stdout",
     "output_type": "stream",
     "text": [
      "sberauto.com/cars?utm_source_initial=google&utm_medium_initial=cpc&utm_campaign_initial=bJJuEXRheRIxXEaYIXqM|BmWKiKCvBVipoWOpNUIL&utm_content_initial=yXzSAJWSuRbYeLFyMVFl|iJxXDTgPAXGQYOdgCzqe|xAEYTlJDbQNwQTLGxICQ|pmvTbUlmnwAkuHIbvKUg|lFpAoUqEvHoyZfCNRuCR|oxjYxrkwnRSTTYcVZzdb|dtYJKUplNmmKCOfiziff|NgTCwCMgdzcCqxiALuwY|aHSPdWXGkJravzWuwcJA|HbolMJUevblAbkHClEQa|kqZPVvZmXADsCZxIQwbv|QaGunexmXrztCWbLcYxs|OfdDOXSwHYclonQJpPxh|htxLmqvAkmISCliXGMzb|HbolMJUevblAbkHClEQa&utm_term_initial=&city=1&rental_page=rental_only&rental_car=rental_only&city=18 \n",
      "\n",
      "sberauto.com/cars/fiat?city=1&city=18&rental_car=rental_only&utm_source_initial=sbol&utm_medium_initial=banner&utm_campaign_initial=zxoiLxhuSIFrCeTLQVWZ&rental_page=rental_only \n",
      "\n",
      "sberauto.com/cars/all/volkswagen/polo/e994838f?utm_source_initial=yandex&utm_medium_initial=cpc&utm_campaign_initial=nSReTmyFtbSjlPrTKoaX|fVHJqnfOFSWcsCBViJGr&utm_content_initial=yXzSAJWSuRbYeLFyMVFl|YjagTPsykUtMSrHgFPJc|xAEYTlJDbQNwQTLGxICQ|dwfnIkMEwJhmnyojmAoc|lFpAoUqEvHoyZfCNRuCR|qEQeQoWWnoVEMwsyhUcz|rjbbNGNkjGThUJNtsWZQ|lquYtwbPScwqcMOoWYRp|ZIKCVYXYgRrZdwlVkEEf|HbolMJUevblAbkHClEQa|kqZPVvZmXADsCZxIQwbv|vnTlRpYmthtVDImMLSmr|OfdDOXSwHYclonQJpPxh|igNLAJodDHSgqhPwufun|HbolMJUevblAbkHClEQa&utm_term_initial=&rental_page=rental_car \n",
      "\n",
      "sberauto.com/cars?utm_source_initial=yandex&utm_medium_initial=cpc&utm_campaign_initial=XHNUiSKKGTEpSAlaVMFQ|qngiJQKcRremsAJnZbvx&utm_content_initial=yXzSAJWSuRbYeLFyMVFl|FbLFbRPHmkXzRVZGVMml|xAEYTlJDbQNwQTLGxICQ|UfTTPxcoqsUGiUaNbCPg|lFpAoUqEvHoyZfCNRuCR|XHhwZeVQAlxBVPPTHGks|rjbbNGNkjGThUJNtsWZQ|SzHvtGAIoyKeoWyQATVI|ZIKCVYXYgRrZdwlVkEEf|HbolMJUevblAbkHClEQa|kqZPVvZmXADsCZxIQwbv|vnTlRpYmthtVDImMLSmr|OfdDOXSwHYclonQJpPxh|YhdYMAYSoTzDKQYzVVMr|HbolMJUevblAbkHClEQa&utm_term_initial=&city=1&rental_page=rental_only&rental_car=rental_only&city=18 \n",
      "\n",
      "sberauto.com/cars/all/mercedes-benz/cla-klasse/c917af36?rental_page=rental_car \n",
      "\n",
      "sberauto.com/cars?utm_source_initial=youtube&utm_medium_initial=cpm&utm_campaign_initial=FTjNLDyTrXaWYgZymFkV&utm_content_initial=xhoenQgDQsgfEPYNPwKO&utm_term_initial=rcScqexpyNHshwBMMfPx&city=1&rental_page=rental_only&rental_car=rental_only&city=18 \n",
      "\n",
      "sberauto.com/cars/toyota?isnew=false&rental_car=rental_only&utm_source_initial=sbol&utm_medium_initial=banner&utm_campaign_initial=LEoPHuyFvzoNfnzGgfcd&utm_content_initial=vCIpmpaGBnIQhyYNkXqp&rental_page=rental_only \n",
      "\n",
      "sberauto.com/cars/all/mercedes-benz/glc/f8f3304e?rental_page=rental_car \n",
      "\n",
      "sberauto.com/cars/all/kia/sorento/c38179cb?utm_medium_initial=organic&utm_campaign_initial=okTXSMadDkjvntEHzIjp&utm_content_initial=LLfCasrxQzJIyuldcuWy&utm_term_initial=aXQzDWsJuGXeBXexNHjc&utm_referrer_initial=VloVXNWduHeTjUoDkjkO&utm_source_initial=dzen&rental_page=rental_car \n",
      "\n",
      "sberauto.com/cars/all/nissan/x-trail/0744675f?utm_source_initial=google&utm_medium_initial=cpc&utm_campaign_initial=UjApcvnaHtkydRkrLYuv|GLYSMECpzzEFJQzLBvqd&utm_content_initial=yXzSAJWSuRbYeLFyMVFl|MrqOuJejbSSuQSThCvRD|xAEYTlJDbQNwQTLGxICQ|HbolMJUevblAbkHClEQa|lFpAoUqEvHoyZfCNRuCR|HbolMJUevblAbkHClEQa|dtYJKUplNmmKCOfiziff|HbolMJUevblAbkHClEQa|aHSPdWXGkJravzWuwcJA|HbolMJUevblAbkHClEQa|kqZPVvZmXADsCZxIQwbv|nTKjQPYMFGDmkNLybFvi|OfdDOXSwHYclonQJpPxh|gSNOpwpGHjLLifpuqSYp|HbolMJUevblAbkHClEQa&utm_term_initial=&rental_page=rental_car \n",
      "\n"
     ]
    }
   ],
   "source": [
    "# hit_page_path содерижит информацию про марку и модель авто\n",
    "# просмотр 10 первых записей\n",
    "for i in range(10):\n",
    "    print(df_hits.hit_page_path.iloc[i], '\\n')"
   ]
  },
  {
   "cell_type": "code",
   "execution_count": 13,
   "id": "2ad6db59-c6ef-4503-be8b-42e2358cdcb3",
   "metadata": {},
   "outputs": [
    {
     "data": {
      "text/html": [
       "<div>\n",
       "<style scoped>\n",
       "    .dataframe tbody tr th:only-of-type {\n",
       "        vertical-align: middle;\n",
       "    }\n",
       "\n",
       "    .dataframe tbody tr th {\n",
       "        vertical-align: top;\n",
       "    }\n",
       "\n",
       "    .dataframe thead th {\n",
       "        text-align: right;\n",
       "    }\n",
       "</style>\n",
       "<table border=\"1\" class=\"dataframe\">\n",
       "  <thead>\n",
       "    <tr style=\"text-align: right;\">\n",
       "      <th></th>\n",
       "      <th>session_id</th>\n",
       "      <th>hit_date</th>\n",
       "      <th>hit_time</th>\n",
       "      <th>hit_number</th>\n",
       "      <th>hit_type</th>\n",
       "      <th>hit_referer</th>\n",
       "      <th>hit_page_path</th>\n",
       "      <th>event_category</th>\n",
       "      <th>event_action</th>\n",
       "      <th>event_label</th>\n",
       "      <th>event_value</th>\n",
       "      <th>target_action</th>\n",
       "      <th>manufacturer_car</th>\n",
       "      <th>model_car</th>\n",
       "    </tr>\n",
       "  </thead>\n",
       "  <tbody>\n",
       "    <tr>\n",
       "      <th>0</th>\n",
       "      <td>5639623078712724064.1640254056.1640254056</td>\n",
       "      <td>2021-12-23</td>\n",
       "      <td>597864.0</td>\n",
       "      <td>30</td>\n",
       "      <td>event</td>\n",
       "      <td>NaN</td>\n",
       "      <td>sberauto.com/cars?utm_source_initial=google&amp;ut...</td>\n",
       "      <td>quiz</td>\n",
       "      <td>quiz_show</td>\n",
       "      <td>NaN</td>\n",
       "      <td>NaN</td>\n",
       "      <td>0</td>\n",
       "      <td>None</td>\n",
       "      <td>None</td>\n",
       "    </tr>\n",
       "    <tr>\n",
       "      <th>1</th>\n",
       "      <td>7750352294969115059.1640271109.1640271109</td>\n",
       "      <td>2021-12-23</td>\n",
       "      <td>597331.0</td>\n",
       "      <td>41</td>\n",
       "      <td>event</td>\n",
       "      <td>NaN</td>\n",
       "      <td>sberauto.com/cars/fiat?city=1&amp;city=18&amp;rental_c...</td>\n",
       "      <td>quiz</td>\n",
       "      <td>quiz_show</td>\n",
       "      <td>NaN</td>\n",
       "      <td>NaN</td>\n",
       "      <td>0</td>\n",
       "      <td>None</td>\n",
       "      <td>None</td>\n",
       "    </tr>\n",
       "    <tr>\n",
       "      <th>2</th>\n",
       "      <td>885342191847998240.1640235807.1640235807</td>\n",
       "      <td>2021-12-23</td>\n",
       "      <td>796252.0</td>\n",
       "      <td>49</td>\n",
       "      <td>event</td>\n",
       "      <td>NaN</td>\n",
       "      <td>sberauto.com/cars/all/volkswagen/polo/e994838f...</td>\n",
       "      <td>quiz</td>\n",
       "      <td>quiz_show</td>\n",
       "      <td>NaN</td>\n",
       "      <td>NaN</td>\n",
       "      <td>0</td>\n",
       "      <td>volkswagen</td>\n",
       "      <td>polo</td>\n",
       "    </tr>\n",
       "    <tr>\n",
       "      <th>3</th>\n",
       "      <td>142526202120934167.1640211014.1640211014</td>\n",
       "      <td>2021-12-23</td>\n",
       "      <td>934292.0</td>\n",
       "      <td>46</td>\n",
       "      <td>event</td>\n",
       "      <td>NaN</td>\n",
       "      <td>sberauto.com/cars?utm_source_initial=yandex&amp;ut...</td>\n",
       "      <td>quiz</td>\n",
       "      <td>quiz_show</td>\n",
       "      <td>NaN</td>\n",
       "      <td>NaN</td>\n",
       "      <td>0</td>\n",
       "      <td>None</td>\n",
       "      <td>None</td>\n",
       "    </tr>\n",
       "    <tr>\n",
       "      <th>4</th>\n",
       "      <td>3450086108837475701.1640265078.1640265078</td>\n",
       "      <td>2021-12-23</td>\n",
       "      <td>768741.0</td>\n",
       "      <td>79</td>\n",
       "      <td>event</td>\n",
       "      <td>NaN</td>\n",
       "      <td>sberauto.com/cars/all/mercedes-benz/cla-klasse...</td>\n",
       "      <td>quiz</td>\n",
       "      <td>quiz_show</td>\n",
       "      <td>NaN</td>\n",
       "      <td>NaN</td>\n",
       "      <td>0</td>\n",
       "      <td>mercedes-benz</td>\n",
       "      <td>cla-klasse</td>\n",
       "    </tr>\n",
       "    <tr>\n",
       "      <th>5</th>\n",
       "      <td>6466333295973247896.1640246168.1640246168</td>\n",
       "      <td>2021-12-23</td>\n",
       "      <td>704194.0</td>\n",
       "      <td>41</td>\n",
       "      <td>event</td>\n",
       "      <td>NaN</td>\n",
       "      <td>sberauto.com/cars?utm_source_initial=youtube&amp;u...</td>\n",
       "      <td>quiz</td>\n",
       "      <td>quiz_show</td>\n",
       "      <td>NaN</td>\n",
       "      <td>NaN</td>\n",
       "      <td>0</td>\n",
       "      <td>None</td>\n",
       "      <td>None</td>\n",
       "    </tr>\n",
       "    <tr>\n",
       "      <th>6</th>\n",
       "      <td>281215510786615563.1640245516.1640245516</td>\n",
       "      <td>2021-12-23</td>\n",
       "      <td>911854.0</td>\n",
       "      <td>102</td>\n",
       "      <td>event</td>\n",
       "      <td>NaN</td>\n",
       "      <td>sberauto.com/cars/toyota?isnew=false&amp;rental_ca...</td>\n",
       "      <td>quiz</td>\n",
       "      <td>quiz_show</td>\n",
       "      <td>NaN</td>\n",
       "      <td>NaN</td>\n",
       "      <td>0</td>\n",
       "      <td>None</td>\n",
       "      <td>None</td>\n",
       "    </tr>\n",
       "    <tr>\n",
       "      <th>7</th>\n",
       "      <td>4024492994895054107.1640269084.1640269084</td>\n",
       "      <td>2021-12-23</td>\n",
       "      <td>1071804.0</td>\n",
       "      <td>85</td>\n",
       "      <td>event</td>\n",
       "      <td>NaN</td>\n",
       "      <td>sberauto.com/cars/all/mercedes-benz/glc/f8f330...</td>\n",
       "      <td>quiz</td>\n",
       "      <td>quiz_show</td>\n",
       "      <td>NaN</td>\n",
       "      <td>NaN</td>\n",
       "      <td>0</td>\n",
       "      <td>mercedes-benz</td>\n",
       "      <td>glc</td>\n",
       "    </tr>\n",
       "    <tr>\n",
       "      <th>8</th>\n",
       "      <td>555009234841130092.1640256620.1640256620</td>\n",
       "      <td>2021-12-23</td>\n",
       "      <td>1013899.0</td>\n",
       "      <td>101</td>\n",
       "      <td>event</td>\n",
       "      <td>VloVXNWduHeTjUoDkjkO</td>\n",
       "      <td>sberauto.com/cars/all/kia/sorento/c38179cb?utm...</td>\n",
       "      <td>quiz</td>\n",
       "      <td>quiz_show</td>\n",
       "      <td>NaN</td>\n",
       "      <td>NaN</td>\n",
       "      <td>0</td>\n",
       "      <td>kia</td>\n",
       "      <td>sorento</td>\n",
       "    </tr>\n",
       "    <tr>\n",
       "      <th>9</th>\n",
       "      <td>2692901778487480807.1640206845.1640206845</td>\n",
       "      <td>2021-12-23</td>\n",
       "      <td>0.0</td>\n",
       "      <td>1</td>\n",
       "      <td>event</td>\n",
       "      <td>NaN</td>\n",
       "      <td>sberauto.com/cars/all/nissan/x-trail/0744675f?...</td>\n",
       "      <td>card_web</td>\n",
       "      <td>view_card</td>\n",
       "      <td>NaN</td>\n",
       "      <td>NaN</td>\n",
       "      <td>0</td>\n",
       "      <td>nissan</td>\n",
       "      <td>x-trail</td>\n",
       "    </tr>\n",
       "  </tbody>\n",
       "</table>\n",
       "</div>"
      ],
      "text/plain": [
       "                                  session_id    hit_date   hit_time  \\\n",
       "0  5639623078712724064.1640254056.1640254056  2021-12-23   597864.0   \n",
       "1  7750352294969115059.1640271109.1640271109  2021-12-23   597331.0   \n",
       "2   885342191847998240.1640235807.1640235807  2021-12-23   796252.0   \n",
       "3   142526202120934167.1640211014.1640211014  2021-12-23   934292.0   \n",
       "4  3450086108837475701.1640265078.1640265078  2021-12-23   768741.0   \n",
       "5  6466333295973247896.1640246168.1640246168  2021-12-23   704194.0   \n",
       "6   281215510786615563.1640245516.1640245516  2021-12-23   911854.0   \n",
       "7  4024492994895054107.1640269084.1640269084  2021-12-23  1071804.0   \n",
       "8   555009234841130092.1640256620.1640256620  2021-12-23  1013899.0   \n",
       "9  2692901778487480807.1640206845.1640206845  2021-12-23        0.0   \n",
       "\n",
       "   hit_number hit_type           hit_referer  \\\n",
       "0          30    event                   NaN   \n",
       "1          41    event                   NaN   \n",
       "2          49    event                   NaN   \n",
       "3          46    event                   NaN   \n",
       "4          79    event                   NaN   \n",
       "5          41    event                   NaN   \n",
       "6         102    event                   NaN   \n",
       "7          85    event                   NaN   \n",
       "8         101    event  VloVXNWduHeTjUoDkjkO   \n",
       "9           1    event                   NaN   \n",
       "\n",
       "                                       hit_page_path event_category  \\\n",
       "0  sberauto.com/cars?utm_source_initial=google&ut...           quiz   \n",
       "1  sberauto.com/cars/fiat?city=1&city=18&rental_c...           quiz   \n",
       "2  sberauto.com/cars/all/volkswagen/polo/e994838f...           quiz   \n",
       "3  sberauto.com/cars?utm_source_initial=yandex&ut...           quiz   \n",
       "4  sberauto.com/cars/all/mercedes-benz/cla-klasse...           quiz   \n",
       "5  sberauto.com/cars?utm_source_initial=youtube&u...           quiz   \n",
       "6  sberauto.com/cars/toyota?isnew=false&rental_ca...           quiz   \n",
       "7  sberauto.com/cars/all/mercedes-benz/glc/f8f330...           quiz   \n",
       "8  sberauto.com/cars/all/kia/sorento/c38179cb?utm...           quiz   \n",
       "9  sberauto.com/cars/all/nissan/x-trail/0744675f?...       card_web   \n",
       "\n",
       "  event_action event_label  event_value  target_action manufacturer_car  \\\n",
       "0    quiz_show         NaN          NaN              0             None   \n",
       "1    quiz_show         NaN          NaN              0             None   \n",
       "2    quiz_show         NaN          NaN              0       volkswagen   \n",
       "3    quiz_show         NaN          NaN              0             None   \n",
       "4    quiz_show         NaN          NaN              0    mercedes-benz   \n",
       "5    quiz_show         NaN          NaN              0             None   \n",
       "6    quiz_show         NaN          NaN              0             None   \n",
       "7    quiz_show         NaN          NaN              0    mercedes-benz   \n",
       "8    quiz_show         NaN          NaN              0              kia   \n",
       "9    view_card         NaN          NaN              0           nissan   \n",
       "\n",
       "    model_car  \n",
       "0        None  \n",
       "1        None  \n",
       "2        polo  \n",
       "3        None  \n",
       "4  cla-klasse  \n",
       "5        None  \n",
       "6        None  \n",
       "7         glc  \n",
       "8     sorento  \n",
       "9     x-trail  "
      ]
     },
     "execution_count": 13,
     "metadata": {},
     "output_type": "execute_result"
    }
   ],
   "source": [
    "# добавлю модель и марку авто к датасету\n",
    "df_hits[['manufacturer_car', 'model_car']] = df_hits.hit_page_path.str.split('/', expand=True)[[3, 4]]\n",
    "df_hits.head(10)"
   ]
  },
  {
   "cell_type": "code",
   "execution_count": 14,
   "id": "f6c540a9-1753-4bd8-8860-6a1288fa7ff4",
   "metadata": {},
   "outputs": [
    {
     "data": {
      "text/plain": [
       "manufacturer_car  model_car \n",
       "skoda             rapid         442513\n",
       "lada-vaz          vesta         403910\n",
       "volkswagen        polo          318075\n",
       "skoda             karoq         194273\n",
       "mercedes-benz     e-klasse      178467\n",
       "nissan            qashqai       153153\n",
       "kia               rio            90249\n",
       "nissan            x-trail        85548\n",
       "skoda             octavia        77005\n",
       "renault           duster         76676\n",
       "toyota            camry          73149\n",
       "renault           logan          72088\n",
       "kia               seltos         70464\n",
       "                  sorento        69886\n",
       "volkswagen        tiguan         62101\n",
       "mercedes-benz     glb            61043\n",
       "                  gla-klasse     55236\n",
       "volvo             s90            51627\n",
       "haval             jolion         51538\n",
       "bmw               5-serii        40453\n",
       "Name: count, dtype: int64"
      ]
     },
     "execution_count": 14,
     "metadata": {},
     "output_type": "execute_result"
    }
   ],
   "source": [
    "# просмотр ТОП20 популярных значений по автомобилям\n",
    "df_hits[['manufacturer_car', 'model_car']].value_counts()[:20]"
   ]
  },
  {
   "cell_type": "code",
   "execution_count": 15,
   "id": "839b2ae7-5aac-43c2-a5aa-98820b0b9f9b",
   "metadata": {},
   "outputs": [],
   "source": [
    "# в список производителй попали также некорректные данные,\n",
    "# где не указана модель авто, отфильттрую их\n",
    "name_auto = ['volvo', 'kia', 'lada-vaz', 'honda', 'mini', 'lexus', 'land-rover', 'renault', 'porsche', 'bmw', 'hyundai', 'chery', \n",
    "             'mitsubishi', 'nissan', 'mercedes-benz', 'chevrolet', 'jeep',\n",
    "             'haval', 'skoda', 'toyota', 'audi', 'peugeot', 'volkswagen']\n",
    "\n",
    "# сделаю замену среди производителей не вошедших в name_avto на 0\n",
    "\n",
    "df_hits['manufacturer_car'] = df_hits.apply(lambda x: 0 if x['manufacturer_car'] not in name_auto else x['manufacturer_car'], axis=1)"
   ]
  },
  {
   "cell_type": "code",
   "execution_count": 16,
   "id": "63ef4390-bf4e-4559-8551-1f246e6c6624",
   "metadata": {},
   "outputs": [
    {
     "data": {
      "text/plain": [
       "manufacturer_car\n",
       "0                12308700\n",
       "skoda              744834\n",
       "mercedes-benz      472559\n",
       "volkswagen         417360\n",
       "lada-vaz           404196\n",
       "nissan             238870\n",
       "kia                236707\n",
       "bmw                195598\n",
       "toyota             161139\n",
       "renault            150757\n",
       "porsche             63586\n",
       "lexus               61631\n",
       "audi                60186\n",
       "volvo               51687\n",
       "haval               51550\n",
       "mini                34709\n",
       "peugeot             27450\n",
       "land-rover          24891\n",
       "hyundai             19309\n",
       "honda                 467\n",
       "mitsubishi            150\n",
       "chery                  78\n",
       "jeep                   31\n",
       "chevrolet              25\n",
       "Name: count, dtype: int64"
      ]
     },
     "execution_count": 16,
     "metadata": {},
     "output_type": "execute_result"
    }
   ],
   "source": [
    "df_hits['manufacturer_car'].value_counts(dropna=False)"
   ]
  },
  {
   "cell_type": "code",
   "execution_count": 17,
   "id": "c28d520a-934b-4bf2-ae8c-72493299dccb",
   "metadata": {},
   "outputs": [],
   "source": [
    "# из оствашихся значений выберу марку авттомобиля\n",
    "df_hits['model_car'] = df_hits.apply(lambda x: 0 if pd.isna(x['model_car']) else x['model_car'].split('?')[0], axis=1)"
   ]
  },
  {
   "cell_type": "code",
   "execution_count": 18,
   "id": "26b44bee-2e81-4c3e-ab89-77eaef5a38cd",
   "metadata": {},
   "outputs": [],
   "source": [
    "# популярные марки автомобилей\n",
    "model_auto = ['cayenne', 'ceed',  'cerato', 'civic-type-r', 'cla-klasse', 'corolla', 'creta', 'crown', 'defender', 'duster', 'e-klasse', 'e-tron',\n",
    "              'fortuner',  'g-klasse', 'gla-klasse', 'glb', 'glc', 'gle', 'gls-klasse', 'granta',  'jolion', 'k5', 'karoq', 'kodiaq', \n",
    "              'land-cruiser-prado', 'largus', 'logan', 'macan', 'megane', 'nx', 'octavia', 'outlander', 'panamera', 'passat', 'passat-cc', \n",
    "              'polo', 'q5', 'qashqai', 'qx60', 'range-rover', 'range-rover-velar', 'rapid', 'rav-4', 'rio', 'rx', 's-klasse', 's90',  'seltos',\n",
    "              'solaris', 'sorento', 'soul', 'sportage', 'taos', 'teramont', 'tiggo-8', 'tiguan', 'touareg', 'traveller', 'vesta', 'hatch',  'x-trail', \n",
    "              'x1', 'x3', 'x3-m', 'x4-m', 'x5', 'x6', 'x7', 'xc90', '2-serii', '2112', '3-serii', '5-serii',  '7-serii',  '911', 'a3', 'a4',\n",
    "              'a8', 'accord', 'alphard', 'arkana', 'asx', 'c-klasse', 'camry']\n",
    "\n",
    "# сделаю замену значений по популярным маркам автомобиля\n",
    "df_hits['model_car'] = df_hits.apply(lambda x: 0 if x['model_car'] not in model_auto or x['manufacturer_car'] == 0 else x['model_car'], axis=1)"
   ]
  },
  {
   "cell_type": "code",
   "execution_count": 19,
   "id": "28cd1b31-1399-4418-bc39-7c102763ac30",
   "metadata": {},
   "outputs": [
    {
     "data": {
      "text/plain": [
       "manufacturer_car  model_car \n",
       "0                 0             12308700\n",
       "skoda             rapid           442579\n",
       "lada-vaz          vesta           403994\n",
       "volkswagen        polo            318146\n",
       "skoda             karoq           194291\n",
       "mercedes-benz     e-klasse        178475\n",
       "nissan            qashqai         153169\n",
       "kia               rio              90299\n",
       "nissan            x-trail          85595\n",
       "skoda             octavia          77197\n",
       "renault           duster           76687\n",
       "toyota            camry            73243\n",
       "renault           logan            72121\n",
       "kia               seltos           70498\n",
       "                  sorento          69937\n",
       "volkswagen        tiguan           62124\n",
       "mercedes-benz     glb              61045\n",
       "                  gla-klasse       55299\n",
       "volvo             s90              51627\n",
       "haval             jolion           51540\n",
       "Name: count, dtype: int64"
      ]
     },
     "execution_count": 19,
     "metadata": {},
     "output_type": "execute_result"
    }
   ],
   "source": [
    "#посмотрю еще раз ТОП20 популярных значений по автомобилям\n",
    "df_hits[['manufacturer_car', 'model_car']].value_counts(dropna=False)[:20]"
   ]
  },
  {
   "cell_type": "code",
   "execution_count": null,
   "id": "2f9273f7-30e9-4579-9be9-c103d9aefccd",
   "metadata": {},
   "outputs": [],
   "source": []
  },
  {
   "cell_type": "markdown",
   "id": "33366fe0-bee1-466b-9f71-e55ae69ab58d",
   "metadata": {},
   "source": [
    "#### Объединение df_hits и df_session в общий датасет"
   ]
  },
  {
   "cell_type": "code",
   "execution_count": 20,
   "id": "378321cb-772b-42aa-a6c3-fa3de6d6deb8",
   "metadata": {},
   "outputs": [
    {
     "data": {
      "text/plain": [
       "session_id\n",
       "7667088186355245622.1632396489.1632396489    0\n",
       "4920574858200096610.1639711518.1639711518    0\n",
       "8218067297116270482.1625206625.1625206625    0\n",
       "3020395753512156945.1630584518.1630584518    0\n",
       "198445211741787907.1631524652.1631524652     0\n",
       "Name: target_action, dtype: int32"
      ]
     },
     "execution_count": 20,
     "metadata": {},
     "output_type": "execute_result"
    }
   ],
   "source": [
    "# сделаю группировку по 'target_action' для session_id\n",
    "# при наличии целевого дейиствия за одну сессию возвращает True\n",
    "target_action = df_hits.groupby('session_id')['target_action'].any().astype(int)\n",
    "target_action.sample(5)"
   ]
  },
  {
   "cell_type": "code",
   "execution_count": 21,
   "id": "4148ceb6-d96e-48c5-a16d-2983cac9843a",
   "metadata": {},
   "outputs": [
    {
     "data": {
      "text/plain": [
       "target_action\n",
       "0    97.073694\n",
       "1     2.926306\n",
       "Name: count, dtype: float64"
      ]
     },
     "execution_count": 21,
     "metadata": {},
     "output_type": "execute_result"
    }
   ],
   "source": [
    "# процент целевого действия за одну сессию\n",
    "target_action.value_counts() /  target_action.shape[0] * 100"
   ]
  },
  {
   "cell_type": "markdown",
   "id": "a88b7815-40de-4f91-b882-249ea3ce42e8",
   "metadata": {},
   "source": [
    "#### Загрузка данных и обьединение"
   ]
  },
  {
   "cell_type": "code",
   "execution_count": 22,
   "id": "880be529-52f5-4d04-b115-d1fcd222d9d3",
   "metadata": {},
   "outputs": [
    {
     "data": {
      "text/html": [
       "<div>\n",
       "<style scoped>\n",
       "    .dataframe tbody tr th:only-of-type {\n",
       "        vertical-align: middle;\n",
       "    }\n",
       "\n",
       "    .dataframe tbody tr th {\n",
       "        vertical-align: top;\n",
       "    }\n",
       "\n",
       "    .dataframe thead th {\n",
       "        text-align: right;\n",
       "    }\n",
       "</style>\n",
       "<table border=\"1\" class=\"dataframe\">\n",
       "  <thead>\n",
       "    <tr style=\"text-align: right;\">\n",
       "      <th></th>\n",
       "      <th>session_id</th>\n",
       "      <th>client_id</th>\n",
       "      <th>visit_date</th>\n",
       "      <th>visit_time</th>\n",
       "      <th>visit_number</th>\n",
       "      <th>utm_source</th>\n",
       "      <th>utm_medium</th>\n",
       "      <th>utm_campaign</th>\n",
       "      <th>utm_adcontent</th>\n",
       "      <th>device_category</th>\n",
       "      <th>...</th>\n",
       "      <th>device_browser</th>\n",
       "      <th>geo_country</th>\n",
       "      <th>geo_city</th>\n",
       "      <th>day_of_the_week</th>\n",
       "      <th>quarter_of_the_year</th>\n",
       "      <th>viewing_time</th>\n",
       "      <th>advert_social_media</th>\n",
       "      <th>organic_traffic</th>\n",
       "      <th>visit_big_city</th>\n",
       "      <th>moskow_area</th>\n",
       "    </tr>\n",
       "  </thead>\n",
       "  <tbody>\n",
       "    <tr>\n",
       "      <th>0</th>\n",
       "      <td>9055434745589932991.1637753792.1637753792</td>\n",
       "      <td>2108382700.1637753791</td>\n",
       "      <td>2021-11-24</td>\n",
       "      <td>14:36:32</td>\n",
       "      <td>1</td>\n",
       "      <td>ZpYIoDJMcFzVoPFsHGJL</td>\n",
       "      <td>banner</td>\n",
       "      <td>LEoPHuyFvzoNfnzGgfcd</td>\n",
       "      <td>vCIpmpaGBnIQhyYNkXqp</td>\n",
       "      <td>mobile</td>\n",
       "      <td>...</td>\n",
       "      <td>Chrome</td>\n",
       "      <td>Russia</td>\n",
       "      <td>Zlatoust</td>\n",
       "      <td>Wednesday</td>\n",
       "      <td>4</td>\n",
       "      <td>day</td>\n",
       "      <td>0</td>\n",
       "      <td>0</td>\n",
       "      <td>0</td>\n",
       "      <td>0</td>\n",
       "    </tr>\n",
       "    <tr>\n",
       "      <th>1</th>\n",
       "      <td>905544597018549464.1636867290.1636867290</td>\n",
       "      <td>210838531.1636867288</td>\n",
       "      <td>2021-11-14</td>\n",
       "      <td>08:21:30</td>\n",
       "      <td>1</td>\n",
       "      <td>MvfHsxITijuriZxsqZqt</td>\n",
       "      <td>cpm</td>\n",
       "      <td>FTjNLDyTrXaWYgZymFkV</td>\n",
       "      <td>xhoenQgDQsgfEPYNPwKO</td>\n",
       "      <td>mobile</td>\n",
       "      <td>...</td>\n",
       "      <td>Samsung Internet</td>\n",
       "      <td>Russia</td>\n",
       "      <td>Moscow</td>\n",
       "      <td>Sunday</td>\n",
       "      <td>4</td>\n",
       "      <td>morning</td>\n",
       "      <td>0</td>\n",
       "      <td>0</td>\n",
       "      <td>1</td>\n",
       "      <td>0</td>\n",
       "    </tr>\n",
       "    <tr>\n",
       "      <th>2</th>\n",
       "      <td>9055446045651783499.1640648526.1640648526</td>\n",
       "      <td>2108385331.1640648523</td>\n",
       "      <td>2021-12-28</td>\n",
       "      <td>02:42:06</td>\n",
       "      <td>1</td>\n",
       "      <td>ZpYIoDJMcFzVoPFsHGJL</td>\n",
       "      <td>banner</td>\n",
       "      <td>LEoPHuyFvzoNfnzGgfcd</td>\n",
       "      <td>vCIpmpaGBnIQhyYNkXqp</td>\n",
       "      <td>mobile</td>\n",
       "      <td>...</td>\n",
       "      <td>Chrome</td>\n",
       "      <td>Russia</td>\n",
       "      <td>Krasnoyarsk</td>\n",
       "      <td>Tuesday</td>\n",
       "      <td>4</td>\n",
       "      <td>night</td>\n",
       "      <td>0</td>\n",
       "      <td>0</td>\n",
       "      <td>0</td>\n",
       "      <td>0</td>\n",
       "    </tr>\n",
       "    <tr>\n",
       "      <th>3</th>\n",
       "      <td>9055447046360770272.1622255328.1622255328</td>\n",
       "      <td>2108385564.1622255328</td>\n",
       "      <td>2021-05-29</td>\n",
       "      <td>05:00:00</td>\n",
       "      <td>1</td>\n",
       "      <td>kjsLglQLzykiRbcDiGcD</td>\n",
       "      <td>cpc</td>\n",
       "      <td>gecBYcKZCPMcVYdSSzKP</td>\n",
       "      <td>other_content</td>\n",
       "      <td>mobile</td>\n",
       "      <td>...</td>\n",
       "      <td>Chrome</td>\n",
       "      <td>Russia</td>\n",
       "      <td>Moscow</td>\n",
       "      <td>Saturday</td>\n",
       "      <td>2</td>\n",
       "      <td>night</td>\n",
       "      <td>0</td>\n",
       "      <td>0</td>\n",
       "      <td>1</td>\n",
       "      <td>0</td>\n",
       "    </tr>\n",
       "    <tr>\n",
       "      <th>4</th>\n",
       "      <td>9055447046360770272.1622255345.1622255345</td>\n",
       "      <td>2108385564.1622255328</td>\n",
       "      <td>2021-05-29</td>\n",
       "      <td>05:00:00</td>\n",
       "      <td>2</td>\n",
       "      <td>kjsLglQLzykiRbcDiGcD</td>\n",
       "      <td>cpc</td>\n",
       "      <td>gecBYcKZCPMcVYdSSzKP</td>\n",
       "      <td>other_content</td>\n",
       "      <td>mobile</td>\n",
       "      <td>...</td>\n",
       "      <td>Chrome</td>\n",
       "      <td>Russia</td>\n",
       "      <td>Moscow</td>\n",
       "      <td>Saturday</td>\n",
       "      <td>2</td>\n",
       "      <td>night</td>\n",
       "      <td>0</td>\n",
       "      <td>0</td>\n",
       "      <td>1</td>\n",
       "      <td>0</td>\n",
       "    </tr>\n",
       "  </tbody>\n",
       "</table>\n",
       "<p>5 rows × 23 columns</p>\n",
       "</div>"
      ],
      "text/plain": [
       "                                  session_id              client_id  \\\n",
       "0  9055434745589932991.1637753792.1637753792  2108382700.1637753791   \n",
       "1   905544597018549464.1636867290.1636867290   210838531.1636867288   \n",
       "2  9055446045651783499.1640648526.1640648526  2108385331.1640648523   \n",
       "3  9055447046360770272.1622255328.1622255328  2108385564.1622255328   \n",
       "4  9055447046360770272.1622255345.1622255345  2108385564.1622255328   \n",
       "\n",
       "   visit_date visit_time  visit_number            utm_source utm_medium  \\\n",
       "0  2021-11-24   14:36:32             1  ZpYIoDJMcFzVoPFsHGJL     banner   \n",
       "1  2021-11-14   08:21:30             1  MvfHsxITijuriZxsqZqt        cpm   \n",
       "2  2021-12-28   02:42:06             1  ZpYIoDJMcFzVoPFsHGJL     banner   \n",
       "3  2021-05-29   05:00:00             1  kjsLglQLzykiRbcDiGcD        cpc   \n",
       "4  2021-05-29   05:00:00             2  kjsLglQLzykiRbcDiGcD        cpc   \n",
       "\n",
       "           utm_campaign         utm_adcontent device_category  ...  \\\n",
       "0  LEoPHuyFvzoNfnzGgfcd  vCIpmpaGBnIQhyYNkXqp          mobile  ...   \n",
       "1  FTjNLDyTrXaWYgZymFkV  xhoenQgDQsgfEPYNPwKO          mobile  ...   \n",
       "2  LEoPHuyFvzoNfnzGgfcd  vCIpmpaGBnIQhyYNkXqp          mobile  ...   \n",
       "3  gecBYcKZCPMcVYdSSzKP         other_content          mobile  ...   \n",
       "4  gecBYcKZCPMcVYdSSzKP         other_content          mobile  ...   \n",
       "\n",
       "     device_browser geo_country     geo_city day_of_the_week  \\\n",
       "0            Chrome      Russia     Zlatoust       Wednesday   \n",
       "1  Samsung Internet      Russia       Moscow          Sunday   \n",
       "2            Chrome      Russia  Krasnoyarsk         Tuesday   \n",
       "3            Chrome      Russia       Moscow        Saturday   \n",
       "4            Chrome      Russia       Moscow        Saturday   \n",
       "\n",
       "  quarter_of_the_year viewing_time advert_social_media  organic_traffic  \\\n",
       "0                   4          day                   0                0   \n",
       "1                   4      morning                   0                0   \n",
       "2                   4        night                   0                0   \n",
       "3                   2        night                   0                0   \n",
       "4                   2        night                   0                0   \n",
       "\n",
       "  visit_big_city  moskow_area  \n",
       "0              0            0  \n",
       "1              1            0  \n",
       "2              0            0  \n",
       "3              1            0  \n",
       "4              1            0  \n",
       "\n",
       "[5 rows x 23 columns]"
      ]
     },
     "execution_count": 22,
     "metadata": {},
     "output_type": "execute_result"
    }
   ],
   "source": [
    "# зарузка ga_sessions_features.csv\n",
    "\n",
    "df_sessions = pd.read_csv('data/ga_sessions_features.csv', low_memory=False)\n",
    "df_sessions.head()"
   ]
  },
  {
   "cell_type": "code",
   "execution_count": 23,
   "id": "c219b66d-0af7-48dc-a55c-feab4de191a0",
   "metadata": {
    "scrolled": true
   },
   "outputs": [
    {
     "data": {
      "text/html": [
       "<div>\n",
       "<style scoped>\n",
       "    .dataframe tbody tr th:only-of-type {\n",
       "        vertical-align: middle;\n",
       "    }\n",
       "\n",
       "    .dataframe tbody tr th {\n",
       "        vertical-align: top;\n",
       "    }\n",
       "\n",
       "    .dataframe thead th {\n",
       "        text-align: right;\n",
       "    }\n",
       "</style>\n",
       "<table border=\"1\" class=\"dataframe\">\n",
       "  <thead>\n",
       "    <tr style=\"text-align: right;\">\n",
       "      <th></th>\n",
       "      <th>session_id</th>\n",
       "      <th>client_id</th>\n",
       "      <th>visit_date</th>\n",
       "      <th>visit_time</th>\n",
       "      <th>visit_number</th>\n",
       "      <th>utm_source</th>\n",
       "      <th>utm_medium</th>\n",
       "      <th>utm_campaign</th>\n",
       "      <th>utm_adcontent</th>\n",
       "      <th>device_category</th>\n",
       "      <th>...</th>\n",
       "      <th>geo_country</th>\n",
       "      <th>geo_city</th>\n",
       "      <th>day_of_the_week</th>\n",
       "      <th>quarter_of_the_year</th>\n",
       "      <th>viewing_time</th>\n",
       "      <th>advert_social_media</th>\n",
       "      <th>organic_traffic</th>\n",
       "      <th>visit_big_city</th>\n",
       "      <th>moskow_area</th>\n",
       "      <th>target_action</th>\n",
       "    </tr>\n",
       "  </thead>\n",
       "  <tbody>\n",
       "    <tr>\n",
       "      <th>0</th>\n",
       "      <td>9055434745589932991.1637753792.1637753792</td>\n",
       "      <td>2108382700.1637753791</td>\n",
       "      <td>2021-11-24</td>\n",
       "      <td>14:36:32</td>\n",
       "      <td>1</td>\n",
       "      <td>ZpYIoDJMcFzVoPFsHGJL</td>\n",
       "      <td>banner</td>\n",
       "      <td>LEoPHuyFvzoNfnzGgfcd</td>\n",
       "      <td>vCIpmpaGBnIQhyYNkXqp</td>\n",
       "      <td>mobile</td>\n",
       "      <td>...</td>\n",
       "      <td>Russia</td>\n",
       "      <td>Zlatoust</td>\n",
       "      <td>Wednesday</td>\n",
       "      <td>4</td>\n",
       "      <td>day</td>\n",
       "      <td>0</td>\n",
       "      <td>0</td>\n",
       "      <td>0</td>\n",
       "      <td>0</td>\n",
       "      <td>0</td>\n",
       "    </tr>\n",
       "    <tr>\n",
       "      <th>1</th>\n",
       "      <td>905544597018549464.1636867290.1636867290</td>\n",
       "      <td>210838531.1636867288</td>\n",
       "      <td>2021-11-14</td>\n",
       "      <td>08:21:30</td>\n",
       "      <td>1</td>\n",
       "      <td>MvfHsxITijuriZxsqZqt</td>\n",
       "      <td>cpm</td>\n",
       "      <td>FTjNLDyTrXaWYgZymFkV</td>\n",
       "      <td>xhoenQgDQsgfEPYNPwKO</td>\n",
       "      <td>mobile</td>\n",
       "      <td>...</td>\n",
       "      <td>Russia</td>\n",
       "      <td>Moscow</td>\n",
       "      <td>Sunday</td>\n",
       "      <td>4</td>\n",
       "      <td>morning</td>\n",
       "      <td>0</td>\n",
       "      <td>0</td>\n",
       "      <td>1</td>\n",
       "      <td>0</td>\n",
       "      <td>0</td>\n",
       "    </tr>\n",
       "    <tr>\n",
       "      <th>2</th>\n",
       "      <td>9055446045651783499.1640648526.1640648526</td>\n",
       "      <td>2108385331.1640648523</td>\n",
       "      <td>2021-12-28</td>\n",
       "      <td>02:42:06</td>\n",
       "      <td>1</td>\n",
       "      <td>ZpYIoDJMcFzVoPFsHGJL</td>\n",
       "      <td>banner</td>\n",
       "      <td>LEoPHuyFvzoNfnzGgfcd</td>\n",
       "      <td>vCIpmpaGBnIQhyYNkXqp</td>\n",
       "      <td>mobile</td>\n",
       "      <td>...</td>\n",
       "      <td>Russia</td>\n",
       "      <td>Krasnoyarsk</td>\n",
       "      <td>Tuesday</td>\n",
       "      <td>4</td>\n",
       "      <td>night</td>\n",
       "      <td>0</td>\n",
       "      <td>0</td>\n",
       "      <td>0</td>\n",
       "      <td>0</td>\n",
       "      <td>0</td>\n",
       "    </tr>\n",
       "    <tr>\n",
       "      <th>3</th>\n",
       "      <td>9055447046360770272.1622255328.1622255328</td>\n",
       "      <td>2108385564.1622255328</td>\n",
       "      <td>2021-05-29</td>\n",
       "      <td>05:00:00</td>\n",
       "      <td>1</td>\n",
       "      <td>kjsLglQLzykiRbcDiGcD</td>\n",
       "      <td>cpc</td>\n",
       "      <td>gecBYcKZCPMcVYdSSzKP</td>\n",
       "      <td>other_content</td>\n",
       "      <td>mobile</td>\n",
       "      <td>...</td>\n",
       "      <td>Russia</td>\n",
       "      <td>Moscow</td>\n",
       "      <td>Saturday</td>\n",
       "      <td>2</td>\n",
       "      <td>night</td>\n",
       "      <td>0</td>\n",
       "      <td>0</td>\n",
       "      <td>1</td>\n",
       "      <td>0</td>\n",
       "      <td>0</td>\n",
       "    </tr>\n",
       "    <tr>\n",
       "      <th>4</th>\n",
       "      <td>9055447046360770272.1622255345.1622255345</td>\n",
       "      <td>2108385564.1622255328</td>\n",
       "      <td>2021-05-29</td>\n",
       "      <td>05:00:00</td>\n",
       "      <td>2</td>\n",
       "      <td>kjsLglQLzykiRbcDiGcD</td>\n",
       "      <td>cpc</td>\n",
       "      <td>gecBYcKZCPMcVYdSSzKP</td>\n",
       "      <td>other_content</td>\n",
       "      <td>mobile</td>\n",
       "      <td>...</td>\n",
       "      <td>Russia</td>\n",
       "      <td>Moscow</td>\n",
       "      <td>Saturday</td>\n",
       "      <td>2</td>\n",
       "      <td>night</td>\n",
       "      <td>0</td>\n",
       "      <td>0</td>\n",
       "      <td>1</td>\n",
       "      <td>0</td>\n",
       "      <td>0</td>\n",
       "    </tr>\n",
       "  </tbody>\n",
       "</table>\n",
       "<p>5 rows × 24 columns</p>\n",
       "</div>"
      ],
      "text/plain": [
       "                                  session_id              client_id  \\\n",
       "0  9055434745589932991.1637753792.1637753792  2108382700.1637753791   \n",
       "1   905544597018549464.1636867290.1636867290   210838531.1636867288   \n",
       "2  9055446045651783499.1640648526.1640648526  2108385331.1640648523   \n",
       "3  9055447046360770272.1622255328.1622255328  2108385564.1622255328   \n",
       "4  9055447046360770272.1622255345.1622255345  2108385564.1622255328   \n",
       "\n",
       "   visit_date visit_time  visit_number            utm_source utm_medium  \\\n",
       "0  2021-11-24   14:36:32             1  ZpYIoDJMcFzVoPFsHGJL     banner   \n",
       "1  2021-11-14   08:21:30             1  MvfHsxITijuriZxsqZqt        cpm   \n",
       "2  2021-12-28   02:42:06             1  ZpYIoDJMcFzVoPFsHGJL     banner   \n",
       "3  2021-05-29   05:00:00             1  kjsLglQLzykiRbcDiGcD        cpc   \n",
       "4  2021-05-29   05:00:00             2  kjsLglQLzykiRbcDiGcD        cpc   \n",
       "\n",
       "           utm_campaign         utm_adcontent device_category  ...  \\\n",
       "0  LEoPHuyFvzoNfnzGgfcd  vCIpmpaGBnIQhyYNkXqp          mobile  ...   \n",
       "1  FTjNLDyTrXaWYgZymFkV  xhoenQgDQsgfEPYNPwKO          mobile  ...   \n",
       "2  LEoPHuyFvzoNfnzGgfcd  vCIpmpaGBnIQhyYNkXqp          mobile  ...   \n",
       "3  gecBYcKZCPMcVYdSSzKP         other_content          mobile  ...   \n",
       "4  gecBYcKZCPMcVYdSSzKP         other_content          mobile  ...   \n",
       "\n",
       "  geo_country     geo_city day_of_the_week quarter_of_the_year viewing_time  \\\n",
       "0      Russia     Zlatoust       Wednesday                   4          day   \n",
       "1      Russia       Moscow          Sunday                   4      morning   \n",
       "2      Russia  Krasnoyarsk         Tuesday                   4        night   \n",
       "3      Russia       Moscow        Saturday                   2        night   \n",
       "4      Russia       Moscow        Saturday                   2        night   \n",
       "\n",
       "  advert_social_media organic_traffic  visit_big_city moskow_area  \\\n",
       "0                   0               0               0           0   \n",
       "1                   0               0               1           0   \n",
       "2                   0               0               0           0   \n",
       "3                   0               0               1           0   \n",
       "4                   0               0               1           0   \n",
       "\n",
       "   target_action  \n",
       "0              0  \n",
       "1              0  \n",
       "2              0  \n",
       "3              0  \n",
       "4              0  \n",
       "\n",
       "[5 rows x 24 columns]"
      ]
     },
     "execution_count": 23,
     "metadata": {},
     "output_type": "execute_result"
    }
   ],
   "source": [
    "# добавлю target_action и сохрню в новый датафрейм \n",
    "df_full = pd.merge(left=df_sessions, right=target_action, on='session_id', how='inner')\n",
    "df_full.head()"
   ]
  },
  {
   "cell_type": "code",
   "execution_count": 24,
   "id": "5998bda4-1239-46dd-984a-07e3e3385f53",
   "metadata": {},
   "outputs": [
    {
     "data": {
      "text/plain": [
       "(1732266, 24)"
      ]
     },
     "execution_count": 24,
     "metadata": {},
     "output_type": "execute_result"
    }
   ],
   "source": [
    "# получившийся общий датафрейм размером\n",
    "df_full.shape"
   ]
  },
  {
   "cell_type": "code",
   "execution_count": 25,
   "id": "11937a8a-c60b-49d9-ac79-470c1e2bde92",
   "metadata": {},
   "outputs": [
    {
     "data": {
      "text/plain": [
       "session_id                  0\n",
       "client_id                   0\n",
       "visit_date                  0\n",
       "visit_time                  0\n",
       "visit_number                0\n",
       "utm_source                  0\n",
       "utm_medium                  0\n",
       "utm_campaign                0\n",
       "utm_adcontent               0\n",
       "device_category             0\n",
       "device_os                   0\n",
       "device_brand                0\n",
       "device_screen_resolution    0\n",
       "device_browser              0\n",
       "geo_country                 0\n",
       "geo_city                    0\n",
       "day_of_the_week             0\n",
       "quarter_of_the_year         0\n",
       "viewing_time                0\n",
       "advert_social_media         0\n",
       "organic_traffic             0\n",
       "visit_big_city              0\n",
       "moskow_area                 0\n",
       "target_action               0\n",
       "dtype: int64"
      ]
     },
     "execution_count": 25,
     "metadata": {},
     "output_type": "execute_result"
    }
   ],
   "source": [
    "# проверка на пропуски\n",
    "df_full.isna().sum()"
   ]
  },
  {
   "cell_type": "code",
   "execution_count": 26,
   "id": "23e555b7-a4b1-4aa9-a8b2-f9d8f970e619",
   "metadata": {},
   "outputs": [],
   "source": [
    "# сохраню в файл датафрейм\n",
    "df_full.to_csv('data/ga_df_full.csv', index=False)"
   ]
  },
  {
   "cell_type": "code",
   "execution_count": 27,
   "id": "98600682-757c-4758-986f-062341316571",
   "metadata": {},
   "outputs": [],
   "source": [
    "## Загрузка данных, для предобработки"
   ]
  },
  {
   "cell_type": "code",
   "execution_count": 28,
   "id": "ae82bc27-9101-4e71-84a6-8b79375e6d6a",
   "metadata": {},
   "outputs": [],
   "source": [
    "df_full = pd.read_csv('data/ga_df_full.csv', low_memory=False )"
   ]
  },
  {
   "cell_type": "code",
   "execution_count": 29,
   "id": "15928d94-b52e-468d-ac63-3ef136e12ab6",
   "metadata": {},
   "outputs": [],
   "source": [
    "# удалю некоторые  исходные признаки чтобы не было корреляции\n",
    "# 'session_id',\n",
    "columns_on_drop = [ 'client_id', 'visit_number', 'visit_date', 'visit_time', 'utm_source', 'utm_medium',\n",
    "                   'device_screen_resolution', 'geo_city']\n",
    "df_full.drop(columns=columns_on_drop, inplace=True)"
   ]
  },
  {
   "cell_type": "code",
   "execution_count": 30,
   "id": "0dc1be71-2bf1-4d2f-8191-0a4fbfae0f5b",
   "metadata": {},
   "outputs": [
    {
     "data": {
      "text/html": [
       "<div>\n",
       "<style scoped>\n",
       "    .dataframe tbody tr th:only-of-type {\n",
       "        vertical-align: middle;\n",
       "    }\n",
       "\n",
       "    .dataframe tbody tr th {\n",
       "        vertical-align: top;\n",
       "    }\n",
       "\n",
       "    .dataframe thead th {\n",
       "        text-align: right;\n",
       "    }\n",
       "</style>\n",
       "<table border=\"1\" class=\"dataframe\">\n",
       "  <thead>\n",
       "    <tr style=\"text-align: right;\">\n",
       "      <th></th>\n",
       "      <th>session_id</th>\n",
       "      <th>utm_campaign</th>\n",
       "      <th>utm_adcontent</th>\n",
       "      <th>device_category</th>\n",
       "      <th>device_os</th>\n",
       "      <th>device_brand</th>\n",
       "      <th>device_browser</th>\n",
       "      <th>geo_country</th>\n",
       "      <th>day_of_the_week</th>\n",
       "      <th>quarter_of_the_year</th>\n",
       "      <th>viewing_time</th>\n",
       "      <th>advert_social_media</th>\n",
       "      <th>organic_traffic</th>\n",
       "      <th>visit_big_city</th>\n",
       "      <th>moskow_area</th>\n",
       "      <th>target_action</th>\n",
       "    </tr>\n",
       "  </thead>\n",
       "  <tbody>\n",
       "    <tr>\n",
       "      <th>0</th>\n",
       "      <td>9055434745589932991.1637753792.1637753792</td>\n",
       "      <td>LEoPHuyFvzoNfnzGgfcd</td>\n",
       "      <td>vCIpmpaGBnIQhyYNkXqp</td>\n",
       "      <td>mobile</td>\n",
       "      <td>Android</td>\n",
       "      <td>Huawei</td>\n",
       "      <td>Chrome</td>\n",
       "      <td>Russia</td>\n",
       "      <td>Wednesday</td>\n",
       "      <td>4</td>\n",
       "      <td>day</td>\n",
       "      <td>0</td>\n",
       "      <td>0</td>\n",
       "      <td>0</td>\n",
       "      <td>0</td>\n",
       "      <td>0</td>\n",
       "    </tr>\n",
       "    <tr>\n",
       "      <th>1</th>\n",
       "      <td>905544597018549464.1636867290.1636867290</td>\n",
       "      <td>FTjNLDyTrXaWYgZymFkV</td>\n",
       "      <td>xhoenQgDQsgfEPYNPwKO</td>\n",
       "      <td>mobile</td>\n",
       "      <td>Android</td>\n",
       "      <td>Samsung</td>\n",
       "      <td>Samsung Internet</td>\n",
       "      <td>Russia</td>\n",
       "      <td>Sunday</td>\n",
       "      <td>4</td>\n",
       "      <td>morning</td>\n",
       "      <td>0</td>\n",
       "      <td>0</td>\n",
       "      <td>1</td>\n",
       "      <td>0</td>\n",
       "      <td>0</td>\n",
       "    </tr>\n",
       "    <tr>\n",
       "      <th>2</th>\n",
       "      <td>9055446045651783499.1640648526.1640648526</td>\n",
       "      <td>LEoPHuyFvzoNfnzGgfcd</td>\n",
       "      <td>vCIpmpaGBnIQhyYNkXqp</td>\n",
       "      <td>mobile</td>\n",
       "      <td>Android</td>\n",
       "      <td>Huawei</td>\n",
       "      <td>Chrome</td>\n",
       "      <td>Russia</td>\n",
       "      <td>Tuesday</td>\n",
       "      <td>4</td>\n",
       "      <td>night</td>\n",
       "      <td>0</td>\n",
       "      <td>0</td>\n",
       "      <td>0</td>\n",
       "      <td>0</td>\n",
       "      <td>0</td>\n",
       "    </tr>\n",
       "    <tr>\n",
       "      <th>3</th>\n",
       "      <td>9055447046360770272.1622255328.1622255328</td>\n",
       "      <td>gecBYcKZCPMcVYdSSzKP</td>\n",
       "      <td>other_content</td>\n",
       "      <td>mobile</td>\n",
       "      <td>Android</td>\n",
       "      <td>Xiaomi</td>\n",
       "      <td>Chrome</td>\n",
       "      <td>Russia</td>\n",
       "      <td>Saturday</td>\n",
       "      <td>2</td>\n",
       "      <td>night</td>\n",
       "      <td>0</td>\n",
       "      <td>0</td>\n",
       "      <td>1</td>\n",
       "      <td>0</td>\n",
       "      <td>0</td>\n",
       "    </tr>\n",
       "    <tr>\n",
       "      <th>4</th>\n",
       "      <td>9055447046360770272.1622255345.1622255345</td>\n",
       "      <td>gecBYcKZCPMcVYdSSzKP</td>\n",
       "      <td>other_content</td>\n",
       "      <td>mobile</td>\n",
       "      <td>Android</td>\n",
       "      <td>Xiaomi</td>\n",
       "      <td>Chrome</td>\n",
       "      <td>Russia</td>\n",
       "      <td>Saturday</td>\n",
       "      <td>2</td>\n",
       "      <td>night</td>\n",
       "      <td>0</td>\n",
       "      <td>0</td>\n",
       "      <td>1</td>\n",
       "      <td>0</td>\n",
       "      <td>0</td>\n",
       "    </tr>\n",
       "  </tbody>\n",
       "</table>\n",
       "</div>"
      ],
      "text/plain": [
       "                                  session_id          utm_campaign  \\\n",
       "0  9055434745589932991.1637753792.1637753792  LEoPHuyFvzoNfnzGgfcd   \n",
       "1   905544597018549464.1636867290.1636867290  FTjNLDyTrXaWYgZymFkV   \n",
       "2  9055446045651783499.1640648526.1640648526  LEoPHuyFvzoNfnzGgfcd   \n",
       "3  9055447046360770272.1622255328.1622255328  gecBYcKZCPMcVYdSSzKP   \n",
       "4  9055447046360770272.1622255345.1622255345  gecBYcKZCPMcVYdSSzKP   \n",
       "\n",
       "          utm_adcontent device_category device_os device_brand  \\\n",
       "0  vCIpmpaGBnIQhyYNkXqp          mobile   Android       Huawei   \n",
       "1  xhoenQgDQsgfEPYNPwKO          mobile   Android      Samsung   \n",
       "2  vCIpmpaGBnIQhyYNkXqp          mobile   Android       Huawei   \n",
       "3         other_content          mobile   Android       Xiaomi   \n",
       "4         other_content          mobile   Android       Xiaomi   \n",
       "\n",
       "     device_browser geo_country day_of_the_week  quarter_of_the_year  \\\n",
       "0            Chrome      Russia       Wednesday                    4   \n",
       "1  Samsung Internet      Russia          Sunday                    4   \n",
       "2            Chrome      Russia         Tuesday                    4   \n",
       "3            Chrome      Russia        Saturday                    2   \n",
       "4            Chrome      Russia        Saturday                    2   \n",
       "\n",
       "  viewing_time  advert_social_media  organic_traffic  visit_big_city  \\\n",
       "0          day                    0                0               0   \n",
       "1      morning                    0                0               1   \n",
       "2        night                    0                0               0   \n",
       "3        night                    0                0               1   \n",
       "4        night                    0                0               1   \n",
       "\n",
       "   moskow_area  target_action  \n",
       "0            0              0  \n",
       "1            0              0  \n",
       "2            0              0  \n",
       "3            0              0  \n",
       "4            0              0  "
      ]
     },
     "execution_count": 30,
     "metadata": {},
     "output_type": "execute_result"
    }
   ],
   "source": [
    "df_full.head()"
   ]
  },
  {
   "cell_type": "code",
   "execution_count": 37,
   "id": "c53fc76c-d514-472d-a47b-1c0248dadb23",
   "metadata": {},
   "outputs": [
    {
     "data": {
      "text/plain": [
       "Index(['session_id', 'utm_campaign', 'utm_adcontent', 'device_category',\n",
       "       'device_os', 'device_brand', 'device_browser', 'geo_country',\n",
       "       'day_of_the_week', 'quarter_of_the_year', 'viewing_time',\n",
       "       'advert_social_media', 'organic_traffic', 'visit_big_city',\n",
       "       'moskow_area', 'target_action'],\n",
       "      dtype='object')"
      ]
     },
     "execution_count": 37,
     "metadata": {},
     "output_type": "execute_result"
    }
   ],
   "source": [
    "df_full.columns"
   ]
  },
  {
   "cell_type": "code",
   "execution_count": 31,
   "id": "4fe1801c-0ab7-46fd-a00c-25b5ca657003",
   "metadata": {},
   "outputs": [],
   "source": [
    "# # сохраню преобработанный в файл датафрейм для моделирования\n",
    "df_full.to_csv('data/ga_full.csv', index=False)"
   ]
  },
  {
   "cell_type": "code",
   "execution_count": 32,
   "id": "1bb63559-be54-4be3-abbc-55fd8e3a9b5f",
   "metadata": {},
   "outputs": [
    {
     "name": "stdout",
     "output_type": "stream",
     "text": [
      "<class 'pandas.core.frame.DataFrame'>\n",
      "RangeIndex: 1732266 entries, 0 to 1732265\n",
      "Data columns (total 16 columns):\n",
      " #   Column               Dtype \n",
      "---  ------               ----- \n",
      " 0   session_id           object\n",
      " 1   utm_campaign         object\n",
      " 2   utm_adcontent        object\n",
      " 3   device_category      object\n",
      " 4   device_os            object\n",
      " 5   device_brand         object\n",
      " 6   device_browser       object\n",
      " 7   geo_country          object\n",
      " 8   day_of_the_week      object\n",
      " 9   quarter_of_the_year  int64 \n",
      " 10  viewing_time         object\n",
      " 11  advert_social_media  int64 \n",
      " 12  organic_traffic      int64 \n",
      " 13  visit_big_city       int64 \n",
      " 14  moskow_area          int64 \n",
      " 15  target_action        int64 \n",
      "dtypes: int64(6), object(10)\n",
      "memory usage: 211.5+ MB\n"
     ]
    }
   ],
   "source": [
    "# просмотр типов данных\n",
    "df_full.info()"
   ]
  },
  {
   "cell_type": "code",
   "execution_count": 33,
   "id": "999afd87-1f26-4ebc-8f72-b2d37dad8d1b",
   "metadata": {},
   "outputs": [
    {
     "name": "stdout",
     "output_type": "stream",
     "text": [
      "session_id 1732266\n",
      "utm_campaign 5\n",
      "utm_adcontent 5\n",
      "device_category 3\n",
      "device_os 7\n",
      "device_brand 5\n",
      "device_browser 9\n",
      "geo_country 2\n",
      "day_of_the_week 7\n",
      "quarter_of_the_year 3\n",
      "viewing_time 4\n",
      "advert_social_media 2\n",
      "organic_traffic 2\n",
      "visit_big_city 2\n",
      "moskow_area 2\n",
      "target_action 2\n"
     ]
    }
   ],
   "source": [
    "# просмотр количества уникальных значений в данных\n",
    "for col in df_full.columns:\n",
    "    print(col, df_full[col].nunique())"
   ]
  },
  {
   "cell_type": "code",
   "execution_count": 34,
   "id": "ee9222b4-1861-4618-999c-e192b0f1b5d5",
   "metadata": {},
   "outputs": [
    {
     "data": {
      "text/plain": [
       "0"
      ]
     },
     "execution_count": 34,
     "metadata": {},
     "output_type": "execute_result"
    }
   ],
   "source": [
    "df_full.duplicated().sum()"
   ]
  },
  {
   "cell_type": "code",
   "execution_count": 35,
   "id": "2747bfbb-5610-4c8f-8629-377676aedcc0",
   "metadata": {},
   "outputs": [
    {
     "data": {
      "text/plain": [
       "(1732266, 16)"
      ]
     },
     "execution_count": 35,
     "metadata": {},
     "output_type": "execute_result"
    }
   ],
   "source": [
    "df_full.shape"
   ]
  },
  {
   "cell_type": "code",
   "execution_count": null,
   "id": "7f86e277-5fe8-4072-9560-7ca5dd75a777",
   "metadata": {},
   "outputs": [],
   "source": []
  },
  {
   "cell_type": "code",
   "execution_count": null,
   "id": "408a96d3-7317-4cea-9d8e-b541de5da018",
   "metadata": {},
   "outputs": [],
   "source": []
  },
  {
   "cell_type": "code",
   "execution_count": null,
   "id": "c8721148-edf2-4697-aa12-b6ba304fcd33",
   "metadata": {},
   "outputs": [],
   "source": []
  },
  {
   "cell_type": "code",
   "execution_count": null,
   "id": "12dc9c9d-5b5e-43ed-9715-f13f6925d874",
   "metadata": {},
   "outputs": [],
   "source": []
  },
  {
   "cell_type": "code",
   "execution_count": null,
   "id": "7da2b5be-a5a4-4a78-a15f-beb28de14dab",
   "metadata": {},
   "outputs": [],
   "source": []
  },
  {
   "cell_type": "code",
   "execution_count": null,
   "id": "bc04785a-ed79-4ff2-b86e-3350c7c12242",
   "metadata": {},
   "outputs": [],
   "source": []
  },
  {
   "cell_type": "code",
   "execution_count": null,
   "id": "a661ceed-e7e5-403d-8621-a9c0a1289455",
   "metadata": {},
   "outputs": [],
   "source": []
  }
 ],
 "metadata": {
  "kernelspec": {
   "display_name": "Python 3 (ipykernel)",
   "language": "python",
   "name": "python3"
  },
  "language_info": {
   "codemirror_mode": {
    "name": "ipython",
    "version": 3
   },
   "file_extension": ".py",
   "mimetype": "text/x-python",
   "name": "python",
   "nbconvert_exporter": "python",
   "pygments_lexer": "ipython3",
   "version": "3.12.7"
  }
 },
 "nbformat": 4,
 "nbformat_minor": 5
}
